{
 "cells": [
  {
   "cell_type": "markdown",
   "metadata": {},
   "source": [
    "# 4장 데이터 전처리"
   ]
  },
  {
   "cell_type": "code",
   "execution_count": 1,
   "metadata": {},
   "outputs": [],
   "source": [
    "from IPython.core.interactiveshell import InteractiveShell\n",
    "InteractiveShell.ast_node_interactivity = 'all'\n",
    "import pandas as pd\n",
    "import numpy as np\n",
    "import matplotlib.pyplot as plt\n",
    "plt.rcParams['font.family']='Malgun Gothic'\n",
    "import warnings\n",
    "warnings.filterwarnings('ignore')"
   ]
  },
  {
   "cell_type": "code",
   "execution_count": 2,
   "metadata": {},
   "outputs": [
    {
     "data": {
      "text/plain": [
       "(4000, 39)"
      ]
     },
     "execution_count": 2,
     "metadata": {},
     "output_type": "execute_result"
    },
    {
     "data": {
      "text/html": [
       "<div>\n",
       "<style scoped>\n",
       "    .dataframe tbody tr th:only-of-type {\n",
       "        vertical-align: middle;\n",
       "    }\n",
       "\n",
       "    .dataframe tbody tr th {\n",
       "        vertical-align: top;\n",
       "    }\n",
       "\n",
       "    .dataframe thead th {\n",
       "        text-align: right;\n",
       "    }\n",
       "</style>\n",
       "<table border=\"1\" class=\"dataframe\">\n",
       "  <thead>\n",
       "    <tr style=\"text-align: right;\">\n",
       "      <th></th>\n",
       "      <th>성별</th>\n",
       "      <th>연령(1세)</th>\n",
       "      <th>지역(권역)</th>\n",
       "      <th>직업</th>\n",
       "      <th>가구 월평균 소득(1)</th>\n",
       "      <th>최종학력</th>\n",
       "      <th>주거 형태</th>\n",
       "      <th>결혼 여부</th>\n",
       "      <th>자녀 총 수</th>\n",
       "      <th>평일 인터넷 이용시간(분)</th>\n",
       "      <th>...</th>\n",
       "      <th>TV 시청 시 즐겨 보는 국내 드라마 장르-내용.2</th>\n",
       "      <th>TV 시청 시 즐겨 보는 국내 드라마 장르-내용.3</th>\n",
       "      <th>TV 시청 시 즐겨 보는 국내 드라마 장르-내용.4</th>\n",
       "      <th>TV 시청 시 즐겨 보는 국내 드라마 장르-내용.5</th>\n",
       "      <th>TV 시청 시 즐겨 보는 국내 드라마 장르-내용.6</th>\n",
       "      <th>TV 시청 시 즐겨 보는 국내 드라마 장르-내용.7</th>\n",
       "      <th>TV 시청 시 즐겨 보는 국내 드라마 장르-내용.8</th>\n",
       "      <th>TV 시청 시 즐겨 보는 국내 드라마 장르-내용.9</th>\n",
       "      <th>PPL(간접광고) 평가 - 제품/브랜드 구매의향</th>\n",
       "      <th>구매</th>\n",
       "    </tr>\n",
       "  </thead>\n",
       "  <tbody>\n",
       "    <tr>\n",
       "      <th>0</th>\n",
       "      <td>1</td>\n",
       "      <td>14</td>\n",
       "      <td>1</td>\n",
       "      <td>6</td>\n",
       "      <td>6</td>\n",
       "      <td>8</td>\n",
       "      <td>3</td>\n",
       "      <td>2</td>\n",
       "      <td>99</td>\n",
       "      <td>0.0</td>\n",
       "      <td>...</td>\n",
       "      <td>10.0</td>\n",
       "      <td>13</td>\n",
       "      <td>NaN</td>\n",
       "      <td>NaN</td>\n",
       "      <td>NaN</td>\n",
       "      <td>NaN</td>\n",
       "      <td>NaN</td>\n",
       "      <td>NaN</td>\n",
       "      <td>4</td>\n",
       "      <td>4</td>\n",
       "    </tr>\n",
       "    <tr>\n",
       "      <th>1</th>\n",
       "      <td>1</td>\n",
       "      <td>14</td>\n",
       "      <td>1</td>\n",
       "      <td>6</td>\n",
       "      <td>6</td>\n",
       "      <td>8</td>\n",
       "      <td>1</td>\n",
       "      <td>2</td>\n",
       "      <td>99</td>\n",
       "      <td>30.0</td>\n",
       "      <td>...</td>\n",
       "      <td>11.0</td>\n",
       "      <td>NaN</td>\n",
       "      <td>NaN</td>\n",
       "      <td>NaN</td>\n",
       "      <td>NaN</td>\n",
       "      <td>NaN</td>\n",
       "      <td>NaN</td>\n",
       "      <td>NaN</td>\n",
       "      <td>2</td>\n",
       "      <td>2</td>\n",
       "    </tr>\n",
       "    <tr>\n",
       "      <th>2</th>\n",
       "      <td>1</td>\n",
       "      <td>14</td>\n",
       "      <td>1</td>\n",
       "      <td>6</td>\n",
       "      <td>6</td>\n",
       "      <td>8</td>\n",
       "      <td>2</td>\n",
       "      <td>2</td>\n",
       "      <td>99</td>\n",
       "      <td>90.0</td>\n",
       "      <td>...</td>\n",
       "      <td>12.0</td>\n",
       "      <td>14</td>\n",
       "      <td>NaN</td>\n",
       "      <td>NaN</td>\n",
       "      <td>NaN</td>\n",
       "      <td>NaN</td>\n",
       "      <td>NaN</td>\n",
       "      <td>NaN</td>\n",
       "      <td>5</td>\n",
       "      <td>5</td>\n",
       "    </tr>\n",
       "    <tr>\n",
       "      <th>3</th>\n",
       "      <td>1</td>\n",
       "      <td>14</td>\n",
       "      <td>1</td>\n",
       "      <td>6</td>\n",
       "      <td>8</td>\n",
       "      <td>8</td>\n",
       "      <td>1</td>\n",
       "      <td>2</td>\n",
       "      <td>99</td>\n",
       "      <td>NaN</td>\n",
       "      <td>...</td>\n",
       "      <td>NaN</td>\n",
       "      <td>NaN</td>\n",
       "      <td>NaN</td>\n",
       "      <td>NaN</td>\n",
       "      <td>NaN</td>\n",
       "      <td>NaN</td>\n",
       "      <td>NaN</td>\n",
       "      <td>NaN</td>\n",
       "      <td>2</td>\n",
       "      <td>2</td>\n",
       "    </tr>\n",
       "    <tr>\n",
       "      <th>4</th>\n",
       "      <td>1</td>\n",
       "      <td>14</td>\n",
       "      <td>1</td>\n",
       "      <td>6</td>\n",
       "      <td>9</td>\n",
       "      <td>8</td>\n",
       "      <td>1</td>\n",
       "      <td>2</td>\n",
       "      <td>99</td>\n",
       "      <td>0.0</td>\n",
       "      <td>...</td>\n",
       "      <td>10.0</td>\n",
       "      <td>11</td>\n",
       "      <td>NaN</td>\n",
       "      <td>NaN</td>\n",
       "      <td>NaN</td>\n",
       "      <td>NaN</td>\n",
       "      <td>NaN</td>\n",
       "      <td>NaN</td>\n",
       "      <td>3</td>\n",
       "      <td>3</td>\n",
       "    </tr>\n",
       "  </tbody>\n",
       "</table>\n",
       "<p>5 rows × 39 columns</p>\n",
       "</div>"
      ],
      "text/plain": [
       "   성별  연령(1세)  지역(권역)  직업  가구 월평균 소득(1)  최종학력  주거 형태  결혼 여부  자녀 총 수  \\\n",
       "0   1      14       1   6             6     8      3      2      99   \n",
       "1   1      14       1   6             6     8      1      2      99   \n",
       "2   1      14       1   6             6     8      2      2      99   \n",
       "3   1      14       1   6             8     8      1      2      99   \n",
       "4   1      14       1   6             9     8      1      2      99   \n",
       "\n",
       "   평일 인터넷 이용시간(분)  ...  TV 시청 시 즐겨 보는 국내 드라마 장르-내용.2  \\\n",
       "0             0.0  ...                          10.0   \n",
       "1            30.0  ...                          11.0   \n",
       "2            90.0  ...                          12.0   \n",
       "3             NaN  ...                           NaN   \n",
       "4             0.0  ...                          10.0   \n",
       "\n",
       "   TV 시청 시 즐겨 보는 국내 드라마 장르-내용.3  TV 시청 시 즐겨 보는 국내 드라마 장르-내용.4  \\\n",
       "0                            13                           NaN   \n",
       "1                           NaN                           NaN   \n",
       "2                            14                           NaN   \n",
       "3                           NaN                           NaN   \n",
       "4                            11                           NaN   \n",
       "\n",
       "   TV 시청 시 즐겨 보는 국내 드라마 장르-내용.5  TV 시청 시 즐겨 보는 국내 드라마 장르-내용.6  \\\n",
       "0                           NaN                           NaN   \n",
       "1                           NaN                           NaN   \n",
       "2                           NaN                           NaN   \n",
       "3                           NaN                           NaN   \n",
       "4                           NaN                           NaN   \n",
       "\n",
       "   TV 시청 시 즐겨 보는 국내 드라마 장르-내용.7  TV 시청 시 즐겨 보는 국내 드라마 장르-내용.8  \\\n",
       "0                           NaN                           NaN   \n",
       "1                           NaN                           NaN   \n",
       "2                           NaN                           NaN   \n",
       "3                           NaN                           NaN   \n",
       "4                           NaN                           NaN   \n",
       "\n",
       "   TV 시청 시 즐겨 보는 국내 드라마 장르-내용.9  PPL(간접광고) 평가 - 제품/브랜드 구매의향  구매  \n",
       "0                           NaN                           4   4  \n",
       "1                           NaN                           2   2  \n",
       "2                           NaN                           5   5  \n",
       "3                           NaN                           2   2  \n",
       "4                           NaN                           3   3  \n",
       "\n",
       "[5 rows x 39 columns]"
      ]
     },
     "execution_count": 2,
     "metadata": {},
     "output_type": "execute_result"
    }
   ],
   "source": [
    "df = pd.read_pickle('../data/MCR2019.pkl')\n",
    "df['구매'] = df.iloc[:,-1]\n",
    "df.shape\n",
    "df.head()"
   ]
  },
  {
   "cell_type": "code",
   "execution_count": null,
   "metadata": {},
   "outputs": [],
   "source": []
  },
  {
   "cell_type": "markdown",
   "metadata": {},
   "source": [
    "## 4.1 결측치(missing value) 대체"
   ]
  },
  {
   "cell_type": "code",
   "execution_count": 3,
   "metadata": {},
   "outputs": [
    {
     "data": {
      "text/plain": [
       "<matplotlib.axes._subplots.AxesSubplot at 0x1e67f8d3688>"
      ]
     },
     "execution_count": 3,
     "metadata": {},
     "output_type": "execute_result"
    },
    {
     "data": {
      "image/png": "[encoded data removed]",
      "text/plain": [
       "<Figure size 1440x216 with 3 Axes>"
      ]
     },
     "metadata": {
      "needs_background": "light"
     },
     "output_type": "display_data"
    }
   ],
   "source": [
    "import missingno as msno \n",
    "msno.bar(df, figsize=(20,3)) "
   ]
  },
  {
   "cell_type": "code",
   "execution_count": 4,
   "metadata": {},
   "outputs": [
    {
     "data": {
      "text/html": [
       "<div>\n",
       "<style scoped>\n",
       "    .dataframe tbody tr th:only-of-type {\n",
       "        vertical-align: middle;\n",
       "    }\n",
       "\n",
       "    .dataframe tbody tr th {\n",
       "        vertical-align: top;\n",
       "    }\n",
       "\n",
       "    .dataframe thead th {\n",
       "        text-align: right;\n",
       "    }\n",
       "</style>\n",
       "<table border=\"1\" class=\"dataframe\">\n",
       "  <thead>\n",
       "    <tr style=\"text-align: right;\">\n",
       "      <th></th>\n",
       "      <th>데이터형태(dtypes)</th>\n",
       "      <th>비 결측치 수(notnull</th>\n",
       "      <th>결측치 수(null)</th>\n",
       "      <th>고유값 수(nunique)</th>\n",
       "    </tr>\n",
       "  </thead>\n",
       "  <tbody>\n",
       "    <tr>\n",
       "      <th>성별</th>\n",
       "      <td>int64</td>\n",
       "      <td>4000</td>\n",
       "      <td>0</td>\n",
       "      <td>2</td>\n",
       "    </tr>\n",
       "    <tr>\n",
       "      <th>연령(1세)</th>\n",
       "      <td>int64</td>\n",
       "      <td>4000</td>\n",
       "      <td>0</td>\n",
       "      <td>57</td>\n",
       "    </tr>\n",
       "    <tr>\n",
       "      <th>지역(권역)</th>\n",
       "      <td>int64</td>\n",
       "      <td>4000</td>\n",
       "      <td>0</td>\n",
       "      <td>7</td>\n",
       "    </tr>\n",
       "    <tr>\n",
       "      <th>직업</th>\n",
       "      <td>int64</td>\n",
       "      <td>4000</td>\n",
       "      <td>0</td>\n",
       "      <td>7</td>\n",
       "    </tr>\n",
       "    <tr>\n",
       "      <th>가구 월평균 소득(1)</th>\n",
       "      <td>int64</td>\n",
       "      <td>4000</td>\n",
       "      <td>0</td>\n",
       "      <td>12</td>\n",
       "    </tr>\n",
       "    <tr>\n",
       "      <th>최종학력</th>\n",
       "      <td>int64</td>\n",
       "      <td>4000</td>\n",
       "      <td>0</td>\n",
       "      <td>12</td>\n",
       "    </tr>\n",
       "    <tr>\n",
       "      <th>주거 형태</th>\n",
       "      <td>int64</td>\n",
       "      <td>4000</td>\n",
       "      <td>0</td>\n",
       "      <td>5</td>\n",
       "    </tr>\n",
       "    <tr>\n",
       "      <th>결혼 여부</th>\n",
       "      <td>int64</td>\n",
       "      <td>4000</td>\n",
       "      <td>0</td>\n",
       "      <td>3</td>\n",
       "    </tr>\n",
       "    <tr>\n",
       "      <th>자녀 총 수</th>\n",
       "      <td>int64</td>\n",
       "      <td>4000</td>\n",
       "      <td>0</td>\n",
       "      <td>4</td>\n",
       "    </tr>\n",
       "    <tr>\n",
       "      <th>평일 인터넷 이용시간(분)</th>\n",
       "      <td>float64</td>\n",
       "      <td>2603</td>\n",
       "      <td>1397</td>\n",
       "      <td>37</td>\n",
       "    </tr>\n",
       "    <tr>\n",
       "      <th>토요일 인터넷 이용시간(분)</th>\n",
       "      <td>float64</td>\n",
       "      <td>2603</td>\n",
       "      <td>1397</td>\n",
       "      <td>35</td>\n",
       "    </tr>\n",
       "    <tr>\n",
       "      <th>일요일 인터넷 이용시간(분)</th>\n",
       "      <td>float64</td>\n",
       "      <td>2603</td>\n",
       "      <td>1397</td>\n",
       "      <td>31</td>\n",
       "    </tr>\n",
       "    <tr>\n",
       "      <th>평일 하루 평균 모바일 인터넷 이용 시간(분)</th>\n",
       "      <td>float64</td>\n",
       "      <td>3814</td>\n",
       "      <td>186</td>\n",
       "      <td>36</td>\n",
       "    </tr>\n",
       "    <tr>\n",
       "      <th>토요일 하루 평균 모바일 인터넷 이용 시간(분)</th>\n",
       "      <td>float64</td>\n",
       "      <td>3814</td>\n",
       "      <td>186</td>\n",
       "      <td>39</td>\n",
       "    </tr>\n",
       "    <tr>\n",
       "      <th>일요일 하루 평균 모바일 인터넷 이용 시간(분)</th>\n",
       "      <td>float64</td>\n",
       "      <td>3814</td>\n",
       "      <td>186</td>\n",
       "      <td>39</td>\n",
       "    </tr>\n",
       "    <tr>\n",
       "      <th>즐겨 보는 TV 프로그램 장르</th>\n",
       "      <td>int64</td>\n",
       "      <td>4000</td>\n",
       "      <td>0</td>\n",
       "      <td>12</td>\n",
       "    </tr>\n",
       "    <tr>\n",
       "      <th>즐겨 보는 TV 프로그램 장르.1</th>\n",
       "      <td>float64</td>\n",
       "      <td>3857</td>\n",
       "      <td>143</td>\n",
       "      <td>15</td>\n",
       "    </tr>\n",
       "    <tr>\n",
       "      <th>즐겨 보는 TV 프로그램 장르.2</th>\n",
       "      <td>float64</td>\n",
       "      <td>3415</td>\n",
       "      <td>585</td>\n",
       "      <td>15</td>\n",
       "    </tr>\n",
       "    <tr>\n",
       "      <th>즐겨 보는 TV 프로그램 장르.3</th>\n",
       "      <td>float64</td>\n",
       "      <td>2570</td>\n",
       "      <td>1430</td>\n",
       "      <td>16</td>\n",
       "    </tr>\n",
       "    <tr>\n",
       "      <th>즐겨 보는 TV 프로그램 장르.4</th>\n",
       "      <td>float64</td>\n",
       "      <td>1576</td>\n",
       "      <td>2424</td>\n",
       "      <td>14</td>\n",
       "    </tr>\n",
       "    <tr>\n",
       "      <th>즐겨 보는 TV 프로그램 장르.5</th>\n",
       "      <td>float64</td>\n",
       "      <td>877</td>\n",
       "      <td>3123</td>\n",
       "      <td>13</td>\n",
       "    </tr>\n",
       "    <tr>\n",
       "      <th>즐겨 보는 TV 프로그램 장르.6</th>\n",
       "      <td>float64</td>\n",
       "      <td>453</td>\n",
       "      <td>3547</td>\n",
       "      <td>13</td>\n",
       "    </tr>\n",
       "    <tr>\n",
       "      <th>즐겨 보는 TV 프로그램 장르.7</th>\n",
       "      <td>object</td>\n",
       "      <td>242</td>\n",
       "      <td>3758</td>\n",
       "      <td>11</td>\n",
       "    </tr>\n",
       "    <tr>\n",
       "      <th>즐겨 보는 TV 프로그램 장르.8</th>\n",
       "      <td>object</td>\n",
       "      <td>139</td>\n",
       "      <td>3861</td>\n",
       "      <td>11</td>\n",
       "    </tr>\n",
       "    <tr>\n",
       "      <th>즐겨 보는 TV 프로그램 장르.9</th>\n",
       "      <td>object</td>\n",
       "      <td>84</td>\n",
       "      <td>3916</td>\n",
       "      <td>8</td>\n",
       "    </tr>\n",
       "    <tr>\n",
       "      <th>즐겨 보는 TV 프로그램 장르.10</th>\n",
       "      <td>object</td>\n",
       "      <td>44</td>\n",
       "      <td>3956</td>\n",
       "      <td>7</td>\n",
       "    </tr>\n",
       "    <tr>\n",
       "      <th>즐겨 보는 TV 프로그램 장르.11</th>\n",
       "      <td>object</td>\n",
       "      <td>23</td>\n",
       "      <td>3977</td>\n",
       "      <td>5</td>\n",
       "    </tr>\n",
       "    <tr>\n",
       "      <th>TV 시청 시 즐겨 보는 국내 드라마 장르-내용</th>\n",
       "      <td>float64</td>\n",
       "      <td>2857</td>\n",
       "      <td>1143</td>\n",
       "      <td>16</td>\n",
       "    </tr>\n",
       "    <tr>\n",
       "      <th>TV 시청 시 즐겨 보는 국내 드라마 장르-내용.1</th>\n",
       "      <td>float64</td>\n",
       "      <td>2476</td>\n",
       "      <td>1524</td>\n",
       "      <td>15</td>\n",
       "    </tr>\n",
       "    <tr>\n",
       "      <th>TV 시청 시 즐겨 보는 국내 드라마 장르-내용.2</th>\n",
       "      <td>float64</td>\n",
       "      <td>1730</td>\n",
       "      <td>2270</td>\n",
       "      <td>15</td>\n",
       "    </tr>\n",
       "    <tr>\n",
       "      <th>TV 시청 시 즐겨 보는 국내 드라마 장르-내용.3</th>\n",
       "      <td>object</td>\n",
       "      <td>962</td>\n",
       "      <td>3038</td>\n",
       "      <td>15</td>\n",
       "    </tr>\n",
       "    <tr>\n",
       "      <th>TV 시청 시 즐겨 보는 국내 드라마 장르-내용.4</th>\n",
       "      <td>object</td>\n",
       "      <td>510</td>\n",
       "      <td>3490</td>\n",
       "      <td>13</td>\n",
       "    </tr>\n",
       "    <tr>\n",
       "      <th>TV 시청 시 즐겨 보는 국내 드라마 장르-내용.5</th>\n",
       "      <td>object</td>\n",
       "      <td>294</td>\n",
       "      <td>3706</td>\n",
       "      <td>13</td>\n",
       "    </tr>\n",
       "    <tr>\n",
       "      <th>TV 시청 시 즐겨 보는 국내 드라마 장르-내용.6</th>\n",
       "      <td>object</td>\n",
       "      <td>175</td>\n",
       "      <td>3825</td>\n",
       "      <td>11</td>\n",
       "    </tr>\n",
       "    <tr>\n",
       "      <th>TV 시청 시 즐겨 보는 국내 드라마 장르-내용.7</th>\n",
       "      <td>object</td>\n",
       "      <td>108</td>\n",
       "      <td>3892</td>\n",
       "      <td>9</td>\n",
       "    </tr>\n",
       "    <tr>\n",
       "      <th>TV 시청 시 즐겨 보는 국내 드라마 장르-내용.8</th>\n",
       "      <td>object</td>\n",
       "      <td>55</td>\n",
       "      <td>3945</td>\n",
       "      <td>8</td>\n",
       "    </tr>\n",
       "    <tr>\n",
       "      <th>TV 시청 시 즐겨 보는 국내 드라마 장르-내용.9</th>\n",
       "      <td>object</td>\n",
       "      <td>22</td>\n",
       "      <td>3978</td>\n",
       "      <td>7</td>\n",
       "    </tr>\n",
       "    <tr>\n",
       "      <th>PPL(간접광고) 평가 - 제품/브랜드 구매의향</th>\n",
       "      <td>int64</td>\n",
       "      <td>4000</td>\n",
       "      <td>0</td>\n",
       "      <td>6</td>\n",
       "    </tr>\n",
       "    <tr>\n",
       "      <th>구매</th>\n",
       "      <td>int64</td>\n",
       "      <td>4000</td>\n",
       "      <td>0</td>\n",
       "      <td>6</td>\n",
       "    </tr>\n",
       "  </tbody>\n",
       "</table>\n",
       "</div>"
      ],
      "text/plain": [
       "                             데이터형태(dtypes)  비 결측치 수(notnull  결측치 수(null)  \\\n",
       "성별                                   int64             4000            0   \n",
       "연령(1세)                               int64             4000            0   \n",
       "지역(권역)                               int64             4000            0   \n",
       "직업                                   int64             4000            0   \n",
       "가구 월평균 소득(1)                         int64             4000            0   \n",
       "최종학력                                 int64             4000            0   \n",
       "주거 형태                                int64             4000            0   \n",
       "결혼 여부                                int64             4000            0   \n",
       "자녀 총 수                               int64             4000            0   \n",
       "평일 인터넷 이용시간(분)                     float64             2603         1397   \n",
       "토요일 인터넷 이용시간(분)                    float64             2603         1397   \n",
       "일요일 인터넷 이용시간(분)                    float64             2603         1397   \n",
       "평일 하루 평균 모바일 인터넷 이용 시간(분)          float64             3814          186   \n",
       "토요일 하루 평균 모바일 인터넷 이용 시간(분)         float64             3814          186   \n",
       "일요일 하루 평균 모바일 인터넷 이용 시간(분)         float64             3814          186   \n",
       "즐겨 보는 TV 프로그램 장르                     int64             4000            0   \n",
       "즐겨 보는 TV 프로그램 장르.1                 float64             3857          143   \n",
       "즐겨 보는 TV 프로그램 장르.2                 float64             3415          585   \n",
       "즐겨 보는 TV 프로그램 장르.3                 float64             2570         1430   \n",
       "즐겨 보는 TV 프로그램 장르.4                 float64             1576         2424   \n",
       "즐겨 보는 TV 프로그램 장르.5                 float64              877         3123   \n",
       "즐겨 보는 TV 프로그램 장르.6                 float64              453         3547   \n",
       "즐겨 보는 TV 프로그램 장르.7                  object              242         3758   \n",
       "즐겨 보는 TV 프로그램 장르.8                  object              139         3861   \n",
       "즐겨 보는 TV 프로그램 장르.9                  object               84         3916   \n",
       "즐겨 보는 TV 프로그램 장르.10                 object               44         3956   \n",
       "즐겨 보는 TV 프로그램 장르.11                 object               23         3977   \n",
       "TV 시청 시 즐겨 보는 국내 드라마 장르-내용         float64             2857         1143   \n",
       "TV 시청 시 즐겨 보는 국내 드라마 장르-내용.1       float64             2476         1524   \n",
       "TV 시청 시 즐겨 보는 국내 드라마 장르-내용.2       float64             1730         2270   \n",
       "TV 시청 시 즐겨 보는 국내 드라마 장르-내용.3        object              962         3038   \n",
       "TV 시청 시 즐겨 보는 국내 드라마 장르-내용.4        object              510         3490   \n",
       "TV 시청 시 즐겨 보는 국내 드라마 장르-내용.5        object              294         3706   \n",
       "TV 시청 시 즐겨 보는 국내 드라마 장르-내용.6        object              175         3825   \n",
       "TV 시청 시 즐겨 보는 국내 드라마 장르-내용.7        object              108         3892   \n",
       "TV 시청 시 즐겨 보는 국내 드라마 장르-내용.8        object               55         3945   \n",
       "TV 시청 시 즐겨 보는 국내 드라마 장르-내용.9        object               22         3978   \n",
       "PPL(간접광고) 평가 - 제품/브랜드 구매의향           int64             4000            0   \n",
       "구매                                   int64             4000            0   \n",
       "\n",
       "                              고유값 수(nunique)  \n",
       "성별                                         2  \n",
       "연령(1세)                                    57  \n",
       "지역(권역)                                     7  \n",
       "직업                                         7  \n",
       "가구 월평균 소득(1)                              12  \n",
       "최종학력                                      12  \n",
       "주거 형태                                      5  \n",
       "결혼 여부                                      3  \n",
       "자녀 총 수                                     4  \n",
       "평일 인터넷 이용시간(분)                            37  \n",
       "토요일 인터넷 이용시간(분)                           35  \n",
       "일요일 인터넷 이용시간(분)                           31  \n",
       "평일 하루 평균 모바일 인터넷 이용 시간(분)                 36  \n",
       "토요일 하루 평균 모바일 인터넷 이용 시간(분)                39  \n",
       "일요일 하루 평균 모바일 인터넷 이용 시간(분)                39  \n",
       "즐겨 보는 TV 프로그램 장르                          12  \n",
       "즐겨 보는 TV 프로그램 장르.1                        15  \n",
       "즐겨 보는 TV 프로그램 장르.2                        15  \n",
       "즐겨 보는 TV 프로그램 장르.3                        16  \n",
       "즐겨 보는 TV 프로그램 장르.4                        14  \n",
       "즐겨 보는 TV 프로그램 장르.5                        13  \n",
       "즐겨 보는 TV 프로그램 장르.6                        13  \n",
       "즐겨 보는 TV 프로그램 장르.7                        11  \n",
       "즐겨 보는 TV 프로그램 장르.8                        11  \n",
       "즐겨 보는 TV 프로그램 장르.9                         8  \n",
       "즐겨 보는 TV 프로그램 장르.10                        7  \n",
       "즐겨 보는 TV 프로그램 장르.11                        5  \n",
       "TV 시청 시 즐겨 보는 국내 드라마 장르-내용                16  \n",
       "TV 시청 시 즐겨 보는 국내 드라마 장르-내용.1              15  \n",
       "TV 시청 시 즐겨 보는 국내 드라마 장르-내용.2              15  \n",
       "TV 시청 시 즐겨 보는 국내 드라마 장르-내용.3              15  \n",
       "TV 시청 시 즐겨 보는 국내 드라마 장르-내용.4              13  \n",
       "TV 시청 시 즐겨 보는 국내 드라마 장르-내용.5              13  \n",
       "TV 시청 시 즐겨 보는 국내 드라마 장르-내용.6              11  \n",
       "TV 시청 시 즐겨 보는 국내 드라마 장르-내용.7               9  \n",
       "TV 시청 시 즐겨 보는 국내 드라마 장르-내용.8               8  \n",
       "TV 시청 시 즐겨 보는 국내 드라마 장르-내용.9               7  \n",
       "PPL(간접광고) 평가 - 제품/브랜드 구매의향                 6  \n",
       "구매                                         6  "
      ]
     },
     "execution_count": 4,
     "metadata": {},
     "output_type": "execute_result"
    }
   ],
   "source": [
    "def summary(df) :\n",
    "    tf = pd.DataFrame({'데이터형태(dtypes)' : df.dtypes,\n",
    "                       '비 결측치 수(notnull': df.notnull().sum(),\n",
    "                       '결측치 수(null)' : df.isnull().sum(),\n",
    "                       '고유값 수(nunique)' : df.nunique()})\n",
    "    return tf\n",
    "summary(df)"
   ]
  },
  {
   "cell_type": "code",
   "execution_count": 5,
   "metadata": {},
   "outputs": [
    {
     "data": {
      "text/plain": [
       "<matplotlib.axes._subplots.AxesSubplot at 0x1e67fd87a08>"
      ]
     },
     "execution_count": 5,
     "metadata": {},
     "output_type": "execute_result"
    },
    {
     "data": {
      "image/png": "[encoded data removed]",
      "text/plain": [
       "<Figure size 1440x288 with 1 Axes>"
      ]
     },
     "metadata": {
      "needs_background": "light"
     },
     "output_type": "display_data"
    }
   ],
   "source": [
    "null_percent = df.isnull().mean()*100\n",
    "null_percent.sort_values().plot.bar(figsize=(20,4), rot='70')"
   ]
  },
  {
   "cell_type": "code",
   "execution_count": 6,
   "metadata": {},
   "outputs": [
    {
     "name": "stdout",
     "output_type": "stream",
     "text": [
      "결측치 처리 전 df shape :  (4000, 39)\n",
      "결측치 처리 후 df shape :  (4000, 24)\n"
     ]
    }
   ],
   "source": [
    "print('결측치 처리 전 df shape : ', df.shape)\n",
    "null_filtered = null_percent[null_percent > 60].index\n",
    "df = df.drop(null_filtered, axis =1) # df.drop(missing_col, axis =1, inplace=True)\n",
    "print('결측치 처리 후 df shape : ', df.shape)"
   ]
  },
  {
   "cell_type": "code",
   "execution_count": 7,
   "metadata": {},
   "outputs": [
    {
     "data": {
      "text/plain": [
       "Index(['성별', '연령(1세)', '지역(권역)', '직업', '가구 월평균 소득(1)', '최종학력', '주거 형태',\n",
       "       '결혼 여부', '자녀 총 수', '평일 인터넷 이용시간(분)', '토요일 인터넷 이용시간(분)',\n",
       "       '일요일 인터넷 이용시간(분)', '평일 하루 평균 모바일 인터넷 이용 시간(분)',\n",
       "       '토요일 하루 평균 모바일 인터넷 이용 시간(분)', '일요일 하루 평균 모바일 인터넷 이용 시간(분)',\n",
       "       '즐겨 보는 TV 프로그램 장르', '즐겨 보는 TV 프로그램 장르.1', '즐겨 보는 TV 프로그램 장르.2',\n",
       "       '즐겨 보는 TV 프로그램 장르.3', 'TV 시청 시 즐겨 보는 국내 드라마 장르-내용',\n",
       "       'TV 시청 시 즐겨 보는 국내 드라마 장르-내용.1', 'TV 시청 시 즐겨 보는 국내 드라마 장르-내용.2',\n",
       "       'PPL(간접광고) 평가 - 제품/브랜드 구매의향', '구매'],\n",
       "      dtype='object')"
      ]
     },
     "execution_count": 7,
     "metadata": {},
     "output_type": "execute_result"
    }
   ],
   "source": [
    "df.columns"
   ]
  },
  {
   "cell_type": "code",
   "execution_count": 8,
   "metadata": {},
   "outputs": [],
   "source": [
    "col_name = ['성별', '연령', '지역', '직업', '가구소득', '학력', '주거형태', '결혼', '자녀수', \n",
    "            '인터넷평일', '인터넷주말', '인터넷휴일', '모바일평일', '모바일주말', '모바일휴일',\n",
    "            'TV1', 'TV2', 'TV3', 'TV4', '드라마1', '드라마2', '드라마3', '구매의향', '구매']\n",
    "df.columns = col_name\n",
    "del df['구매의향']"
   ]
  },
  {
   "cell_type": "code",
   "execution_count": 9,
   "metadata": {},
   "outputs": [
    {
     "data": {
      "text/plain": [
       "<matplotlib.axes._subplots.AxesSubplot at 0x1e60f0a3488>"
      ]
     },
     "execution_count": 9,
     "metadata": {},
     "output_type": "execute_result"
    },
    {
     "data": {
      "image/png": "[encoded data removed]",
      "text/plain": [
       "<Figure size 1440x216 with 3 Axes>"
      ]
     },
     "metadata": {
      "needs_background": "light"
     },
     "output_type": "display_data"
    }
   ],
   "source": [
    "msno.bar(df, figsize=(20,3))"
   ]
  },
  {
   "cell_type": "code",
   "execution_count": 10,
   "metadata": {},
   "outputs": [
    {
     "name": "stdout",
     "output_type": "stream",
     "text": [
      "<class 'pandas.core.frame.DataFrame'>\n",
      "RangeIndex: 4000 entries, 0 to 3999\n",
      "Data columns (total 23 columns):\n",
      " #   Column  Non-Null Count  Dtype  \n",
      "---  ------  --------------  -----  \n",
      " 0   성별      4000 non-null   int64  \n",
      " 1   연령      4000 non-null   int64  \n",
      " 2   지역      4000 non-null   int64  \n",
      " 3   직업      4000 non-null   int64  \n",
      " 4   가구소득    4000 non-null   int64  \n",
      " 5   학력      4000 non-null   int64  \n",
      " 6   주거형태    4000 non-null   int64  \n",
      " 7   결혼      4000 non-null   int64  \n",
      " 8   자녀수     4000 non-null   int64  \n",
      " 9   인터넷평일   2603 non-null   float64\n",
      " 10  인터넷주말   2603 non-null   float64\n",
      " 11  인터넷휴일   2603 non-null   float64\n",
      " 12  모바일평일   3814 non-null   float64\n",
      " 13  모바일주말   3814 non-null   float64\n",
      " 14  모바일휴일   3814 non-null   float64\n",
      " 15  TV1     4000 non-null   int64  \n",
      " 16  TV2     3857 non-null   float64\n",
      " 17  TV3     3415 non-null   float64\n",
      " 18  TV4     2570 non-null   float64\n",
      " 19  드라마1    2857 non-null   float64\n",
      " 20  드라마2    2476 non-null   float64\n",
      " 21  드라마3    1730 non-null   float64\n",
      " 22  구매      4000 non-null   int64  \n",
      "dtypes: float64(12), int64(11)\n",
      "memory usage: 718.9 KB\n"
     ]
    }
   ],
   "source": [
    "df.info()"
   ]
  },
  {
   "cell_type": "code",
   "execution_count": 11,
   "metadata": {},
   "outputs": [
    {
     "name": "stdout",
     "output_type": "stream",
     "text": [
      "<class 'pandas.core.frame.DataFrame'>\n",
      "RangeIndex: 4000 entries, 0 to 3999\n",
      "Data columns (total 23 columns):\n",
      " #   Column  Non-Null Count  Dtype   \n",
      "---  ------  --------------  -----   \n",
      " 0   성별      4000 non-null   category\n",
      " 1   연령      4000 non-null   float64 \n",
      " 2   지역      4000 non-null   category\n",
      " 3   직업      4000 non-null   category\n",
      " 4   가구소득    4000 non-null   float64 \n",
      " 5   학력      4000 non-null   float64 \n",
      " 6   주거형태    4000 non-null   category\n",
      " 7   결혼      4000 non-null   category\n",
      " 8   자녀수     4000 non-null   float64 \n",
      " 9   인터넷평일   2603 non-null   float64 \n",
      " 10  인터넷주말   2603 non-null   float64 \n",
      " 11  인터넷휴일   2603 non-null   float64 \n",
      " 12  모바일평일   3814 non-null   float64 \n",
      " 13  모바일주말   3814 non-null   float64 \n",
      " 14  모바일휴일   3814 non-null   float64 \n",
      " 15  TV1     4000 non-null   category\n",
      " 16  TV2     3857 non-null   category\n",
      " 17  TV3     3415 non-null   category\n",
      " 18  TV4     2570 non-null   category\n",
      " 19  드라마1    2857 non-null   category\n",
      " 20  드라마2    2476 non-null   category\n",
      " 21  드라마3    1730 non-null   category\n",
      " 22  구매      4000 non-null   float64 \n",
      "dtypes: category(12), float64(11)\n",
      "memory usage: 396.8 KB\n"
     ]
    }
   ],
   "source": [
    "Nums = ['연령', '가구소득', '학력', '자녀수', '인터넷평일', '인터넷주말', '인터넷휴일',\n",
    "         '모바일평일', '모바일주말', '모바일휴일', '구매']\n",
    "Cats = [item for item in df.columns if item not in Nums]\n",
    "for col in Nums : \n",
    "        df[col] = df[col].astype('float64')\n",
    "for col in Cats : \n",
    "        df[col] = df[col].astype('category')\n",
    "df.info()"
   ]
  },
  {
   "cell_type": "code",
   "execution_count": 12,
   "metadata": {},
   "outputs": [
    {
     "data": {
      "text/plain": [
       "'결혼,구매,TV3,모바일주말,TV2,드라마1,주거형태,TV4,인터넷주말,모바일휴일,연령,지역,드라마2,직업,자녀수,TV1,드라마3,성별,모바일평일,인터넷휴일,가구소득,학력,인터넷평일'"
      ]
     },
     "execution_count": 12,
     "metadata": {},
     "output_type": "execute_result"
    },
    {
     "data": {
      "text/plain": [
       "23"
      ]
     },
     "execution_count": 12,
     "metadata": {},
     "output_type": "execute_result"
    },
    {
     "data": {
      "text/plain": [
       "'모바일평일,인터넷휴일,인터넷주말,가구소득,구매,자녀수,학력,연령,모바일주말,모바일휴일,인터넷평일'"
      ]
     },
     "execution_count": 12,
     "metadata": {},
     "output_type": "execute_result"
    },
    {
     "data": {
      "text/plain": [
       "11"
      ]
     },
     "execution_count": 12,
     "metadata": {},
     "output_type": "execute_result"
    },
    {
     "data": {
      "text/plain": [
       "'결혼,TV4,드라마2,직업,TV3,TV2,드라마1,주거형태,드라마3,성별,지역,TV1'"
      ]
     },
     "execution_count": 12,
     "metadata": {},
     "output_type": "execute_result"
    },
    {
     "data": {
      "text/plain": [
       "12"
      ]
     },
     "execution_count": 12,
     "metadata": {},
     "output_type": "execute_result"
    }
   ],
   "source": [
    "','.join(set(df.columns))\n",
    "len(set(df.columns))\n",
    "','.join(set(Nums))\n",
    "len(set(Nums))\n",
    "','.join(set(Cats))\n",
    "len(set(Cats))"
   ]
  },
  {
   "cell_type": "code",
   "execution_count": 13,
   "metadata": {},
   "outputs": [
    {
     "data": {
      "text/plain": [
       "True"
      ]
     },
     "execution_count": 13,
     "metadata": {},
     "output_type": "execute_result"
    },
    {
     "data": {
      "text/plain": [
       "True"
      ]
     },
     "execution_count": 13,
     "metadata": {},
     "output_type": "execute_result"
    },
    {
     "data": {
      "text/plain": [
       "True"
      ]
     },
     "execution_count": 13,
     "metadata": {},
     "output_type": "execute_result"
    },
    {
     "data": {
      "text/plain": [
       "set()"
      ]
     },
     "execution_count": 13,
     "metadata": {},
     "output_type": "execute_result"
    }
   ],
   "source": [
    "set(df.columns) | set(Nums) == set(df.columns)\n",
    "set(df.columns) & set(Nums) == set(Nums)\n",
    "set(df.columns) & set(Cats) == set(Cats) \n",
    "set(df.columns) - set(Nums) - set(Cats)"
   ]
  },
  {
   "cell_type": "code",
   "execution_count": 14,
   "metadata": {},
   "outputs": [
    {
     "data": {
      "text/html": [
       "<div>\n",
       "<style scoped>\n",
       "    .dataframe tbody tr th:only-of-type {\n",
       "        vertical-align: middle;\n",
       "    }\n",
       "\n",
       "    .dataframe tbody tr th {\n",
       "        vertical-align: top;\n",
       "    }\n",
       "\n",
       "    .dataframe thead th {\n",
       "        text-align: right;\n",
       "    }\n",
       "</style>\n",
       "<table border=\"1\" class=\"dataframe\">\n",
       "  <thead>\n",
       "    <tr style=\"text-align: right;\">\n",
       "      <th></th>\n",
       "      <th>데이터형태(dtypes)</th>\n",
       "      <th>비 결측치 수(notnull</th>\n",
       "      <th>결측치 수(null)</th>\n",
       "      <th>고유값 수(nunique)</th>\n",
       "    </tr>\n",
       "  </thead>\n",
       "  <tbody>\n",
       "    <tr>\n",
       "      <th>성별</th>\n",
       "      <td>category</td>\n",
       "      <td>4000</td>\n",
       "      <td>0</td>\n",
       "      <td>2</td>\n",
       "    </tr>\n",
       "    <tr>\n",
       "      <th>연령</th>\n",
       "      <td>float64</td>\n",
       "      <td>4000</td>\n",
       "      <td>0</td>\n",
       "      <td>57</td>\n",
       "    </tr>\n",
       "    <tr>\n",
       "      <th>지역</th>\n",
       "      <td>category</td>\n",
       "      <td>4000</td>\n",
       "      <td>0</td>\n",
       "      <td>7</td>\n",
       "    </tr>\n",
       "    <tr>\n",
       "      <th>직업</th>\n",
       "      <td>category</td>\n",
       "      <td>4000</td>\n",
       "      <td>0</td>\n",
       "      <td>7</td>\n",
       "    </tr>\n",
       "    <tr>\n",
       "      <th>가구소득</th>\n",
       "      <td>float64</td>\n",
       "      <td>4000</td>\n",
       "      <td>0</td>\n",
       "      <td>12</td>\n",
       "    </tr>\n",
       "    <tr>\n",
       "      <th>학력</th>\n",
       "      <td>float64</td>\n",
       "      <td>4000</td>\n",
       "      <td>0</td>\n",
       "      <td>12</td>\n",
       "    </tr>\n",
       "    <tr>\n",
       "      <th>주거형태</th>\n",
       "      <td>category</td>\n",
       "      <td>4000</td>\n",
       "      <td>0</td>\n",
       "      <td>5</td>\n",
       "    </tr>\n",
       "    <tr>\n",
       "      <th>결혼</th>\n",
       "      <td>category</td>\n",
       "      <td>4000</td>\n",
       "      <td>0</td>\n",
       "      <td>3</td>\n",
       "    </tr>\n",
       "    <tr>\n",
       "      <th>자녀수</th>\n",
       "      <td>float64</td>\n",
       "      <td>4000</td>\n",
       "      <td>0</td>\n",
       "      <td>4</td>\n",
       "    </tr>\n",
       "    <tr>\n",
       "      <th>인터넷평일</th>\n",
       "      <td>float64</td>\n",
       "      <td>2603</td>\n",
       "      <td>1397</td>\n",
       "      <td>37</td>\n",
       "    </tr>\n",
       "    <tr>\n",
       "      <th>인터넷주말</th>\n",
       "      <td>float64</td>\n",
       "      <td>2603</td>\n",
       "      <td>1397</td>\n",
       "      <td>35</td>\n",
       "    </tr>\n",
       "    <tr>\n",
       "      <th>인터넷휴일</th>\n",
       "      <td>float64</td>\n",
       "      <td>2603</td>\n",
       "      <td>1397</td>\n",
       "      <td>31</td>\n",
       "    </tr>\n",
       "    <tr>\n",
       "      <th>모바일평일</th>\n",
       "      <td>float64</td>\n",
       "      <td>3814</td>\n",
       "      <td>186</td>\n",
       "      <td>36</td>\n",
       "    </tr>\n",
       "    <tr>\n",
       "      <th>모바일주말</th>\n",
       "      <td>float64</td>\n",
       "      <td>3814</td>\n",
       "      <td>186</td>\n",
       "      <td>39</td>\n",
       "    </tr>\n",
       "    <tr>\n",
       "      <th>모바일휴일</th>\n",
       "      <td>float64</td>\n",
       "      <td>3814</td>\n",
       "      <td>186</td>\n",
       "      <td>39</td>\n",
       "    </tr>\n",
       "    <tr>\n",
       "      <th>TV1</th>\n",
       "      <td>category</td>\n",
       "      <td>4000</td>\n",
       "      <td>0</td>\n",
       "      <td>12</td>\n",
       "    </tr>\n",
       "    <tr>\n",
       "      <th>TV2</th>\n",
       "      <td>category</td>\n",
       "      <td>3857</td>\n",
       "      <td>143</td>\n",
       "      <td>15</td>\n",
       "    </tr>\n",
       "    <tr>\n",
       "      <th>TV3</th>\n",
       "      <td>category</td>\n",
       "      <td>3415</td>\n",
       "      <td>585</td>\n",
       "      <td>15</td>\n",
       "    </tr>\n",
       "    <tr>\n",
       "      <th>TV4</th>\n",
       "      <td>category</td>\n",
       "      <td>2570</td>\n",
       "      <td>1430</td>\n",
       "      <td>16</td>\n",
       "    </tr>\n",
       "    <tr>\n",
       "      <th>드라마1</th>\n",
       "      <td>category</td>\n",
       "      <td>2857</td>\n",
       "      <td>1143</td>\n",
       "      <td>16</td>\n",
       "    </tr>\n",
       "    <tr>\n",
       "      <th>드라마2</th>\n",
       "      <td>category</td>\n",
       "      <td>2476</td>\n",
       "      <td>1524</td>\n",
       "      <td>15</td>\n",
       "    </tr>\n",
       "    <tr>\n",
       "      <th>드라마3</th>\n",
       "      <td>category</td>\n",
       "      <td>1730</td>\n",
       "      <td>2270</td>\n",
       "      <td>15</td>\n",
       "    </tr>\n",
       "    <tr>\n",
       "      <th>구매</th>\n",
       "      <td>float64</td>\n",
       "      <td>4000</td>\n",
       "      <td>0</td>\n",
       "      <td>6</td>\n",
       "    </tr>\n",
       "  </tbody>\n",
       "</table>\n",
       "</div>"
      ],
      "text/plain": [
       "      데이터형태(dtypes)  비 결측치 수(notnull  결측치 수(null)  고유값 수(nunique)\n",
       "성별         category             4000            0               2\n",
       "연령          float64             4000            0              57\n",
       "지역         category             4000            0               7\n",
       "직업         category             4000            0               7\n",
       "가구소득        float64             4000            0              12\n",
       "학력          float64             4000            0              12\n",
       "주거형태       category             4000            0               5\n",
       "결혼         category             4000            0               3\n",
       "자녀수         float64             4000            0               4\n",
       "인터넷평일       float64             2603         1397              37\n",
       "인터넷주말       float64             2603         1397              35\n",
       "인터넷휴일       float64             2603         1397              31\n",
       "모바일평일       float64             3814          186              36\n",
       "모바일주말       float64             3814          186              39\n",
       "모바일휴일       float64             3814          186              39\n",
       "TV1        category             4000            0              12\n",
       "TV2        category             3857          143              15\n",
       "TV3        category             3415          585              15\n",
       "TV4        category             2570         1430              16\n",
       "드라마1       category             2857         1143              16\n",
       "드라마2       category             2476         1524              15\n",
       "드라마3       category             1730         2270              15\n",
       "구매          float64             4000            0               6"
      ]
     },
     "execution_count": 14,
     "metadata": {},
     "output_type": "execute_result"
    }
   ],
   "source": [
    "summary(df)"
   ]
  },
  {
   "cell_type": "code",
   "execution_count": 15,
   "metadata": {},
   "outputs": [],
   "source": [
    "df['지역'] = df['지역'].map({1:'서울', 2:'경기인천', 3:'대전충청세종', 4:'광주전라제주', \n",
    "                         5:'부산울산경남', 6:'대구경북', 7:'강원'})\n",
    "\n",
    "df['직업'] = df['직업'].map({1:'행정관리전문직', 2:'사무직', 3:'판매서비스직', 4:'기능노무직', \n",
    "                         5:'전업주부', 6:'학생재수생', 7:'무직기타'})\n",
    "\n",
    "df['결혼'] = df['결혼'].map({1:'기혼', 2:'미혼', 3:'기타_이혼별거사별'})"
   ]
  },
  {
   "cell_type": "code",
   "execution_count": 16,
   "metadata": {},
   "outputs": [],
   "source": [
    "df['학력'] = df['학력'].map({1:'정규교육없음', 2:'초등학교졸업', 3:'중학교졸업', \n",
    "                         4:'고등학교졸업', 5:'전문대학졸업', 6:'대학교졸업', 7:'대학원졸업', \n",
    "                         8:'중학교재학', 9:'고등학교재학', 10:'전문대학재학', \n",
    "                         11:'대학교재학', 12:'대학원재학'})\n",
    "\n",
    "df['주거형태'] = df['주거형태'].map({1:'자가', 2:'전세', 3:'월세', 4:'영구임대', 5:'사택기타'})"
   ]
  },
  {
   "cell_type": "code",
   "execution_count": 17,
   "metadata": {},
   "outputs": [
    {
     "data": {
      "text/plain": [
       "<matplotlib.axes._subplots.AxesSubplot at 0x1e60f28ce48>"
      ]
     },
     "execution_count": 17,
     "metadata": {},
     "output_type": "execute_result"
    },
    {
     "data": {
      "image/png": "[encoded data removed]",
      "text/plain": [
       "<Figure size 1440x216 with 3 Axes>"
      ]
     },
     "metadata": {
      "needs_background": "light"
     },
     "output_type": "display_data"
    }
   ],
   "source": [
    "msno.bar(df, figsize=(20,3))"
   ]
  },
  {
   "cell_type": "code",
   "execution_count": 18,
   "metadata": {},
   "outputs": [
    {
     "data": {
      "text/plain": [
       "<matplotlib.axes._subplots.AxesSubplot at 0x1e60f64e748>"
      ]
     },
     "execution_count": 18,
     "metadata": {},
     "output_type": "execute_result"
    },
    {
     "data": {
      "text/plain": [
       "Text(0.5, 0, '연령')"
      ]
     },
     "execution_count": 18,
     "metadata": {},
     "output_type": "execute_result"
    },
    {
     "data": {
      "text/plain": [
       "Text(0, 0.5, '인터넷평일')"
      ]
     },
     "execution_count": 18,
     "metadata": {},
     "output_type": "execute_result"
    },
    {
     "data": {
      "text/plain": [
       "Text(0.5, 1.0, '연령과 인터넷평일(결측치자료 빈도)의 분포 형태')"
      ]
     },
     "execution_count": 18,
     "metadata": {},
     "output_type": "execute_result"
    },
    {
     "data": {
      "text/plain": [
       "<matplotlib.axes._subplots.AxesSubplot at 0x1e60f80d148>"
      ]
     },
     "execution_count": 18,
     "metadata": {},
     "output_type": "execute_result"
    },
    {
     "data": {
      "text/plain": [
       "Text(0.5, 0, '연령')"
      ]
     },
     "execution_count": 18,
     "metadata": {},
     "output_type": "execute_result"
    },
    {
     "data": {
      "text/plain": [
       "Text(0, 0.5, '인터넷주말')"
      ]
     },
     "execution_count": 18,
     "metadata": {},
     "output_type": "execute_result"
    },
    {
     "data": {
      "text/plain": [
       "Text(0.5, 1.0, '연령과 인터넷주말(결측치자료 빈도)의 분포 형태')"
      ]
     },
     "execution_count": 18,
     "metadata": {},
     "output_type": "execute_result"
    },
    {
     "data": {
      "image/png": "[encoded data removed]",
      "text/plain": [
       "<Figure size 432x288 with 1 Axes>"
      ]
     },
     "metadata": {
      "needs_background": "light"
     },
     "output_type": "display_data"
    },
    {
     "data": {
      "image/png": "[encoded data removed]",
      "text/plain": [
       "<Figure size 432x288 with 1 Axes>"
      ]
     },
     "metadata": {
      "needs_background": "light"
     },
     "output_type": "display_data"
    }
   ],
   "source": [
    "for col in ['인터넷평일', '인터넷주말']:\n",
    "    df[df[col].isnull()]['연령'].value_counts().reset_index().plot.scatter(x='index',y='연령')\n",
    "    plt.xlabel('연령')\n",
    "    plt.ylabel(col)\n",
    "    plt.title('연령과 '+ col+'(결측치자료 빈도)의 분포 형태')\n",
    "    plt.grid(True)"
   ]
  },
  {
   "cell_type": "code",
   "execution_count": 19,
   "metadata": {},
   "outputs": [],
   "source": [
    "over_40 = (df['연령'] >= 40); under_40 = (df['연령'] < 40)\n",
    "cols = ['인터넷평일','인터넷주말','인터넷휴일','모바일평일','모바일주말','모바일휴일']\n",
    "for col in cols :\n",
    "    df.loc[over_40, col] = df.loc[over_40, col].fillna(df.loc[over_40,col].mean())\n",
    "    df.loc[under_40, col] = df.loc[under_40, col].fillna(df.loc[under_40,col].mean())"
   ]
  },
  {
   "cell_type": "code",
   "execution_count": 20,
   "metadata": {},
   "outputs": [],
   "source": [
    "col_02 = ['TV2', 'TV3', 'TV4', '드라마1', '드라마2', '드라마3']\n",
    "for col in col_02 :\n",
    "    df[col].fillna(df[col].mode()[0], inplace=True)"
   ]
  },
  {
   "cell_type": "code",
   "execution_count": 21,
   "metadata": {},
   "outputs": [
    {
     "name": "stdout",
     "output_type": "stream",
     "text": [
      "nan, inf & -inf 의 개수는 ?   0\n"
     ]
    }
   ],
   "source": [
    "print('nan, inf & -inf 의 개수는 ?  ', df.isin([np.nan, np.inf, -np.inf]).any(1).sum())"
   ]
  },
  {
   "cell_type": "code",
   "execution_count": 22,
   "metadata": {},
   "outputs": [
    {
     "data": {
      "text/plain": [
       "<matplotlib.axes._subplots.AxesSubplot at 0x1e60f8a50c8>"
      ]
     },
     "execution_count": 22,
     "metadata": {},
     "output_type": "execute_result"
    },
    {
     "data": {
      "image/png": "[encoded data removed]",
      "text/plain": [
       "<Figure size 1440x216 with 3 Axes>"
      ]
     },
     "metadata": {
      "needs_background": "light"
     },
     "output_type": "display_data"
    }
   ],
   "source": [
    "msno.bar(df, figsize=(20,3))"
   ]
  },
  {
   "cell_type": "code",
   "execution_count": 23,
   "metadata": {},
   "outputs": [
    {
     "data": {
      "text/plain": [
       "<matplotlib.axes._subplots.AxesSubplot at 0x1e60fae9dc8>"
      ]
     },
     "execution_count": 23,
     "metadata": {},
     "output_type": "execute_result"
    },
    {
     "data": {
      "image/png": "[encoded data removed]",
      "text/plain": [
       "<Figure size 864x288 with 1 Axes>"
      ]
     },
     "metadata": {
      "needs_background": "light"
     },
     "output_type": "display_data"
    }
   ],
   "source": [
    "suspects = ['인터넷평일', '인터넷주말', '인터넷휴일', '모바일평일', \n",
    "           '모바일주말', '모바일휴일']\n",
    "df.boxplot(column=suspects , figsize=(12,4))"
   ]
  },
  {
   "cell_type": "code",
   "execution_count": 24,
   "metadata": {},
   "outputs": [
    {
     "data": {
      "text/plain": [
       "(40,)"
      ]
     },
     "execution_count": 24,
     "metadata": {},
     "output_type": "execute_result"
    },
    {
     "data": {
      "text/plain": [
       "23     300.0\n",
       "37     300.0\n",
       "115    330.0\n",
       "151    480.0\n",
       "163    540.0\n",
       "186    360.0\n",
       "225    270.0\n",
       "235    480.0\n",
       "242    300.0\n",
       "252    360.0\n",
       "Name: 인터넷평일, dtype: float64"
      ]
     },
     "execution_count": 24,
     "metadata": {},
     "output_type": "execute_result"
    },
    {
     "data": {
      "text/plain": [
       "Int64Index([  23,   37,  115,  151,  163,  186,  225,  235,  242,  252,  277,\n",
       "             290,  307,  337,  359,  363,  481,  545,  592,  662, 1374, 1375,\n",
       "            1474, 1480, 1486, 1911, 1913, 1952, 2102, 2174, 2259, 2287, 2356,\n",
       "            2416, 2425, 2571, 2789, 2915, 3041, 3442],\n",
       "           dtype='int64')"
      ]
     },
     "execution_count": 24,
     "metadata": {},
     "output_type": "execute_result"
    },
    {
     "data": {
      "text/plain": [
       "array([300., 300., 330., 480., 540., 360., 270., 480., 300., 360., 390.,\n",
       "       600., 300., 300., 360., 330., 330., 600., 280., 480., 420., 300.,\n",
       "       360., 360., 420., 480., 360., 270., 480., 465., 300., 360., 270.,\n",
       "       360., 300., 300., 300., 300., 420., 720.])"
      ]
     },
     "execution_count": 24,
     "metadata": {},
     "output_type": "execute_result"
    }
   ],
   "source": [
    "q1, q3 = df['인터넷평일'].quantile(0.15), df['인터넷평일'].quantile(0.95)\n",
    "iqr = q3 - q1\n",
    "l_fence, u_fence = q1 - 1.5*iqr , q3 + 1.5*iqr   \n",
    "outliers = df['인터넷평일'][(df['인터넷평일'] < l_fence) | (df['인터넷평일'] > u_fence)]\n",
    "outliers.shape\n",
    "outliers.head(10)\n",
    "outliers.index\n",
    "outliers.values"
   ]
  },
  {
   "cell_type": "code",
   "execution_count": 25,
   "metadata": {},
   "outputs": [
    {
     "name": "stdout",
     "output_type": "stream",
     "text": [
      "인터넷평일 의 총 이상치 관측 수: 40\n",
      "Lower fence:  -105.0 Upper fence:  255.0\n",
      "인터넷주말 의 총 이상치 관측 수: 24\n",
      "Lower fence:  -130.0 Upper fence:  270.0\n",
      "인터넷휴일 의 총 이상치 관측 수: 20\n",
      "Lower fence:  -180.0 Upper fence:  300.0\n",
      "모바일평일 의 총 이상치 관측 수: 28\n",
      "Lower fence:  -195.0 Upper fence:  405.0\n",
      "모바일주말 의 총 이상치 관측 수: 23\n",
      "Lower fence:  -285.0 Upper fence:  555.0\n",
      "모바일휴일 의 총 이상치 관측 수: 25\n",
      "Lower fence:  -285.0 Upper fence:  555.0\n"
     ]
    }
   ],
   "source": [
    "def Outliers(col):\n",
    "    q1, q3 =col.quantile(0.15), col.quantile(0.95)\n",
    "    iqr = q3 - q1\n",
    "    l_fence, u_fence = q1 - 1.5*iqr , q3 + 1.5*iqr  \n",
    "    outliers = col[(col < l_fence) | (col > u_fence)]\n",
    "    col[(col < l_fence)] = l_fence\n",
    "    col[(col > u_fence)] = u_fence  \n",
    "    print(col.name,'의 총 이상치 관측 수:', outliers.count())\n",
    "    print('Lower fence: ', l_fence, 'Upper fence: ', u_fence)\n",
    "    return col\n",
    "for col in suspects :\n",
    "    df[col] = Outliers(df[col])"
   ]
  },
  {
   "cell_type": "code",
   "execution_count": 26,
   "metadata": {},
   "outputs": [
    {
     "name": "stdout",
     "output_type": "stream",
     "text": [
      "nan, inf & -inf 의 개수는 ?   0\n"
     ]
    }
   ],
   "source": [
    "print('nan, inf & -inf 의 개수는 ?  ', df.isin([np.nan, np.inf, -np.inf]).any(1).sum())"
   ]
  },
  {
   "cell_type": "code",
   "execution_count": 27,
   "metadata": {},
   "outputs": [
    {
     "data": {
      "text/plain": [
       "성별             2\n",
       "연령            69\n",
       "지역            서울\n",
       "직업       행정관리전문직\n",
       "가구소득          99\n",
       "학력        초등학교졸업\n",
       "주거형태          전세\n",
       "결혼            미혼\n",
       "자녀수           99\n",
       "인터넷평일        255\n",
       "인터넷주말        270\n",
       "인터넷휴일        300\n",
       "모바일평일        405\n",
       "모바일주말        555\n",
       "모바일휴일        555\n",
       "TV1           99\n",
       "TV2           17\n",
       "TV3           16\n",
       "TV4           16\n",
       "드라마1          16\n",
       "드라마2          15\n",
       "드라마3          16\n",
       "구매             6\n",
       "dtype: object"
      ]
     },
     "execution_count": 27,
     "metadata": {},
     "output_type": "execute_result"
    }
   ],
   "source": [
    "df.max()"
   ]
  },
  {
   "cell_type": "code",
   "execution_count": 28,
   "metadata": {},
   "outputs": [
    {
     "data": {
      "text/plain": [
       "('가구소득', 2)"
      ]
     },
     "execution_count": 28,
     "metadata": {},
     "output_type": "execute_result"
    },
    {
     "data": {
      "text/plain": [
       "Float64Index([6.0, 5.0, 4.0, 7.0, 3.0, 8.0, 9.0, 2.0, 11.0, 10.0, 1.0, 99.0], dtype='float64')"
      ]
     },
     "execution_count": 28,
     "metadata": {},
     "output_type": "execute_result"
    },
    {
     "data": {
      "text/plain": [
       "array([969, 772, 600, 487, 398, 278, 189, 118,  90,  51,  46,   2],\n",
       "      dtype=int64)"
      ]
     },
     "execution_count": 28,
     "metadata": {},
     "output_type": "execute_result"
    },
    {
     "data": {
      "text/plain": [
       "('자녀수', 1524)"
      ]
     },
     "execution_count": 28,
     "metadata": {},
     "output_type": "execute_result"
    },
    {
     "data": {
      "text/plain": [
       "Float64Index([2.0, 99.0, 1.0, 3.0], dtype='float64')"
      ]
     },
     "execution_count": 28,
     "metadata": {},
     "output_type": "execute_result"
    },
    {
     "data": {
      "text/plain": [
       "array([1715, 1524,  585,  176], dtype=int64)"
      ]
     },
     "execution_count": 28,
     "metadata": {},
     "output_type": "execute_result"
    },
    {
     "data": {
      "text/plain": [
       "('TV1', 1)"
      ]
     },
     "execution_count": 28,
     "metadata": {},
     "output_type": "execute_result"
    },
    {
     "data": {
      "text/plain": [
       "CategoricalIndex([1, 4, 7, 2, 6, 3, 5, 9, 10, 8, 99, 12], categories=[1, 2, 3, 4, 5, 6, 7, 8, ...], ordered=False, dtype='category')"
      ]
     },
     "execution_count": 28,
     "metadata": {},
     "output_type": "execute_result"
    },
    {
     "data": {
      "text/plain": [
       "array([2899,  511,  262,  117,  104,   56,   26,   15,    6,    2,    1,\n",
       "          1], dtype=int64)"
      ]
     },
     "execution_count": 28,
     "metadata": {},
     "output_type": "execute_result"
    }
   ],
   "source": [
    "for col in df.columns :\n",
    "    if df[(df[col] == 99)].shape[0] > 0 :\n",
    "        col, df[df[col] == 99].shape[0]\n",
    "        df[col].value_counts().index\n",
    "        df[col].value_counts().values"
   ]
  },
  {
   "cell_type": "code",
   "execution_count": null,
   "metadata": {},
   "outputs": [],
   "source": []
  },
  {
   "cell_type": "code",
   "execution_count": 29,
   "metadata": {},
   "outputs": [
    {
     "data": {
      "text/plain": [
       "0"
      ]
     },
     "execution_count": 29,
     "metadata": {},
     "output_type": "execute_result"
    }
   ],
   "source": [
    "df['자녀수'] = df['자녀수'].apply(lambda x: 0 if x == 99 else x)\n",
    "df.drop(df.loc[df['가구소득'] == 99].index, inplace = True)\n",
    "df.drop(df.loc[df['TV1'] == 99].index, inplace = True)\n",
    "(df.max() == 99).sum()"
   ]
  },
  {
   "cell_type": "code",
   "execution_count": 30,
   "metadata": {},
   "outputs": [
    {
     "data": {
      "text/plain": [
       "인터넷평일    1.992342\n",
       "인터넷주말    1.877968\n",
       "인터넷휴일    2.118610\n",
       "모바일평일    1.947162\n",
       "모바일주말    2.328548\n",
       "모바일휴일    2.216040\n",
       "dtype: float64"
      ]
     },
     "execution_count": 30,
     "metadata": {},
     "output_type": "execute_result"
    },
    {
     "data": {
      "text/plain": [
       "인터넷휴일    2.118610\n",
       "모바일주말    2.328548\n",
       "모바일휴일    2.216040\n",
       "dtype: float64"
      ]
     },
     "execution_count": 30,
     "metadata": {},
     "output_type": "execute_result"
    }
   ],
   "source": [
    "check = ['인터넷평일','인터넷주말','인터넷휴일','모바일평일','모바일주말','모바일휴일']\n",
    "df[check].skew()\n",
    "df[check].skew()[(df[check].skew() > 2) | (df[check].skew() < -2)]"
   ]
  },
  {
   "cell_type": "code",
   "execution_count": 31,
   "metadata": {},
   "outputs": [
    {
     "data": {
      "text/plain": [
       "array([[<matplotlib.axes._subplots.AxesSubplot object at 0x000001E60FCC2048>,\n",
       "        <matplotlib.axes._subplots.AxesSubplot object at 0x000001E60FFABFC8>]],\n",
       "      dtype=object)"
      ]
     },
     "execution_count": 31,
     "metadata": {},
     "output_type": "execute_result"
    },
    {
     "data": {
      "image/png": "[encoded data removed]",
      "text/plain": [
       "<Figure size 1080x288 with 2 Axes>"
      ]
     },
     "metadata": {
      "needs_background": "light"
     },
     "output_type": "display_data"
    }
   ],
   "source": [
    "sk = ['모바일주말', '모바일휴일']\n",
    "df[sk].hist(bins=50, figsize=(15,4))"
   ]
  },
  {
   "cell_type": "code",
   "execution_count": 32,
   "metadata": {},
   "outputs": [
    {
     "name": "stdout",
     "output_type": "stream",
     "text": [
      "변수명 : 모바일주말\n",
      "원자료_skewness : 2.3285478340362737\n",
      "log변환_skewness : -0.9822699243989281\n",
      "squareroot변환_skewness : 0.8042985452979947\n",
      "**************************************************\n",
      "변수명 : 모바일휴일\n",
      "원자료_skewness : 2.2160403737777896\n",
      "log변환_skewness : -1.7017025705614766\n",
      "squareroot변환_skewness : 0.49218534855428253\n",
      "**************************************************\n"
     ]
    }
   ],
   "source": [
    "for i in sk :\n",
    "    print('변수명 :', i)\n",
    "    print('원자료_skewness :', df[i].skew())\n",
    "    print('log변환_skewness :', np.log(1 + df[i]).skew()) # -inf방지\n",
    "    print('squareroot변환_skewness :', np.sqrt(df[i]).skew())\n",
    "    print('*'*50)"
   ]
  },
  {
   "cell_type": "code",
   "execution_count": 33,
   "metadata": {},
   "outputs": [
    {
     "data": {
      "text/plain": [
       "모바일주말    0.804299\n",
       "모바일휴일    0.492185\n",
       "dtype: float64"
      ]
     },
     "execution_count": 33,
     "metadata": {},
     "output_type": "execute_result"
    },
    {
     "data": {
      "text/plain": [
       "array([[<matplotlib.axes._subplots.AxesSubplot object at 0x000001E60FFC8C88>,\n",
       "        <matplotlib.axes._subplots.AxesSubplot object at 0x000001E60FFD9708>]],\n",
       "      dtype=object)"
      ]
     },
     "execution_count": 33,
     "metadata": {},
     "output_type": "execute_result"
    },
    {
     "data": {
      "image/png": "[encoded data removed]",
      "text/plain": [
       "<Figure size 1080x288 with 2 Axes>"
      ]
     },
     "metadata": {
      "needs_background": "light"
     },
     "output_type": "display_data"
    }
   ],
   "source": [
    "for i in sk :\n",
    "    df[i] = np.sqrt(df[i])\n",
    "df[sk].skew()\n",
    "df[sk].hist(bins=50, figsize=(15,4))"
   ]
  },
  {
   "cell_type": "code",
   "execution_count": 34,
   "metadata": {},
   "outputs": [
    {
     "name": "stdout",
     "output_type": "stream",
     "text": [
      "The numbers of nan, inf & -inf  0\n"
     ]
    }
   ],
   "source": [
    "print('The numbers of nan, inf & -inf ',df.isin([np.nan, np.inf, -np.inf]).any(1).sum())"
   ]
  },
  {
   "cell_type": "code",
   "execution_count": 35,
   "metadata": {},
   "outputs": [
    {
     "data": {
      "text/plain": [
       "{871, 2230, 3203}"
      ]
     },
     "execution_count": 35,
     "metadata": {},
     "output_type": "execute_result"
    },
    {
     "data": {
      "text/html": [
       "<div>\n",
       "<style scoped>\n",
       "    .dataframe tbody tr th:only-of-type {\n",
       "        vertical-align: middle;\n",
       "    }\n",
       "\n",
       "    .dataframe tbody tr th {\n",
       "        vertical-align: top;\n",
       "    }\n",
       "\n",
       "    .dataframe thead th {\n",
       "        text-align: right;\n",
       "    }\n",
       "</style>\n",
       "<table border=\"1\" class=\"dataframe\">\n",
       "  <thead>\n",
       "    <tr style=\"text-align: right;\">\n",
       "      <th></th>\n",
       "      <th>성별</th>\n",
       "      <th>연령</th>\n",
       "      <th>지역</th>\n",
       "      <th>직업</th>\n",
       "      <th>가구소득</th>\n",
       "      <th>학력</th>\n",
       "      <th>주거형태</th>\n",
       "      <th>결혼</th>\n",
       "      <th>자녀수</th>\n",
       "      <th>인터넷평일</th>\n",
       "      <th>...</th>\n",
       "      <th>모바일주말</th>\n",
       "      <th>모바일휴일</th>\n",
       "      <th>TV1</th>\n",
       "      <th>TV2</th>\n",
       "      <th>TV3</th>\n",
       "      <th>TV4</th>\n",
       "      <th>드라마1</th>\n",
       "      <th>드라마2</th>\n",
       "      <th>드라마3</th>\n",
       "      <th>구매</th>\n",
       "    </tr>\n",
       "  </thead>\n",
       "  <tbody>\n",
       "  </tbody>\n",
       "</table>\n",
       "<p>0 rows × 23 columns</p>\n",
       "</div>"
      ],
      "text/plain": [
       "Empty DataFrame\n",
       "Columns: [성별, 연령, 지역, 직업, 가구소득, 학력, 주거형태, 결혼, 자녀수, 인터넷평일, 인터넷주말, 인터넷휴일, 모바일평일, 모바일주말, 모바일휴일, TV1, TV2, TV3, TV4, 드라마1, 드라마2, 드라마3, 구매]\n",
       "Index: []\n",
       "\n",
       "[0 rows x 23 columns]"
      ]
     },
     "execution_count": 35,
     "metadata": {},
     "output_type": "execute_result"
    },
    {
     "data": {
      "text/html": [
       "<div>\n",
       "<style scoped>\n",
       "    .dataframe tbody tr th:only-of-type {\n",
       "        vertical-align: middle;\n",
       "    }\n",
       "\n",
       "    .dataframe tbody tr th {\n",
       "        vertical-align: top;\n",
       "    }\n",
       "\n",
       "    .dataframe thead th {\n",
       "        text-align: right;\n",
       "    }\n",
       "</style>\n",
       "<table border=\"1\" class=\"dataframe\">\n",
       "  <thead>\n",
       "    <tr style=\"text-align: right;\">\n",
       "      <th></th>\n",
       "      <th>성별</th>\n",
       "      <th>연령</th>\n",
       "      <th>지역</th>\n",
       "      <th>직업</th>\n",
       "      <th>가구소득</th>\n",
       "      <th>학력</th>\n",
       "      <th>주거형태</th>\n",
       "      <th>결혼</th>\n",
       "      <th>자녀수</th>\n",
       "      <th>인터넷평일</th>\n",
       "      <th>...</th>\n",
       "      <th>모바일주말</th>\n",
       "      <th>모바일휴일</th>\n",
       "      <th>TV1</th>\n",
       "      <th>TV2</th>\n",
       "      <th>TV3</th>\n",
       "      <th>TV4</th>\n",
       "      <th>드라마1</th>\n",
       "      <th>드라마2</th>\n",
       "      <th>드라마3</th>\n",
       "      <th>구매</th>\n",
       "    </tr>\n",
       "  </thead>\n",
       "  <tbody>\n",
       "  </tbody>\n",
       "</table>\n",
       "<p>0 rows × 23 columns</p>\n",
       "</div>"
      ],
      "text/plain": [
       "Empty DataFrame\n",
       "Columns: [성별, 연령, 지역, 직업, 가구소득, 학력, 주거형태, 결혼, 자녀수, 인터넷평일, 인터넷주말, 인터넷휴일, 모바일평일, 모바일주말, 모바일휴일, TV1, TV2, TV3, TV4, 드라마1, 드라마2, 드라마3, 구매]\n",
       "Index: []\n",
       "\n",
       "[0 rows x 23 columns]"
      ]
     },
     "execution_count": 35,
     "metadata": {},
     "output_type": "execute_result"
    },
    {
     "data": {
      "text/html": [
       "<div>\n",
       "<style scoped>\n",
       "    .dataframe tbody tr th:only-of-type {\n",
       "        vertical-align: middle;\n",
       "    }\n",
       "\n",
       "    .dataframe tbody tr th {\n",
       "        vertical-align: top;\n",
       "    }\n",
       "\n",
       "    .dataframe thead th {\n",
       "        text-align: right;\n",
       "    }\n",
       "</style>\n",
       "<table border=\"1\" class=\"dataframe\">\n",
       "  <thead>\n",
       "    <tr style=\"text-align: right;\">\n",
       "      <th></th>\n",
       "      <th>성별</th>\n",
       "      <th>연령</th>\n",
       "      <th>지역</th>\n",
       "      <th>직업</th>\n",
       "      <th>가구소득</th>\n",
       "      <th>학력</th>\n",
       "      <th>주거형태</th>\n",
       "      <th>결혼</th>\n",
       "      <th>자녀수</th>\n",
       "      <th>인터넷평일</th>\n",
       "      <th>...</th>\n",
       "      <th>모바일주말</th>\n",
       "      <th>모바일휴일</th>\n",
       "      <th>TV1</th>\n",
       "      <th>TV2</th>\n",
       "      <th>TV3</th>\n",
       "      <th>TV4</th>\n",
       "      <th>드라마1</th>\n",
       "      <th>드라마2</th>\n",
       "      <th>드라마3</th>\n",
       "      <th>구매</th>\n",
       "    </tr>\n",
       "  </thead>\n",
       "  <tbody>\n",
       "  </tbody>\n",
       "</table>\n",
       "<p>0 rows × 23 columns</p>\n",
       "</div>"
      ],
      "text/plain": [
       "Empty DataFrame\n",
       "Columns: [성별, 연령, 지역, 직업, 가구소득, 학력, 주거형태, 결혼, 자녀수, 인터넷평일, 인터넷주말, 인터넷휴일, 모바일평일, 모바일주말, 모바일휴일, TV1, TV2, TV3, TV4, 드라마1, 드라마2, 드라마3, 구매]\n",
       "Index: []\n",
       "\n",
       "[0 rows x 23 columns]"
      ]
     },
     "execution_count": 35,
     "metadata": {},
     "output_type": "execute_result"
    }
   ],
   "source": [
    "set([i for i in range(len(df))]) - set(df.index)\n",
    "for i in set([i for i in range(len(df))]) - set(df.index) :\n",
    "    df[df.index == i]"
   ]
  },
  {
   "cell_type": "code",
   "execution_count": 36,
   "metadata": {},
   "outputs": [],
   "source": [
    "df.reset_index(drop = True, inplace= True) "
   ]
  },
  {
   "cell_type": "code",
   "execution_count": 37,
   "metadata": {},
   "outputs": [
    {
     "data": {
      "text/plain": [
       "Index(['학력'], dtype='object')"
      ]
     },
     "execution_count": 37,
     "metadata": {},
     "output_type": "execute_result"
    }
   ],
   "source": [
    "df.columns[df.dtypes == 'object']\n",
    "df['학력']= df['학력'].astype('category')"
   ]
  },
  {
   "cell_type": "code",
   "execution_count": 38,
   "metadata": {},
   "outputs": [],
   "source": [
    "df.to_pickle('../data/4장3절자료.pkl')"
   ]
  },
  {
   "cell_type": "code",
   "execution_count": 39,
   "metadata": {},
   "outputs": [
    {
     "name": "stdout",
     "output_type": "stream",
     "text": [
      "13.0세 ~ 21.0세의 평균나이:16.89세\n",
      "22.0세 ~ 29.0세의 평균나이:25.31세\n",
      "30.0세 ~ 37.0세의 평균나이:33.84세\n",
      "38.0세 ~ 45.0세의 평균나이:41.63세\n",
      "46.0세 ~ 53.0세의 평균나이:49.45세\n",
      "54.0세 ~ 61.0세의 평균나이:57.19세\n",
      "62.0세 ~ 69.0세의 평균나이:64.88세\n"
     ]
    }
   ],
   "source": [
    "df['연령대'] = pd.cut(df['연령'], 7, labels = [1,2,3,4,5,6,7])\n",
    "for i, group in df.groupby('연령대')['연령']:\n",
    "    print(f'{group.min()}세 ~ {group.max()}세의 평균나이:{round(group.mean(), 2)}세')"
   ]
  },
  {
   "cell_type": "code",
   "execution_count": 40,
   "metadata": {
    "scrolled": false
   },
   "outputs": [
    {
     "data": {
      "text/plain": [
       "(1, (464, 24))"
      ]
     },
     "execution_count": 40,
     "metadata": {},
     "output_type": "execute_result"
    },
    {
     "data": {
      "text/html": [
       "<div>\n",
       "<style scoped>\n",
       "    .dataframe tbody tr th:only-of-type {\n",
       "        vertical-align: middle;\n",
       "    }\n",
       "\n",
       "    .dataframe tbody tr th {\n",
       "        vertical-align: top;\n",
       "    }\n",
       "\n",
       "    .dataframe thead th {\n",
       "        text-align: right;\n",
       "    }\n",
       "</style>\n",
       "<table border=\"1\" class=\"dataframe\">\n",
       "  <thead>\n",
       "    <tr style=\"text-align: right;\">\n",
       "      <th></th>\n",
       "      <th>성별</th>\n",
       "      <th>연령</th>\n",
       "      <th>지역</th>\n",
       "      <th>직업</th>\n",
       "      <th>가구소득</th>\n",
       "      <th>학력</th>\n",
       "      <th>주거형태</th>\n",
       "      <th>결혼</th>\n",
       "      <th>자녀수</th>\n",
       "      <th>인터넷평일</th>\n",
       "      <th>...</th>\n",
       "      <th>모바일휴일</th>\n",
       "      <th>TV1</th>\n",
       "      <th>TV2</th>\n",
       "      <th>TV3</th>\n",
       "      <th>TV4</th>\n",
       "      <th>드라마1</th>\n",
       "      <th>드라마2</th>\n",
       "      <th>드라마3</th>\n",
       "      <th>구매</th>\n",
       "      <th>연령대</th>\n",
       "    </tr>\n",
       "  </thead>\n",
       "  <tbody>\n",
       "    <tr>\n",
       "      <th>0</th>\n",
       "      <td>1</td>\n",
       "      <td>14.0</td>\n",
       "      <td>서울</td>\n",
       "      <td>학생재수생</td>\n",
       "      <td>6.0</td>\n",
       "      <td>중학교재학</td>\n",
       "      <td>월세</td>\n",
       "      <td>미혼</td>\n",
       "      <td>0.0</td>\n",
       "      <td>0.0</td>\n",
       "      <td>...</td>\n",
       "      <td>13.416408</td>\n",
       "      <td>4</td>\n",
       "      <td>7.0</td>\n",
       "      <td>9.0</td>\n",
       "      <td>11.0</td>\n",
       "      <td>6.0</td>\n",
       "      <td>9.0</td>\n",
       "      <td>10.0</td>\n",
       "      <td>4.0</td>\n",
       "      <td>1</td>\n",
       "    </tr>\n",
       "    <tr>\n",
       "      <th>1</th>\n",
       "      <td>1</td>\n",
       "      <td>14.0</td>\n",
       "      <td>서울</td>\n",
       "      <td>학생재수생</td>\n",
       "      <td>6.0</td>\n",
       "      <td>중학교재학</td>\n",
       "      <td>자가</td>\n",
       "      <td>미혼</td>\n",
       "      <td>0.0</td>\n",
       "      <td>30.0</td>\n",
       "      <td>...</td>\n",
       "      <td>6.324555</td>\n",
       "      <td>3</td>\n",
       "      <td>4.0</td>\n",
       "      <td>7.0</td>\n",
       "      <td>7.0</td>\n",
       "      <td>4.0</td>\n",
       "      <td>6.0</td>\n",
       "      <td>11.0</td>\n",
       "      <td>2.0</td>\n",
       "      <td>1</td>\n",
       "    </tr>\n",
       "  </tbody>\n",
       "</table>\n",
       "<p>2 rows × 24 columns</p>\n",
       "</div>"
      ],
      "text/plain": [
       "  성별    연령  지역     직업  가구소득     학력 주거형태  결혼  자녀수  인터넷평일  ...      모바일휴일  TV1  \\\n",
       "0  1  14.0  서울  학생재수생   6.0  중학교재학   월세  미혼  0.0    0.0  ...  13.416408    4   \n",
       "1  1  14.0  서울  학생재수생   6.0  중학교재학   자가  미혼  0.0   30.0  ...   6.324555    3   \n",
       "\n",
       "   TV2  TV3   TV4 드라마1 드라마2  드라마3   구매 연령대  \n",
       "0  7.0  9.0  11.0  6.0  9.0  10.0  4.0   1  \n",
       "1  4.0  7.0   7.0  4.0  6.0  11.0  2.0   1  \n",
       "\n",
       "[2 rows x 24 columns]"
      ]
     },
     "execution_count": 40,
     "metadata": {},
     "output_type": "execute_result"
    },
    {
     "data": {
      "text/plain": [
       "(2, (613, 24))"
      ]
     },
     "execution_count": 40,
     "metadata": {},
     "output_type": "execute_result"
    },
    {
     "data": {
      "text/html": [
       "<div>\n",
       "<style scoped>\n",
       "    .dataframe tbody tr th:only-of-type {\n",
       "        vertical-align: middle;\n",
       "    }\n",
       "\n",
       "    .dataframe tbody tr th {\n",
       "        vertical-align: top;\n",
       "    }\n",
       "\n",
       "    .dataframe thead th {\n",
       "        text-align: right;\n",
       "    }\n",
       "</style>\n",
       "<table border=\"1\" class=\"dataframe\">\n",
       "  <thead>\n",
       "    <tr style=\"text-align: right;\">\n",
       "      <th></th>\n",
       "      <th>성별</th>\n",
       "      <th>연령</th>\n",
       "      <th>지역</th>\n",
       "      <th>직업</th>\n",
       "      <th>가구소득</th>\n",
       "      <th>학력</th>\n",
       "      <th>주거형태</th>\n",
       "      <th>결혼</th>\n",
       "      <th>자녀수</th>\n",
       "      <th>인터넷평일</th>\n",
       "      <th>...</th>\n",
       "      <th>모바일휴일</th>\n",
       "      <th>TV1</th>\n",
       "      <th>TV2</th>\n",
       "      <th>TV3</th>\n",
       "      <th>TV4</th>\n",
       "      <th>드라마1</th>\n",
       "      <th>드라마2</th>\n",
       "      <th>드라마3</th>\n",
       "      <th>구매</th>\n",
       "      <th>연령대</th>\n",
       "    </tr>\n",
       "  </thead>\n",
       "  <tbody>\n",
       "    <tr>\n",
       "      <th>33</th>\n",
       "      <td>1</td>\n",
       "      <td>22.0</td>\n",
       "      <td>서울</td>\n",
       "      <td>학생재수생</td>\n",
       "      <td>6.0</td>\n",
       "      <td>대학교재학</td>\n",
       "      <td>자가</td>\n",
       "      <td>미혼</td>\n",
       "      <td>0.0</td>\n",
       "      <td>60.0</td>\n",
       "      <td>...</td>\n",
       "      <td>7.745967</td>\n",
       "      <td>1</td>\n",
       "      <td>4.0</td>\n",
       "      <td>6.0</td>\n",
       "      <td>7.0</td>\n",
       "      <td>1.0</td>\n",
       "      <td>4.0</td>\n",
       "      <td>5.0</td>\n",
       "      <td>3.0</td>\n",
       "      <td>2</td>\n",
       "    </tr>\n",
       "    <tr>\n",
       "      <th>35</th>\n",
       "      <td>1</td>\n",
       "      <td>23.0</td>\n",
       "      <td>서울</td>\n",
       "      <td>학생재수생</td>\n",
       "      <td>8.0</td>\n",
       "      <td>대학교재학</td>\n",
       "      <td>자가</td>\n",
       "      <td>미혼</td>\n",
       "      <td>0.0</td>\n",
       "      <td>60.0</td>\n",
       "      <td>...</td>\n",
       "      <td>10.954451</td>\n",
       "      <td>7</td>\n",
       "      <td>8.0</td>\n",
       "      <td>9.0</td>\n",
       "      <td>7.0</td>\n",
       "      <td>1.0</td>\n",
       "      <td>4.0</td>\n",
       "      <td>4.0</td>\n",
       "      <td>5.0</td>\n",
       "      <td>2</td>\n",
       "    </tr>\n",
       "  </tbody>\n",
       "</table>\n",
       "<p>2 rows × 24 columns</p>\n",
       "</div>"
      ],
      "text/plain": [
       "   성별    연령  지역     직업  가구소득     학력 주거형태  결혼  자녀수  인터넷평일  ...      모바일휴일  TV1  \\\n",
       "33  1  22.0  서울  학생재수생   6.0  대학교재학   자가  미혼  0.0   60.0  ...   7.745967    1   \n",
       "35  1  23.0  서울  학생재수생   8.0  대학교재학   자가  미혼  0.0   60.0  ...  10.954451    7   \n",
       "\n",
       "    TV2  TV3  TV4 드라마1 드라마2 드라마3   구매 연령대  \n",
       "33  4.0  6.0  7.0  1.0  4.0  5.0  3.0   2  \n",
       "35  8.0  9.0  7.0  1.0  4.0  4.0  5.0   2  \n",
       "\n",
       "[2 rows x 24 columns]"
      ]
     },
     "execution_count": 40,
     "metadata": {},
     "output_type": "execute_result"
    },
    {
     "data": {
      "text/plain": [
       "(3, (543, 24))"
      ]
     },
     "execution_count": 40,
     "metadata": {},
     "output_type": "execute_result"
    },
    {
     "data": {
      "text/html": [
       "<div>\n",
       "<style scoped>\n",
       "    .dataframe tbody tr th:only-of-type {\n",
       "        vertical-align: middle;\n",
       "    }\n",
       "\n",
       "    .dataframe tbody tr th {\n",
       "        vertical-align: top;\n",
       "    }\n",
       "\n",
       "    .dataframe thead th {\n",
       "        text-align: right;\n",
       "    }\n",
       "</style>\n",
       "<table border=\"1\" class=\"dataframe\">\n",
       "  <thead>\n",
       "    <tr style=\"text-align: right;\">\n",
       "      <th></th>\n",
       "      <th>성별</th>\n",
       "      <th>연령</th>\n",
       "      <th>지역</th>\n",
       "      <th>직업</th>\n",
       "      <th>가구소득</th>\n",
       "      <th>학력</th>\n",
       "      <th>주거형태</th>\n",
       "      <th>결혼</th>\n",
       "      <th>자녀수</th>\n",
       "      <th>인터넷평일</th>\n",
       "      <th>...</th>\n",
       "      <th>모바일휴일</th>\n",
       "      <th>TV1</th>\n",
       "      <th>TV2</th>\n",
       "      <th>TV3</th>\n",
       "      <th>TV4</th>\n",
       "      <th>드라마1</th>\n",
       "      <th>드라마2</th>\n",
       "      <th>드라마3</th>\n",
       "      <th>구매</th>\n",
       "      <th>연령대</th>\n",
       "    </tr>\n",
       "  </thead>\n",
       "  <tbody>\n",
       "    <tr>\n",
       "      <th>114</th>\n",
       "      <td>1</td>\n",
       "      <td>34.0</td>\n",
       "      <td>서울</td>\n",
       "      <td>사무직</td>\n",
       "      <td>5.0</td>\n",
       "      <td>대학교졸업</td>\n",
       "      <td>월세</td>\n",
       "      <td>미혼</td>\n",
       "      <td>0.0</td>\n",
       "      <td>68.876933</td>\n",
       "      <td>...</td>\n",
       "      <td>7.071068</td>\n",
       "      <td>1</td>\n",
       "      <td>10.0</td>\n",
       "      <td>7.0</td>\n",
       "      <td>7.0</td>\n",
       "      <td>1.0</td>\n",
       "      <td>4.0</td>\n",
       "      <td>4.0</td>\n",
       "      <td>3.0</td>\n",
       "      <td>3</td>\n",
       "    </tr>\n",
       "    <tr>\n",
       "      <th>115</th>\n",
       "      <td>1</td>\n",
       "      <td>33.0</td>\n",
       "      <td>서울</td>\n",
       "      <td>사무직</td>\n",
       "      <td>6.0</td>\n",
       "      <td>대학교졸업</td>\n",
       "      <td>자가</td>\n",
       "      <td>미혼</td>\n",
       "      <td>0.0</td>\n",
       "      <td>255.000000</td>\n",
       "      <td>...</td>\n",
       "      <td>15.491933</td>\n",
       "      <td>1</td>\n",
       "      <td>7.0</td>\n",
       "      <td>10.0</td>\n",
       "      <td>7.0</td>\n",
       "      <td>1.0</td>\n",
       "      <td>4.0</td>\n",
       "      <td>4.0</td>\n",
       "      <td>3.0</td>\n",
       "      <td>3</td>\n",
       "    </tr>\n",
       "  </tbody>\n",
       "</table>\n",
       "<p>2 rows × 24 columns</p>\n",
       "</div>"
      ],
      "text/plain": [
       "    성별    연령  지역   직업  가구소득     학력 주거형태  결혼  자녀수       인터넷평일  ...      모바일휴일  \\\n",
       "114  1  34.0  서울  사무직   5.0  대학교졸업   월세  미혼  0.0   68.876933  ...   7.071068   \n",
       "115  1  33.0  서울  사무직   6.0  대학교졸업   자가  미혼  0.0  255.000000  ...  15.491933   \n",
       "\n",
       "     TV1   TV2   TV3  TV4 드라마1 드라마2 드라마3   구매 연령대  \n",
       "114    1  10.0   7.0  7.0  1.0  4.0  4.0  3.0   3  \n",
       "115    1   7.0  10.0  7.0  1.0  4.0  4.0  3.0   3  \n",
       "\n",
       "[2 rows x 24 columns]"
      ]
     },
     "execution_count": 40,
     "metadata": {},
     "output_type": "execute_result"
    },
    {
     "data": {
      "text/plain": [
       "(4, (646, 24))"
      ]
     },
     "execution_count": 40,
     "metadata": {},
     "output_type": "execute_result"
    },
    {
     "data": {
      "text/html": [
       "<div>\n",
       "<style scoped>\n",
       "    .dataframe tbody tr th:only-of-type {\n",
       "        vertical-align: middle;\n",
       "    }\n",
       "\n",
       "    .dataframe tbody tr th {\n",
       "        vertical-align: top;\n",
       "    }\n",
       "\n",
       "    .dataframe thead th {\n",
       "        text-align: right;\n",
       "    }\n",
       "</style>\n",
       "<table border=\"1\" class=\"dataframe\">\n",
       "  <thead>\n",
       "    <tr style=\"text-align: right;\">\n",
       "      <th></th>\n",
       "      <th>성별</th>\n",
       "      <th>연령</th>\n",
       "      <th>지역</th>\n",
       "      <th>직업</th>\n",
       "      <th>가구소득</th>\n",
       "      <th>학력</th>\n",
       "      <th>주거형태</th>\n",
       "      <th>결혼</th>\n",
       "      <th>자녀수</th>\n",
       "      <th>인터넷평일</th>\n",
       "      <th>...</th>\n",
       "      <th>모바일휴일</th>\n",
       "      <th>TV1</th>\n",
       "      <th>TV2</th>\n",
       "      <th>TV3</th>\n",
       "      <th>TV4</th>\n",
       "      <th>드라마1</th>\n",
       "      <th>드라마2</th>\n",
       "      <th>드라마3</th>\n",
       "      <th>구매</th>\n",
       "      <th>연령대</th>\n",
       "    </tr>\n",
       "  </thead>\n",
       "  <tbody>\n",
       "    <tr>\n",
       "      <th>158</th>\n",
       "      <td>1</td>\n",
       "      <td>38.0</td>\n",
       "      <td>서울</td>\n",
       "      <td>판매서비스직</td>\n",
       "      <td>11.0</td>\n",
       "      <td>대학교졸업</td>\n",
       "      <td>자가</td>\n",
       "      <td>기혼</td>\n",
       "      <td>1.0</td>\n",
       "      <td>20.0</td>\n",
       "      <td>...</td>\n",
       "      <td>13.416408</td>\n",
       "      <td>3</td>\n",
       "      <td>10.0</td>\n",
       "      <td>15.0</td>\n",
       "      <td>7.0</td>\n",
       "      <td>1.0</td>\n",
       "      <td>4.0</td>\n",
       "      <td>4.0</td>\n",
       "      <td>2.0</td>\n",
       "      <td>4</td>\n",
       "    </tr>\n",
       "    <tr>\n",
       "      <th>160</th>\n",
       "      <td>1</td>\n",
       "      <td>39.0</td>\n",
       "      <td>서울</td>\n",
       "      <td>무직기타</td>\n",
       "      <td>7.0</td>\n",
       "      <td>대학교졸업</td>\n",
       "      <td>자가</td>\n",
       "      <td>미혼</td>\n",
       "      <td>0.0</td>\n",
       "      <td>60.0</td>\n",
       "      <td>...</td>\n",
       "      <td>5.477226</td>\n",
       "      <td>1</td>\n",
       "      <td>2.0</td>\n",
       "      <td>3.0</td>\n",
       "      <td>7.0</td>\n",
       "      <td>1.0</td>\n",
       "      <td>4.0</td>\n",
       "      <td>4.0</td>\n",
       "      <td>3.0</td>\n",
       "      <td>4</td>\n",
       "    </tr>\n",
       "  </tbody>\n",
       "</table>\n",
       "<p>2 rows × 24 columns</p>\n",
       "</div>"
      ],
      "text/plain": [
       "    성별    연령  지역      직업  가구소득     학력 주거형태  결혼  자녀수  인터넷평일  ...      모바일휴일  \\\n",
       "158  1  38.0  서울  판매서비스직  11.0  대학교졸업   자가  기혼  1.0   20.0  ...  13.416408   \n",
       "160  1  39.0  서울    무직기타   7.0  대학교졸업   자가  미혼  0.0   60.0  ...   5.477226   \n",
       "\n",
       "     TV1   TV2   TV3  TV4 드라마1 드라마2 드라마3   구매 연령대  \n",
       "158    3  10.0  15.0  7.0  1.0  4.0  4.0  2.0   4  \n",
       "160    1   2.0   3.0  7.0  1.0  4.0  4.0  3.0   4  \n",
       "\n",
       "[2 rows x 24 columns]"
      ]
     },
     "execution_count": 40,
     "metadata": {},
     "output_type": "execute_result"
    },
    {
     "data": {
      "text/plain": [
       "(5, (682, 24))"
      ]
     },
     "execution_count": 40,
     "metadata": {},
     "output_type": "execute_result"
    },
    {
     "data": {
      "text/html": [
       "<div>\n",
       "<style scoped>\n",
       "    .dataframe tbody tr th:only-of-type {\n",
       "        vertical-align: middle;\n",
       "    }\n",
       "\n",
       "    .dataframe tbody tr th {\n",
       "        vertical-align: top;\n",
       "    }\n",
       "\n",
       "    .dataframe thead th {\n",
       "        text-align: right;\n",
       "    }\n",
       "</style>\n",
       "<table border=\"1\" class=\"dataframe\">\n",
       "  <thead>\n",
       "    <tr style=\"text-align: right;\">\n",
       "      <th></th>\n",
       "      <th>성별</th>\n",
       "      <th>연령</th>\n",
       "      <th>지역</th>\n",
       "      <th>직업</th>\n",
       "      <th>가구소득</th>\n",
       "      <th>학력</th>\n",
       "      <th>주거형태</th>\n",
       "      <th>결혼</th>\n",
       "      <th>자녀수</th>\n",
       "      <th>인터넷평일</th>\n",
       "      <th>...</th>\n",
       "      <th>모바일휴일</th>\n",
       "      <th>TV1</th>\n",
       "      <th>TV2</th>\n",
       "      <th>TV3</th>\n",
       "      <th>TV4</th>\n",
       "      <th>드라마1</th>\n",
       "      <th>드라마2</th>\n",
       "      <th>드라마3</th>\n",
       "      <th>구매</th>\n",
       "      <th>연령대</th>\n",
       "    </tr>\n",
       "  </thead>\n",
       "  <tbody>\n",
       "    <tr>\n",
       "      <th>252</th>\n",
       "      <td>1</td>\n",
       "      <td>48.0</td>\n",
       "      <td>서울</td>\n",
       "      <td>사무직</td>\n",
       "      <td>7.0</td>\n",
       "      <td>대학교졸업</td>\n",
       "      <td>자가</td>\n",
       "      <td>기혼</td>\n",
       "      <td>1.0</td>\n",
       "      <td>255.000000</td>\n",
       "      <td>...</td>\n",
       "      <td>13.416408</td>\n",
       "      <td>1</td>\n",
       "      <td>3.0</td>\n",
       "      <td>4.0</td>\n",
       "      <td>6.0</td>\n",
       "      <td>9.0</td>\n",
       "      <td>10.0</td>\n",
       "      <td>4.0</td>\n",
       "      <td>1.0</td>\n",
       "      <td>5</td>\n",
       "    </tr>\n",
       "    <tr>\n",
       "      <th>253</th>\n",
       "      <td>1</td>\n",
       "      <td>46.0</td>\n",
       "      <td>서울</td>\n",
       "      <td>기능노무직</td>\n",
       "      <td>9.0</td>\n",
       "      <td>고등학교졸업</td>\n",
       "      <td>자가</td>\n",
       "      <td>기혼</td>\n",
       "      <td>3.0</td>\n",
       "      <td>60.689964</td>\n",
       "      <td>...</td>\n",
       "      <td>10.954451</td>\n",
       "      <td>1</td>\n",
       "      <td>7.0</td>\n",
       "      <td>7.0</td>\n",
       "      <td>7.0</td>\n",
       "      <td>1.0</td>\n",
       "      <td>4.0</td>\n",
       "      <td>4.0</td>\n",
       "      <td>2.0</td>\n",
       "      <td>5</td>\n",
       "    </tr>\n",
       "  </tbody>\n",
       "</table>\n",
       "<p>2 rows × 24 columns</p>\n",
       "</div>"
      ],
      "text/plain": [
       "    성별    연령  지역     직업  가구소득      학력 주거형태  결혼  자녀수       인터넷평일  ...  \\\n",
       "252  1  48.0  서울    사무직   7.0   대학교졸업   자가  기혼  1.0  255.000000  ...   \n",
       "253  1  46.0  서울  기능노무직   9.0  고등학교졸업   자가  기혼  3.0   60.689964  ...   \n",
       "\n",
       "         모바일휴일  TV1  TV2  TV3  TV4 드라마1  드라마2 드라마3   구매 연령대  \n",
       "252  13.416408    1  3.0  4.0  6.0  9.0  10.0  4.0  1.0   5  \n",
       "253  10.954451    1  7.0  7.0  7.0  1.0   4.0  4.0  2.0   5  \n",
       "\n",
       "[2 rows x 24 columns]"
      ]
     },
     "execution_count": 40,
     "metadata": {},
     "output_type": "execute_result"
    },
    {
     "data": {
      "text/plain": [
       "(6, (647, 24))"
      ]
     },
     "execution_count": 40,
     "metadata": {},
     "output_type": "execute_result"
    },
    {
     "data": {
      "text/html": [
       "<div>\n",
       "<style scoped>\n",
       "    .dataframe tbody tr th:only-of-type {\n",
       "        vertical-align: middle;\n",
       "    }\n",
       "\n",
       "    .dataframe tbody tr th {\n",
       "        vertical-align: top;\n",
       "    }\n",
       "\n",
       "    .dataframe thead th {\n",
       "        text-align: right;\n",
       "    }\n",
       "</style>\n",
       "<table border=\"1\" class=\"dataframe\">\n",
       "  <thead>\n",
       "    <tr style=\"text-align: right;\">\n",
       "      <th></th>\n",
       "      <th>성별</th>\n",
       "      <th>연령</th>\n",
       "      <th>지역</th>\n",
       "      <th>직업</th>\n",
       "      <th>가구소득</th>\n",
       "      <th>학력</th>\n",
       "      <th>주거형태</th>\n",
       "      <th>결혼</th>\n",
       "      <th>자녀수</th>\n",
       "      <th>인터넷평일</th>\n",
       "      <th>...</th>\n",
       "      <th>모바일휴일</th>\n",
       "      <th>TV1</th>\n",
       "      <th>TV2</th>\n",
       "      <th>TV3</th>\n",
       "      <th>TV4</th>\n",
       "      <th>드라마1</th>\n",
       "      <th>드라마2</th>\n",
       "      <th>드라마3</th>\n",
       "      <th>구매</th>\n",
       "      <th>연령대</th>\n",
       "    </tr>\n",
       "  </thead>\n",
       "  <tbody>\n",
       "    <tr>\n",
       "      <th>303</th>\n",
       "      <td>1</td>\n",
       "      <td>54.0</td>\n",
       "      <td>서울</td>\n",
       "      <td>기능노무직</td>\n",
       "      <td>6.0</td>\n",
       "      <td>고등학교졸업</td>\n",
       "      <td>자가</td>\n",
       "      <td>기타_이혼별거사별</td>\n",
       "      <td>2.0</td>\n",
       "      <td>60.689964</td>\n",
       "      <td>...</td>\n",
       "      <td>7.745967</td>\n",
       "      <td>1</td>\n",
       "      <td>7.0</td>\n",
       "      <td>10.0</td>\n",
       "      <td>7.0</td>\n",
       "      <td>1.0</td>\n",
       "      <td>4.0</td>\n",
       "      <td>4.0</td>\n",
       "      <td>2.0</td>\n",
       "      <td>6</td>\n",
       "    </tr>\n",
       "    <tr>\n",
       "      <th>305</th>\n",
       "      <td>1</td>\n",
       "      <td>54.0</td>\n",
       "      <td>서울</td>\n",
       "      <td>기능노무직</td>\n",
       "      <td>6.0</td>\n",
       "      <td>고등학교졸업</td>\n",
       "      <td>전세</td>\n",
       "      <td>기혼</td>\n",
       "      <td>1.0</td>\n",
       "      <td>60.689964</td>\n",
       "      <td>...</td>\n",
       "      <td>6.324555</td>\n",
       "      <td>1</td>\n",
       "      <td>3.0</td>\n",
       "      <td>4.0</td>\n",
       "      <td>7.0</td>\n",
       "      <td>6.0</td>\n",
       "      <td>9.0</td>\n",
       "      <td>4.0</td>\n",
       "      <td>3.0</td>\n",
       "      <td>6</td>\n",
       "    </tr>\n",
       "  </tbody>\n",
       "</table>\n",
       "<p>2 rows × 24 columns</p>\n",
       "</div>"
      ],
      "text/plain": [
       "    성별    연령  지역     직업  가구소득      학력 주거형태         결혼  자녀수      인터넷평일  ...  \\\n",
       "303  1  54.0  서울  기능노무직   6.0  고등학교졸업   자가  기타_이혼별거사별  2.0  60.689964  ...   \n",
       "305  1  54.0  서울  기능노무직   6.0  고등학교졸업   전세         기혼  1.0  60.689964  ...   \n",
       "\n",
       "        모바일휴일  TV1  TV2   TV3  TV4 드라마1 드라마2 드라마3   구매 연령대  \n",
       "303  7.745967    1  7.0  10.0  7.0  1.0  4.0  4.0  2.0   6  \n",
       "305  6.324555    1  3.0   4.0  7.0  6.0  9.0  4.0  3.0   6  \n",
       "\n",
       "[2 rows x 24 columns]"
      ]
     },
     "execution_count": 40,
     "metadata": {},
     "output_type": "execute_result"
    },
    {
     "data": {
      "text/plain": [
       "(7, (402, 24))"
      ]
     },
     "execution_count": 40,
     "metadata": {},
     "output_type": "execute_result"
    },
    {
     "data": {
      "text/html": [
       "<div>\n",
       "<style scoped>\n",
       "    .dataframe tbody tr th:only-of-type {\n",
       "        vertical-align: middle;\n",
       "    }\n",
       "\n",
       "    .dataframe tbody tr th {\n",
       "        vertical-align: top;\n",
       "    }\n",
       "\n",
       "    .dataframe thead th {\n",
       "        text-align: right;\n",
       "    }\n",
       "</style>\n",
       "<table border=\"1\" class=\"dataframe\">\n",
       "  <thead>\n",
       "    <tr style=\"text-align: right;\">\n",
       "      <th></th>\n",
       "      <th>성별</th>\n",
       "      <th>연령</th>\n",
       "      <th>지역</th>\n",
       "      <th>직업</th>\n",
       "      <th>가구소득</th>\n",
       "      <th>학력</th>\n",
       "      <th>주거형태</th>\n",
       "      <th>결혼</th>\n",
       "      <th>자녀수</th>\n",
       "      <th>인터넷평일</th>\n",
       "      <th>...</th>\n",
       "      <th>모바일휴일</th>\n",
       "      <th>TV1</th>\n",
       "      <th>TV2</th>\n",
       "      <th>TV3</th>\n",
       "      <th>TV4</th>\n",
       "      <th>드라마1</th>\n",
       "      <th>드라마2</th>\n",
       "      <th>드라마3</th>\n",
       "      <th>구매</th>\n",
       "      <th>연령대</th>\n",
       "    </tr>\n",
       "  </thead>\n",
       "  <tbody>\n",
       "    <tr>\n",
       "      <th>401</th>\n",
       "      <td>1</td>\n",
       "      <td>63.0</td>\n",
       "      <td>서울</td>\n",
       "      <td>기능노무직</td>\n",
       "      <td>4.0</td>\n",
       "      <td>고등학교졸업</td>\n",
       "      <td>자가</td>\n",
       "      <td>기혼</td>\n",
       "      <td>2.0</td>\n",
       "      <td>60.689964</td>\n",
       "      <td>...</td>\n",
       "      <td>5.477226</td>\n",
       "      <td>1</td>\n",
       "      <td>2.0</td>\n",
       "      <td>3.0</td>\n",
       "      <td>4.0</td>\n",
       "      <td>2.0</td>\n",
       "      <td>3.0</td>\n",
       "      <td>4.0</td>\n",
       "      <td>2.0</td>\n",
       "      <td>7</td>\n",
       "    </tr>\n",
       "    <tr>\n",
       "      <th>403</th>\n",
       "      <td>1</td>\n",
       "      <td>62.0</td>\n",
       "      <td>서울</td>\n",
       "      <td>무직기타</td>\n",
       "      <td>2.0</td>\n",
       "      <td>고등학교졸업</td>\n",
       "      <td>자가</td>\n",
       "      <td>기혼</td>\n",
       "      <td>2.0</td>\n",
       "      <td>10.000000</td>\n",
       "      <td>...</td>\n",
       "      <td>3.162278</td>\n",
       "      <td>1</td>\n",
       "      <td>2.0</td>\n",
       "      <td>3.0</td>\n",
       "      <td>8.0</td>\n",
       "      <td>1.0</td>\n",
       "      <td>4.0</td>\n",
       "      <td>4.0</td>\n",
       "      <td>4.0</td>\n",
       "      <td>7</td>\n",
       "    </tr>\n",
       "  </tbody>\n",
       "</table>\n",
       "<p>2 rows × 24 columns</p>\n",
       "</div>"
      ],
      "text/plain": [
       "    성별    연령  지역     직업  가구소득      학력 주거형태  결혼  자녀수      인터넷평일  ...     모바일휴일  \\\n",
       "401  1  63.0  서울  기능노무직   4.0  고등학교졸업   자가  기혼  2.0  60.689964  ...  5.477226   \n",
       "403  1  62.0  서울   무직기타   2.0  고등학교졸업   자가  기혼  2.0  10.000000  ...  3.162278   \n",
       "\n",
       "     TV1  TV2  TV3  TV4 드라마1 드라마2 드라마3   구매 연령대  \n",
       "401    1  2.0  3.0  4.0  2.0  3.0  4.0  2.0   7  \n",
       "403    1  2.0  3.0  8.0  1.0  4.0  4.0  4.0   7  \n",
       "\n",
       "[2 rows x 24 columns]"
      ]
     },
     "execution_count": 40,
     "metadata": {},
     "output_type": "execute_result"
    }
   ],
   "source": [
    "age_band = df.groupby('연령대')\n",
    "for name, group in age_band :\n",
    "    name, group.shape\n",
    "    group.head(2)"
   ]
  },
  {
   "cell_type": "code",
   "execution_count": 41,
   "metadata": {
    "scrolled": true
   },
   "outputs": [
    {
     "data": {
      "text/plain": [
       "(613, 24)"
      ]
     },
     "execution_count": 41,
     "metadata": {},
     "output_type": "execute_result"
    },
    {
     "data": {
      "text/plain": [
       "5    682\n",
       "6    647\n",
       "4    646\n",
       "2    613\n",
       "3    543\n",
       "1    464\n",
       "7    402\n",
       "Name: 연령대, dtype: int64"
      ]
     },
     "execution_count": 41,
     "metadata": {},
     "output_type": "execute_result"
    }
   ],
   "source": [
    "age_band_20s = age_band.get_group(2)\n",
    "age_band_20s.shape\n",
    "df['연령대'].value_counts()"
   ]
  },
  {
   "cell_type": "code",
   "execution_count": 42,
   "metadata": {},
   "outputs": [
    {
     "name": "stdout",
     "output_type": "stream",
     "text": [
      "nan, inf & -inf 의 개수는 ?   0\n"
     ]
    }
   ],
   "source": [
    "print('nan, inf & -inf 의 개수는 ?  ', df.isin([np.nan, np.inf, -np.inf]).any(1).sum())"
   ]
  },
  {
   "cell_type": "code",
   "execution_count": 43,
   "metadata": {},
   "outputs": [],
   "source": [
    "drama_col = ['드라마1', '드라마2', '드라마3']\n",
    "drama_genre= df[drama_col]"
   ]
  },
  {
   "cell_type": "code",
   "execution_count": 44,
   "metadata": {},
   "outputs": [
    {
     "data": {
      "text/plain": [
       "'{1.0, 2.0, 3.0, 4.0, 5.0, 6.0, 7.0, 8.0, 9.0, 10.0, 11.0, 12.0, 13.0, 14.0, 15.0, 16.0}'"
      ]
     },
     "execution_count": 44,
     "metadata": {},
     "output_type": "execute_result"
    }
   ],
   "source": [
    "new_col = set()\n",
    "for col in df[['드라마1', '드라마2', '드라마3']] :\n",
    "    new_col.update(set(df[col].unique()))\n",
    "''.join(str(new_col))"
   ]
  },
  {
   "cell_type": "code",
   "execution_count": 45,
   "metadata": {},
   "outputs": [
    {
     "data": {
      "text/html": [
       "<div>\n",
       "<style scoped>\n",
       "    .dataframe tbody tr th:only-of-type {\n",
       "        vertical-align: middle;\n",
       "    }\n",
       "\n",
       "    .dataframe tbody tr th {\n",
       "        vertical-align: top;\n",
       "    }\n",
       "\n",
       "    .dataframe thead th {\n",
       "        text-align: right;\n",
       "    }\n",
       "</style>\n",
       "<table border=\"1\" class=\"dataframe\">\n",
       "  <thead>\n",
       "    <tr style=\"text-align: right;\">\n",
       "      <th></th>\n",
       "      <th>1.0</th>\n",
       "      <th>2.0</th>\n",
       "      <th>3.0</th>\n",
       "      <th>4.0</th>\n",
       "      <th>5.0</th>\n",
       "      <th>6.0</th>\n",
       "      <th>7.0</th>\n",
       "      <th>8.0</th>\n",
       "      <th>9.0</th>\n",
       "      <th>10.0</th>\n",
       "      <th>11.0</th>\n",
       "      <th>12.0</th>\n",
       "      <th>13.0</th>\n",
       "      <th>14.0</th>\n",
       "      <th>15.0</th>\n",
       "      <th>16.0</th>\n",
       "    </tr>\n",
       "  </thead>\n",
       "  <tbody>\n",
       "    <tr>\n",
       "      <th>0</th>\n",
       "      <td>0.0</td>\n",
       "      <td>0.0</td>\n",
       "      <td>0.0</td>\n",
       "      <td>0.0</td>\n",
       "      <td>0.0</td>\n",
       "      <td>0.0</td>\n",
       "      <td>0.0</td>\n",
       "      <td>0.0</td>\n",
       "      <td>0.0</td>\n",
       "      <td>0.0</td>\n",
       "      <td>0.0</td>\n",
       "      <td>0.0</td>\n",
       "      <td>0.0</td>\n",
       "      <td>0.0</td>\n",
       "      <td>0.0</td>\n",
       "      <td>0.0</td>\n",
       "    </tr>\n",
       "    <tr>\n",
       "      <th>1</th>\n",
       "      <td>0.0</td>\n",
       "      <td>0.0</td>\n",
       "      <td>0.0</td>\n",
       "      <td>0.0</td>\n",
       "      <td>0.0</td>\n",
       "      <td>0.0</td>\n",
       "      <td>0.0</td>\n",
       "      <td>0.0</td>\n",
       "      <td>0.0</td>\n",
       "      <td>0.0</td>\n",
       "      <td>0.0</td>\n",
       "      <td>0.0</td>\n",
       "      <td>0.0</td>\n",
       "      <td>0.0</td>\n",
       "      <td>0.0</td>\n",
       "      <td>0.0</td>\n",
       "    </tr>\n",
       "    <tr>\n",
       "      <th>2</th>\n",
       "      <td>0.0</td>\n",
       "      <td>0.0</td>\n",
       "      <td>0.0</td>\n",
       "      <td>0.0</td>\n",
       "      <td>0.0</td>\n",
       "      <td>0.0</td>\n",
       "      <td>0.0</td>\n",
       "      <td>0.0</td>\n",
       "      <td>0.0</td>\n",
       "      <td>0.0</td>\n",
       "      <td>0.0</td>\n",
       "      <td>0.0</td>\n",
       "      <td>0.0</td>\n",
       "      <td>0.0</td>\n",
       "      <td>0.0</td>\n",
       "      <td>0.0</td>\n",
       "    </tr>\n",
       "    <tr>\n",
       "      <th>3</th>\n",
       "      <td>0.0</td>\n",
       "      <td>0.0</td>\n",
       "      <td>0.0</td>\n",
       "      <td>0.0</td>\n",
       "      <td>0.0</td>\n",
       "      <td>0.0</td>\n",
       "      <td>0.0</td>\n",
       "      <td>0.0</td>\n",
       "      <td>0.0</td>\n",
       "      <td>0.0</td>\n",
       "      <td>0.0</td>\n",
       "      <td>0.0</td>\n",
       "      <td>0.0</td>\n",
       "      <td>0.0</td>\n",
       "      <td>0.0</td>\n",
       "      <td>0.0</td>\n",
       "    </tr>\n",
       "    <tr>\n",
       "      <th>4</th>\n",
       "      <td>0.0</td>\n",
       "      <td>0.0</td>\n",
       "      <td>0.0</td>\n",
       "      <td>0.0</td>\n",
       "      <td>0.0</td>\n",
       "      <td>0.0</td>\n",
       "      <td>0.0</td>\n",
       "      <td>0.0</td>\n",
       "      <td>0.0</td>\n",
       "      <td>0.0</td>\n",
       "      <td>0.0</td>\n",
       "      <td>0.0</td>\n",
       "      <td>0.0</td>\n",
       "      <td>0.0</td>\n",
       "      <td>0.0</td>\n",
       "      <td>0.0</td>\n",
       "    </tr>\n",
       "    <tr>\n",
       "      <th>...</th>\n",
       "      <td>...</td>\n",
       "      <td>...</td>\n",
       "      <td>...</td>\n",
       "      <td>...</td>\n",
       "      <td>...</td>\n",
       "      <td>...</td>\n",
       "      <td>...</td>\n",
       "      <td>...</td>\n",
       "      <td>...</td>\n",
       "      <td>...</td>\n",
       "      <td>...</td>\n",
       "      <td>...</td>\n",
       "      <td>...</td>\n",
       "      <td>...</td>\n",
       "      <td>...</td>\n",
       "      <td>...</td>\n",
       "    </tr>\n",
       "    <tr>\n",
       "      <th>3992</th>\n",
       "      <td>0.0</td>\n",
       "      <td>0.0</td>\n",
       "      <td>0.0</td>\n",
       "      <td>0.0</td>\n",
       "      <td>0.0</td>\n",
       "      <td>0.0</td>\n",
       "      <td>0.0</td>\n",
       "      <td>0.0</td>\n",
       "      <td>0.0</td>\n",
       "      <td>0.0</td>\n",
       "      <td>0.0</td>\n",
       "      <td>0.0</td>\n",
       "      <td>0.0</td>\n",
       "      <td>0.0</td>\n",
       "      <td>0.0</td>\n",
       "      <td>0.0</td>\n",
       "    </tr>\n",
       "    <tr>\n",
       "      <th>3993</th>\n",
       "      <td>0.0</td>\n",
       "      <td>0.0</td>\n",
       "      <td>0.0</td>\n",
       "      <td>0.0</td>\n",
       "      <td>0.0</td>\n",
       "      <td>0.0</td>\n",
       "      <td>0.0</td>\n",
       "      <td>0.0</td>\n",
       "      <td>0.0</td>\n",
       "      <td>0.0</td>\n",
       "      <td>0.0</td>\n",
       "      <td>0.0</td>\n",
       "      <td>0.0</td>\n",
       "      <td>0.0</td>\n",
       "      <td>0.0</td>\n",
       "      <td>0.0</td>\n",
       "    </tr>\n",
       "    <tr>\n",
       "      <th>3994</th>\n",
       "      <td>0.0</td>\n",
       "      <td>0.0</td>\n",
       "      <td>0.0</td>\n",
       "      <td>0.0</td>\n",
       "      <td>0.0</td>\n",
       "      <td>0.0</td>\n",
       "      <td>0.0</td>\n",
       "      <td>0.0</td>\n",
       "      <td>0.0</td>\n",
       "      <td>0.0</td>\n",
       "      <td>0.0</td>\n",
       "      <td>0.0</td>\n",
       "      <td>0.0</td>\n",
       "      <td>0.0</td>\n",
       "      <td>0.0</td>\n",
       "      <td>0.0</td>\n",
       "    </tr>\n",
       "    <tr>\n",
       "      <th>3995</th>\n",
       "      <td>0.0</td>\n",
       "      <td>0.0</td>\n",
       "      <td>0.0</td>\n",
       "      <td>0.0</td>\n",
       "      <td>0.0</td>\n",
       "      <td>0.0</td>\n",
       "      <td>0.0</td>\n",
       "      <td>0.0</td>\n",
       "      <td>0.0</td>\n",
       "      <td>0.0</td>\n",
       "      <td>0.0</td>\n",
       "      <td>0.0</td>\n",
       "      <td>0.0</td>\n",
       "      <td>0.0</td>\n",
       "      <td>0.0</td>\n",
       "      <td>0.0</td>\n",
       "    </tr>\n",
       "    <tr>\n",
       "      <th>3996</th>\n",
       "      <td>0.0</td>\n",
       "      <td>0.0</td>\n",
       "      <td>0.0</td>\n",
       "      <td>0.0</td>\n",
       "      <td>0.0</td>\n",
       "      <td>0.0</td>\n",
       "      <td>0.0</td>\n",
       "      <td>0.0</td>\n",
       "      <td>0.0</td>\n",
       "      <td>0.0</td>\n",
       "      <td>0.0</td>\n",
       "      <td>0.0</td>\n",
       "      <td>0.0</td>\n",
       "      <td>0.0</td>\n",
       "      <td>0.0</td>\n",
       "      <td>0.0</td>\n",
       "    </tr>\n",
       "  </tbody>\n",
       "</table>\n",
       "<p>3997 rows × 16 columns</p>\n",
       "</div>"
      ],
      "text/plain": [
       "      1.0   2.0   3.0   4.0   5.0   6.0   7.0   8.0   9.0   10.0  11.0  12.0  \\\n",
       "0      0.0   0.0   0.0   0.0   0.0   0.0   0.0   0.0   0.0   0.0   0.0   0.0   \n",
       "1      0.0   0.0   0.0   0.0   0.0   0.0   0.0   0.0   0.0   0.0   0.0   0.0   \n",
       "2      0.0   0.0   0.0   0.0   0.0   0.0   0.0   0.0   0.0   0.0   0.0   0.0   \n",
       "3      0.0   0.0   0.0   0.0   0.0   0.0   0.0   0.0   0.0   0.0   0.0   0.0   \n",
       "4      0.0   0.0   0.0   0.0   0.0   0.0   0.0   0.0   0.0   0.0   0.0   0.0   \n",
       "...    ...   ...   ...   ...   ...   ...   ...   ...   ...   ...   ...   ...   \n",
       "3992   0.0   0.0   0.0   0.0   0.0   0.0   0.0   0.0   0.0   0.0   0.0   0.0   \n",
       "3993   0.0   0.0   0.0   0.0   0.0   0.0   0.0   0.0   0.0   0.0   0.0   0.0   \n",
       "3994   0.0   0.0   0.0   0.0   0.0   0.0   0.0   0.0   0.0   0.0   0.0   0.0   \n",
       "3995   0.0   0.0   0.0   0.0   0.0   0.0   0.0   0.0   0.0   0.0   0.0   0.0   \n",
       "3996   0.0   0.0   0.0   0.0   0.0   0.0   0.0   0.0   0.0   0.0   0.0   0.0   \n",
       "\n",
       "      13.0  14.0  15.0  16.0  \n",
       "0      0.0   0.0   0.0   0.0  \n",
       "1      0.0   0.0   0.0   0.0  \n",
       "2      0.0   0.0   0.0   0.0  \n",
       "3      0.0   0.0   0.0   0.0  \n",
       "4      0.0   0.0   0.0   0.0  \n",
       "...    ...   ...   ...   ...  \n",
       "3992   0.0   0.0   0.0   0.0  \n",
       "3993   0.0   0.0   0.0   0.0  \n",
       "3994   0.0   0.0   0.0   0.0  \n",
       "3995   0.0   0.0   0.0   0.0  \n",
       "3996   0.0   0.0   0.0   0.0  \n",
       "\n",
       "[3997 rows x 16 columns]"
      ]
     },
     "execution_count": 45,
     "metadata": {},
     "output_type": "execute_result"
    }
   ],
   "source": [
    "tf = pd.DataFrame(np.zeros((df.shape[0], len(new_col))), columns = new_col)\n",
    "tf"
   ]
  },
  {
   "cell_type": "code",
   "execution_count": 46,
   "metadata": {},
   "outputs": [
    {
     "data": {
      "text/html": [
       "<div>\n",
       "<style scoped>\n",
       "    .dataframe tbody tr th:only-of-type {\n",
       "        vertical-align: middle;\n",
       "    }\n",
       "\n",
       "    .dataframe tbody tr th {\n",
       "        vertical-align: top;\n",
       "    }\n",
       "\n",
       "    .dataframe thead th {\n",
       "        text-align: right;\n",
       "    }\n",
       "</style>\n",
       "<table border=\"1\" class=\"dataframe\">\n",
       "  <thead>\n",
       "    <tr style=\"text-align: right;\">\n",
       "      <th></th>\n",
       "      <th>drama1</th>\n",
       "      <th>drama2</th>\n",
       "      <th>drama3</th>\n",
       "      <th>drama4</th>\n",
       "      <th>drama5</th>\n",
       "      <th>drama6</th>\n",
       "      <th>drama7</th>\n",
       "      <th>drama8</th>\n",
       "      <th>drama9</th>\n",
       "      <th>drama10</th>\n",
       "      <th>drama11</th>\n",
       "      <th>drama12</th>\n",
       "      <th>drama13</th>\n",
       "      <th>drama14</th>\n",
       "      <th>drama15</th>\n",
       "      <th>drama16</th>\n",
       "    </tr>\n",
       "  </thead>\n",
       "  <tbody>\n",
       "    <tr>\n",
       "      <th>0</th>\n",
       "      <td>0.0</td>\n",
       "      <td>0.0</td>\n",
       "      <td>0.0</td>\n",
       "      <td>0.0</td>\n",
       "      <td>0.0</td>\n",
       "      <td>1.0</td>\n",
       "      <td>0.0</td>\n",
       "      <td>0.0</td>\n",
       "      <td>1.0</td>\n",
       "      <td>1.0</td>\n",
       "      <td>0.0</td>\n",
       "      <td>0.0</td>\n",
       "      <td>0.0</td>\n",
       "      <td>0.0</td>\n",
       "      <td>0.0</td>\n",
       "      <td>0.0</td>\n",
       "    </tr>\n",
       "    <tr>\n",
       "      <th>1</th>\n",
       "      <td>0.0</td>\n",
       "      <td>0.0</td>\n",
       "      <td>0.0</td>\n",
       "      <td>1.0</td>\n",
       "      <td>0.0</td>\n",
       "      <td>1.0</td>\n",
       "      <td>0.0</td>\n",
       "      <td>0.0</td>\n",
       "      <td>0.0</td>\n",
       "      <td>0.0</td>\n",
       "      <td>1.0</td>\n",
       "      <td>0.0</td>\n",
       "      <td>0.0</td>\n",
       "      <td>0.0</td>\n",
       "      <td>0.0</td>\n",
       "      <td>0.0</td>\n",
       "    </tr>\n",
       "    <tr>\n",
       "      <th>2</th>\n",
       "      <td>1.0</td>\n",
       "      <td>0.0</td>\n",
       "      <td>0.0</td>\n",
       "      <td>1.0</td>\n",
       "      <td>0.0</td>\n",
       "      <td>0.0</td>\n",
       "      <td>0.0</td>\n",
       "      <td>0.0</td>\n",
       "      <td>0.0</td>\n",
       "      <td>0.0</td>\n",
       "      <td>0.0</td>\n",
       "      <td>1.0</td>\n",
       "      <td>0.0</td>\n",
       "      <td>0.0</td>\n",
       "      <td>0.0</td>\n",
       "      <td>0.0</td>\n",
       "    </tr>\n",
       "    <tr>\n",
       "      <th>3</th>\n",
       "      <td>1.0</td>\n",
       "      <td>0.0</td>\n",
       "      <td>0.0</td>\n",
       "      <td>2.0</td>\n",
       "      <td>0.0</td>\n",
       "      <td>0.0</td>\n",
       "      <td>0.0</td>\n",
       "      <td>0.0</td>\n",
       "      <td>0.0</td>\n",
       "      <td>0.0</td>\n",
       "      <td>0.0</td>\n",
       "      <td>0.0</td>\n",
       "      <td>0.0</td>\n",
       "      <td>0.0</td>\n",
       "      <td>0.0</td>\n",
       "      <td>0.0</td>\n",
       "    </tr>\n",
       "    <tr>\n",
       "      <th>4</th>\n",
       "      <td>0.0</td>\n",
       "      <td>0.0</td>\n",
       "      <td>0.0</td>\n",
       "      <td>1.0</td>\n",
       "      <td>1.0</td>\n",
       "      <td>0.0</td>\n",
       "      <td>0.0</td>\n",
       "      <td>0.0</td>\n",
       "      <td>0.0</td>\n",
       "      <td>1.0</td>\n",
       "      <td>0.0</td>\n",
       "      <td>0.0</td>\n",
       "      <td>0.0</td>\n",
       "      <td>0.0</td>\n",
       "      <td>0.0</td>\n",
       "      <td>0.0</td>\n",
       "    </tr>\n",
       "  </tbody>\n",
       "</table>\n",
       "</div>"
      ],
      "text/plain": [
       "   drama1  drama2  drama3  drama4  drama5  drama6  drama7  drama8  drama9  \\\n",
       "0     0.0     0.0     0.0     0.0     0.0     1.0     0.0     0.0     1.0   \n",
       "1     0.0     0.0     0.0     1.0     0.0     1.0     0.0     0.0     0.0   \n",
       "2     1.0     0.0     0.0     1.0     0.0     0.0     0.0     0.0     0.0   \n",
       "3     1.0     0.0     0.0     2.0     0.0     0.0     0.0     0.0     0.0   \n",
       "4     0.0     0.0     0.0     1.0     1.0     0.0     0.0     0.0     0.0   \n",
       "\n",
       "   drama10  drama11  drama12  drama13  drama14  drama15  drama16  \n",
       "0      1.0      0.0      0.0      0.0      0.0      0.0      0.0  \n",
       "1      0.0      1.0      0.0      0.0      0.0      0.0      0.0  \n",
       "2      0.0      0.0      1.0      0.0      0.0      0.0      0.0  \n",
       "3      0.0      0.0      0.0      0.0      0.0      0.0      0.0  \n",
       "4      1.0      0.0      0.0      0.0      0.0      0.0      0.0  "
      ]
     },
     "execution_count": 46,
     "metadata": {},
     "output_type": "execute_result"
    }
   ],
   "source": [
    "for col in drama_col : \n",
    "    for prefix in new_col:\n",
    "        drama_genre[prefix] = (drama_genre[col] == prefix).astype(int)\n",
    "    tf += drama_genre.drop(drama_col, axis = 1)\n",
    "tf.columns = ['drama' + str(int(i)) for i in new_col]\n",
    "tf.head()"
   ]
  },
  {
   "cell_type": "code",
   "execution_count": 47,
   "metadata": {
    "scrolled": true
   },
   "outputs": [],
   "source": [
    "df = pd.merge(df.drop(drama_col, axis=1), tf, left_index=True, \n",
    "              right_index=True, how='left')"
   ]
  },
  {
   "cell_type": "code",
   "execution_count": 48,
   "metadata": {},
   "outputs": [],
   "source": [
    "tv_col = ['TV1', 'TV2', 'TV3', 'TV4']\n",
    "tv_genre= df[tv_col]\n",
    "new_col = set()\n",
    "for col in tv_genre :\n",
    "    new_col.update(set(df[col].unique()))"
   ]
  },
  {
   "cell_type": "code",
   "execution_count": 49,
   "metadata": {},
   "outputs": [],
   "source": [
    "tf = pd.DataFrame(np.zeros((tf.shape[0], len(new_col))), columns = new_col)\n",
    "for col in tv_col : \n",
    "    for prefix in new_col:\n",
    "        tv_genre[prefix] = (tv_genre[col] == prefix).astype(int)\n",
    "    tf += tv_genre.drop(tv_col, axis = 1)\n",
    "tf.columns = ['tv' + str(int(i)) for i in new_col]\n",
    "df = pd.merge(df.drop(tv_col, axis=1), tf, left_index=True, \n",
    "              right_index=True, how='left')"
   ]
  },
  {
   "cell_type": "code",
   "execution_count": 50,
   "metadata": {},
   "outputs": [
    {
     "data": {
      "text/plain": [
       "Index(['성별', '연령', '지역', '직업', '가구소득', '학력', '주거형태', '결혼', '자녀수', '인터넷평일',\n",
       "       '인터넷주말', '인터넷휴일', '모바일평일', '모바일주말', '모바일휴일', '구매', '연령대', 'drama1',\n",
       "       'drama2', 'drama3', 'drama4', 'drama5', 'drama6', 'drama7', 'drama8',\n",
       "       'drama9', 'drama10', 'drama11', 'drama12', 'drama13', 'drama14',\n",
       "       'drama15', 'drama16', 'tv1', 'tv2', 'tv3', 'tv4', 'tv5', 'tv6', 'tv7',\n",
       "       'tv8', 'tv9', 'tv10', 'tv11', 'tv12', 'tv13', 'tv14', 'tv15', 'tv16',\n",
       "       'tv17'],\n",
       "      dtype='object')"
      ]
     },
     "execution_count": 50,
     "metadata": {},
     "output_type": "execute_result"
    },
    {
     "name": "stdout",
     "output_type": "stream",
     "text": [
      "The numbers of nan, inf & -inf: 0\n"
     ]
    },
    {
     "data": {
      "text/plain": [
       "False"
      ]
     },
     "execution_count": 50,
     "metadata": {},
     "output_type": "execute_result"
    }
   ],
   "source": [
    "df.columns\n",
    "print('The numbers of nan, inf & -inf:', df.isin([np.nan, np.inf, -np.inf]).any(1).sum())\n",
    "dict(df.dtypes) == 'object'"
   ]
  },
  {
   "cell_type": "code",
   "execution_count": 51,
   "metadata": {},
   "outputs": [],
   "source": [
    "df.to_pickle('../data/4장자료.pkl')"
   ]
  },
  {
   "cell_type": "code",
   "execution_count": null,
   "metadata": {},
   "outputs": [],
   "source": []
  },
  {
   "cell_type": "code",
   "execution_count": 52,
   "metadata": {},
   "outputs": [
    {
     "data": {
      "text/html": [
       "<div>\n",
       "<style scoped>\n",
       "    .dataframe tbody tr th:only-of-type {\n",
       "        vertical-align: middle;\n",
       "    }\n",
       "\n",
       "    .dataframe tbody tr th {\n",
       "        vertical-align: top;\n",
       "    }\n",
       "\n",
       "    .dataframe thead th {\n",
       "        text-align: right;\n",
       "    }\n",
       "</style>\n",
       "<table border=\"1\" class=\"dataframe\">\n",
       "  <thead>\n",
       "    <tr style=\"text-align: right;\">\n",
       "      <th></th>\n",
       "      <th>성별</th>\n",
       "      <th>연령</th>\n",
       "      <th>지역</th>\n",
       "      <th>직업</th>\n",
       "      <th>가구소득</th>\n",
       "      <th>학력</th>\n",
       "      <th>주거형태</th>\n",
       "      <th>결혼</th>\n",
       "      <th>자녀수</th>\n",
       "      <th>인터넷평일</th>\n",
       "      <th>...</th>\n",
       "      <th>모바일주말</th>\n",
       "      <th>모바일휴일</th>\n",
       "      <th>TV1</th>\n",
       "      <th>TV2</th>\n",
       "      <th>TV3</th>\n",
       "      <th>TV4</th>\n",
       "      <th>드라마1</th>\n",
       "      <th>드라마2</th>\n",
       "      <th>드라마3</th>\n",
       "      <th>구매</th>\n",
       "    </tr>\n",
       "  </thead>\n",
       "  <tbody>\n",
       "    <tr>\n",
       "      <th>0</th>\n",
       "      <td>1</td>\n",
       "      <td>14.0</td>\n",
       "      <td>서울</td>\n",
       "      <td>학생재수생</td>\n",
       "      <td>6.0</td>\n",
       "      <td>중학교재학</td>\n",
       "      <td>월세</td>\n",
       "      <td>미혼</td>\n",
       "      <td>0.0</td>\n",
       "      <td>0.000000</td>\n",
       "      <td>...</td>\n",
       "      <td>12.247449</td>\n",
       "      <td>13.416408</td>\n",
       "      <td>4</td>\n",
       "      <td>7.0</td>\n",
       "      <td>9.0</td>\n",
       "      <td>11.0</td>\n",
       "      <td>6.0</td>\n",
       "      <td>9.0</td>\n",
       "      <td>10.0</td>\n",
       "      <td>4.0</td>\n",
       "    </tr>\n",
       "    <tr>\n",
       "      <th>1</th>\n",
       "      <td>1</td>\n",
       "      <td>14.0</td>\n",
       "      <td>서울</td>\n",
       "      <td>학생재수생</td>\n",
       "      <td>6.0</td>\n",
       "      <td>중학교재학</td>\n",
       "      <td>자가</td>\n",
       "      <td>미혼</td>\n",
       "      <td>0.0</td>\n",
       "      <td>30.000000</td>\n",
       "      <td>...</td>\n",
       "      <td>6.324555</td>\n",
       "      <td>6.324555</td>\n",
       "      <td>3</td>\n",
       "      <td>4.0</td>\n",
       "      <td>7.0</td>\n",
       "      <td>7.0</td>\n",
       "      <td>4.0</td>\n",
       "      <td>6.0</td>\n",
       "      <td>11.0</td>\n",
       "      <td>2.0</td>\n",
       "    </tr>\n",
       "    <tr>\n",
       "      <th>2</th>\n",
       "      <td>1</td>\n",
       "      <td>14.0</td>\n",
       "      <td>서울</td>\n",
       "      <td>학생재수생</td>\n",
       "      <td>6.0</td>\n",
       "      <td>중학교재학</td>\n",
       "      <td>전세</td>\n",
       "      <td>미혼</td>\n",
       "      <td>0.0</td>\n",
       "      <td>90.000000</td>\n",
       "      <td>...</td>\n",
       "      <td>13.416408</td>\n",
       "      <td>13.416408</td>\n",
       "      <td>4</td>\n",
       "      <td>6.0</td>\n",
       "      <td>7.0</td>\n",
       "      <td>9.0</td>\n",
       "      <td>1.0</td>\n",
       "      <td>4.0</td>\n",
       "      <td>12.0</td>\n",
       "      <td>5.0</td>\n",
       "    </tr>\n",
       "    <tr>\n",
       "      <th>3</th>\n",
       "      <td>1</td>\n",
       "      <td>14.0</td>\n",
       "      <td>서울</td>\n",
       "      <td>학생재수생</td>\n",
       "      <td>8.0</td>\n",
       "      <td>중학교재학</td>\n",
       "      <td>자가</td>\n",
       "      <td>미혼</td>\n",
       "      <td>0.0</td>\n",
       "      <td>68.876933</td>\n",
       "      <td>...</td>\n",
       "      <td>7.745967</td>\n",
       "      <td>7.745967</td>\n",
       "      <td>6</td>\n",
       "      <td>7.0</td>\n",
       "      <td>9.0</td>\n",
       "      <td>10.0</td>\n",
       "      <td>1.0</td>\n",
       "      <td>4.0</td>\n",
       "      <td>4.0</td>\n",
       "      <td>2.0</td>\n",
       "    </tr>\n",
       "    <tr>\n",
       "      <th>4</th>\n",
       "      <td>1</td>\n",
       "      <td>14.0</td>\n",
       "      <td>서울</td>\n",
       "      <td>학생재수생</td>\n",
       "      <td>9.0</td>\n",
       "      <td>중학교재학</td>\n",
       "      <td>자가</td>\n",
       "      <td>미혼</td>\n",
       "      <td>0.0</td>\n",
       "      <td>0.000000</td>\n",
       "      <td>...</td>\n",
       "      <td>13.416408</td>\n",
       "      <td>13.416408</td>\n",
       "      <td>4</td>\n",
       "      <td>7.0</td>\n",
       "      <td>9.0</td>\n",
       "      <td>7.0</td>\n",
       "      <td>4.0</td>\n",
       "      <td>5.0</td>\n",
       "      <td>10.0</td>\n",
       "      <td>3.0</td>\n",
       "    </tr>\n",
       "  </tbody>\n",
       "</table>\n",
       "<p>5 rows × 23 columns</p>\n",
       "</div>"
      ],
      "text/plain": [
       "  성별    연령  지역     직업  가구소득     학력 주거형태  결혼  자녀수      인터넷평일  ...      모바일주말  \\\n",
       "0  1  14.0  서울  학생재수생   6.0  중학교재학   월세  미혼  0.0   0.000000  ...  12.247449   \n",
       "1  1  14.0  서울  학생재수생   6.0  중학교재학   자가  미혼  0.0  30.000000  ...   6.324555   \n",
       "2  1  14.0  서울  학생재수생   6.0  중학교재학   전세  미혼  0.0  90.000000  ...  13.416408   \n",
       "3  1  14.0  서울  학생재수생   8.0  중학교재학   자가  미혼  0.0  68.876933  ...   7.745967   \n",
       "4  1  14.0  서울  학생재수생   9.0  중학교재학   자가  미혼  0.0   0.000000  ...  13.416408   \n",
       "\n",
       "       모바일휴일  TV1  TV2  TV3   TV4 드라마1 드라마2  드라마3   구매  \n",
       "0  13.416408    4  7.0  9.0  11.0  6.0  9.0  10.0  4.0  \n",
       "1   6.324555    3  4.0  7.0   7.0  4.0  6.0  11.0  2.0  \n",
       "2  13.416408    4  6.0  7.0   9.0  1.0  4.0  12.0  5.0  \n",
       "3   7.745967    6  7.0  9.0  10.0  1.0  4.0   4.0  2.0  \n",
       "4  13.416408    4  7.0  9.0   7.0  4.0  5.0  10.0  3.0  \n",
       "\n",
       "[5 rows x 23 columns]"
      ]
     },
     "execution_count": 52,
     "metadata": {},
     "output_type": "execute_result"
    },
    {
     "data": {
      "text/plain": [
       "(3997, 23)"
      ]
     },
     "execution_count": 52,
     "metadata": {},
     "output_type": "execute_result"
    }
   ],
   "source": [
    "tf = pd.read_pickle('../data/4장3절자료.pkl')\n",
    "tf.head()\n",
    "tf.shape"
   ]
  },
  {
   "cell_type": "code",
   "execution_count": 53,
   "metadata": {},
   "outputs": [
    {
     "data": {
      "text/html": [
       "<div>\n",
       "<style scoped>\n",
       "    .dataframe tbody tr th:only-of-type {\n",
       "        vertical-align: middle;\n",
       "    }\n",
       "\n",
       "    .dataframe tbody tr th {\n",
       "        vertical-align: top;\n",
       "    }\n",
       "\n",
       "    .dataframe thead th {\n",
       "        text-align: right;\n",
       "    }\n",
       "</style>\n",
       "<table border=\"1\" class=\"dataframe\">\n",
       "  <thead>\n",
       "    <tr style=\"text-align: right;\">\n",
       "      <th></th>\n",
       "      <th>성별</th>\n",
       "      <th>연령</th>\n",
       "      <th>지역</th>\n",
       "      <th>직업</th>\n",
       "      <th>가구소득</th>\n",
       "      <th>학력</th>\n",
       "      <th>주거형태</th>\n",
       "      <th>결혼</th>\n",
       "      <th>자녀수</th>\n",
       "      <th>인터넷평일</th>\n",
       "      <th>...</th>\n",
       "      <th>모바일휴일</th>\n",
       "      <th>TV1</th>\n",
       "      <th>TV2</th>\n",
       "      <th>TV3</th>\n",
       "      <th>TV4</th>\n",
       "      <th>드라마1</th>\n",
       "      <th>드라마2</th>\n",
       "      <th>드라마3</th>\n",
       "      <th>구매</th>\n",
       "      <th>드라마</th>\n",
       "    </tr>\n",
       "  </thead>\n",
       "  <tbody>\n",
       "    <tr>\n",
       "      <th>0</th>\n",
       "      <td>1</td>\n",
       "      <td>14.0</td>\n",
       "      <td>서울</td>\n",
       "      <td>학생재수생</td>\n",
       "      <td>6.0</td>\n",
       "      <td>중학교재학</td>\n",
       "      <td>월세</td>\n",
       "      <td>미혼</td>\n",
       "      <td>0.0</td>\n",
       "      <td>0.000000</td>\n",
       "      <td>...</td>\n",
       "      <td>13.416408</td>\n",
       "      <td>4</td>\n",
       "      <td>7.0</td>\n",
       "      <td>9.0</td>\n",
       "      <td>11.0</td>\n",
       "      <td>6.0</td>\n",
       "      <td>9.0</td>\n",
       "      <td>10.0</td>\n",
       "      <td>4.0</td>\n",
       "      <td>[60, 90, 100]</td>\n",
       "    </tr>\n",
       "    <tr>\n",
       "      <th>1</th>\n",
       "      <td>1</td>\n",
       "      <td>14.0</td>\n",
       "      <td>서울</td>\n",
       "      <td>학생재수생</td>\n",
       "      <td>6.0</td>\n",
       "      <td>중학교재학</td>\n",
       "      <td>자가</td>\n",
       "      <td>미혼</td>\n",
       "      <td>0.0</td>\n",
       "      <td>30.000000</td>\n",
       "      <td>...</td>\n",
       "      <td>6.324555</td>\n",
       "      <td>3</td>\n",
       "      <td>4.0</td>\n",
       "      <td>7.0</td>\n",
       "      <td>7.0</td>\n",
       "      <td>4.0</td>\n",
       "      <td>6.0</td>\n",
       "      <td>11.0</td>\n",
       "      <td>2.0</td>\n",
       "      <td>[40, 60, 110]</td>\n",
       "    </tr>\n",
       "    <tr>\n",
       "      <th>2</th>\n",
       "      <td>1</td>\n",
       "      <td>14.0</td>\n",
       "      <td>서울</td>\n",
       "      <td>학생재수생</td>\n",
       "      <td>6.0</td>\n",
       "      <td>중학교재학</td>\n",
       "      <td>전세</td>\n",
       "      <td>미혼</td>\n",
       "      <td>0.0</td>\n",
       "      <td>90.000000</td>\n",
       "      <td>...</td>\n",
       "      <td>13.416408</td>\n",
       "      <td>4</td>\n",
       "      <td>6.0</td>\n",
       "      <td>7.0</td>\n",
       "      <td>9.0</td>\n",
       "      <td>1.0</td>\n",
       "      <td>4.0</td>\n",
       "      <td>12.0</td>\n",
       "      <td>5.0</td>\n",
       "      <td>[10, 40, 120]</td>\n",
       "    </tr>\n",
       "    <tr>\n",
       "      <th>3</th>\n",
       "      <td>1</td>\n",
       "      <td>14.0</td>\n",
       "      <td>서울</td>\n",
       "      <td>학생재수생</td>\n",
       "      <td>8.0</td>\n",
       "      <td>중학교재학</td>\n",
       "      <td>자가</td>\n",
       "      <td>미혼</td>\n",
       "      <td>0.0</td>\n",
       "      <td>68.876933</td>\n",
       "      <td>...</td>\n",
       "      <td>7.745967</td>\n",
       "      <td>6</td>\n",
       "      <td>7.0</td>\n",
       "      <td>9.0</td>\n",
       "      <td>10.0</td>\n",
       "      <td>1.0</td>\n",
       "      <td>4.0</td>\n",
       "      <td>4.0</td>\n",
       "      <td>2.0</td>\n",
       "      <td>[10, 40, 40]</td>\n",
       "    </tr>\n",
       "    <tr>\n",
       "      <th>4</th>\n",
       "      <td>1</td>\n",
       "      <td>14.0</td>\n",
       "      <td>서울</td>\n",
       "      <td>학생재수생</td>\n",
       "      <td>9.0</td>\n",
       "      <td>중학교재학</td>\n",
       "      <td>자가</td>\n",
       "      <td>미혼</td>\n",
       "      <td>0.0</td>\n",
       "      <td>0.000000</td>\n",
       "      <td>...</td>\n",
       "      <td>13.416408</td>\n",
       "      <td>4</td>\n",
       "      <td>7.0</td>\n",
       "      <td>9.0</td>\n",
       "      <td>7.0</td>\n",
       "      <td>4.0</td>\n",
       "      <td>5.0</td>\n",
       "      <td>10.0</td>\n",
       "      <td>3.0</td>\n",
       "      <td>[40, 50, 100]</td>\n",
       "    </tr>\n",
       "    <tr>\n",
       "      <th>...</th>\n",
       "      <td>...</td>\n",
       "      <td>...</td>\n",
       "      <td>...</td>\n",
       "      <td>...</td>\n",
       "      <td>...</td>\n",
       "      <td>...</td>\n",
       "      <td>...</td>\n",
       "      <td>...</td>\n",
       "      <td>...</td>\n",
       "      <td>...</td>\n",
       "      <td>...</td>\n",
       "      <td>...</td>\n",
       "      <td>...</td>\n",
       "      <td>...</td>\n",
       "      <td>...</td>\n",
       "      <td>...</td>\n",
       "      <td>...</td>\n",
       "      <td>...</td>\n",
       "      <td>...</td>\n",
       "      <td>...</td>\n",
       "      <td>...</td>\n",
       "    </tr>\n",
       "    <tr>\n",
       "      <th>3992</th>\n",
       "      <td>2</td>\n",
       "      <td>58.0</td>\n",
       "      <td>광주전라제주</td>\n",
       "      <td>기능노무직</td>\n",
       "      <td>1.0</td>\n",
       "      <td>중학교졸업</td>\n",
       "      <td>자가</td>\n",
       "      <td>기타_이혼별거사별</td>\n",
       "      <td>2.0</td>\n",
       "      <td>60.689964</td>\n",
       "      <td>...</td>\n",
       "      <td>7.745967</td>\n",
       "      <td>1</td>\n",
       "      <td>2.0</td>\n",
       "      <td>3.0</td>\n",
       "      <td>4.0</td>\n",
       "      <td>1.0</td>\n",
       "      <td>4.0</td>\n",
       "      <td>8.0</td>\n",
       "      <td>4.0</td>\n",
       "      <td>[10, 40, 80]</td>\n",
       "    </tr>\n",
       "    <tr>\n",
       "      <th>3993</th>\n",
       "      <td>2</td>\n",
       "      <td>63.0</td>\n",
       "      <td>광주전라제주</td>\n",
       "      <td>전업주부</td>\n",
       "      <td>7.0</td>\n",
       "      <td>고등학교졸업</td>\n",
       "      <td>자가</td>\n",
       "      <td>기혼</td>\n",
       "      <td>2.0</td>\n",
       "      <td>60.689964</td>\n",
       "      <td>...</td>\n",
       "      <td>5.477226</td>\n",
       "      <td>4</td>\n",
       "      <td>7.0</td>\n",
       "      <td>7.0</td>\n",
       "      <td>7.0</td>\n",
       "      <td>1.0</td>\n",
       "      <td>4.0</td>\n",
       "      <td>4.0</td>\n",
       "      <td>4.0</td>\n",
       "      <td>[10, 40, 40]</td>\n",
       "    </tr>\n",
       "    <tr>\n",
       "      <th>3994</th>\n",
       "      <td>2</td>\n",
       "      <td>61.0</td>\n",
       "      <td>광주전라제주</td>\n",
       "      <td>기능노무직</td>\n",
       "      <td>4.0</td>\n",
       "      <td>중학교졸업</td>\n",
       "      <td>전세</td>\n",
       "      <td>기혼</td>\n",
       "      <td>1.0</td>\n",
       "      <td>60.689964</td>\n",
       "      <td>...</td>\n",
       "      <td>5.477226</td>\n",
       "      <td>1</td>\n",
       "      <td>4.0</td>\n",
       "      <td>6.0</td>\n",
       "      <td>7.0</td>\n",
       "      <td>1.0</td>\n",
       "      <td>4.0</td>\n",
       "      <td>5.0</td>\n",
       "      <td>4.0</td>\n",
       "      <td>[10, 40, 50]</td>\n",
       "    </tr>\n",
       "    <tr>\n",
       "      <th>3995</th>\n",
       "      <td>2</td>\n",
       "      <td>67.0</td>\n",
       "      <td>광주전라제주</td>\n",
       "      <td>기능노무직</td>\n",
       "      <td>2.0</td>\n",
       "      <td>중학교졸업</td>\n",
       "      <td>자가</td>\n",
       "      <td>기타_이혼별거사별</td>\n",
       "      <td>2.0</td>\n",
       "      <td>60.689964</td>\n",
       "      <td>...</td>\n",
       "      <td>5.477226</td>\n",
       "      <td>1</td>\n",
       "      <td>4.0</td>\n",
       "      <td>7.0</td>\n",
       "      <td>7.0</td>\n",
       "      <td>1.0</td>\n",
       "      <td>4.0</td>\n",
       "      <td>4.0</td>\n",
       "      <td>4.0</td>\n",
       "      <td>[10, 40, 40]</td>\n",
       "    </tr>\n",
       "    <tr>\n",
       "      <th>3996</th>\n",
       "      <td>2</td>\n",
       "      <td>65.0</td>\n",
       "      <td>광주전라제주</td>\n",
       "      <td>전업주부</td>\n",
       "      <td>4.0</td>\n",
       "      <td>고등학교졸업</td>\n",
       "      <td>자가</td>\n",
       "      <td>기혼</td>\n",
       "      <td>3.0</td>\n",
       "      <td>60.689964</td>\n",
       "      <td>...</td>\n",
       "      <td>7.745967</td>\n",
       "      <td>4</td>\n",
       "      <td>7.0</td>\n",
       "      <td>7.0</td>\n",
       "      <td>7.0</td>\n",
       "      <td>1.0</td>\n",
       "      <td>4.0</td>\n",
       "      <td>4.0</td>\n",
       "      <td>3.0</td>\n",
       "      <td>[10, 40, 40]</td>\n",
       "    </tr>\n",
       "  </tbody>\n",
       "</table>\n",
       "<p>3997 rows × 24 columns</p>\n",
       "</div>"
      ],
      "text/plain": [
       "     성별    연령      지역     직업  가구소득      학력 주거형태         결혼  자녀수      인터넷평일  \\\n",
       "0     1  14.0      서울  학생재수생   6.0   중학교재학   월세         미혼  0.0   0.000000   \n",
       "1     1  14.0      서울  학생재수생   6.0   중학교재학   자가         미혼  0.0  30.000000   \n",
       "2     1  14.0      서울  학생재수생   6.0   중학교재학   전세         미혼  0.0  90.000000   \n",
       "3     1  14.0      서울  학생재수생   8.0   중학교재학   자가         미혼  0.0  68.876933   \n",
       "4     1  14.0      서울  학생재수생   9.0   중학교재학   자가         미혼  0.0   0.000000   \n",
       "...  ..   ...     ...    ...   ...     ...  ...        ...  ...        ...   \n",
       "3992  2  58.0  광주전라제주  기능노무직   1.0   중학교졸업   자가  기타_이혼별거사별  2.0  60.689964   \n",
       "3993  2  63.0  광주전라제주   전업주부   7.0  고등학교졸업   자가         기혼  2.0  60.689964   \n",
       "3994  2  61.0  광주전라제주  기능노무직   4.0   중학교졸업   전세         기혼  1.0  60.689964   \n",
       "3995  2  67.0  광주전라제주  기능노무직   2.0   중학교졸업   자가  기타_이혼별거사별  2.0  60.689964   \n",
       "3996  2  65.0  광주전라제주   전업주부   4.0  고등학교졸업   자가         기혼  3.0  60.689964   \n",
       "\n",
       "      ...      모바일휴일  TV1  TV2  TV3   TV4 드라마1 드라마2  드라마3   구매            드라마  \n",
       "0     ...  13.416408    4  7.0  9.0  11.0  6.0  9.0  10.0  4.0  [60, 90, 100]  \n",
       "1     ...   6.324555    3  4.0  7.0   7.0  4.0  6.0  11.0  2.0  [40, 60, 110]  \n",
       "2     ...  13.416408    4  6.0  7.0   9.0  1.0  4.0  12.0  5.0  [10, 40, 120]  \n",
       "3     ...   7.745967    6  7.0  9.0  10.0  1.0  4.0   4.0  2.0   [10, 40, 40]  \n",
       "4     ...  13.416408    4  7.0  9.0   7.0  4.0  5.0  10.0  3.0  [40, 50, 100]  \n",
       "...   ...        ...  ...  ...  ...   ...  ...  ...   ...  ...            ...  \n",
       "3992  ...   7.745967    1  2.0  3.0   4.0  1.0  4.0   8.0  4.0   [10, 40, 80]  \n",
       "3993  ...   5.477226    4  7.0  7.0   7.0  1.0  4.0   4.0  4.0   [10, 40, 40]  \n",
       "3994  ...   5.477226    1  4.0  6.0   7.0  1.0  4.0   5.0  4.0   [10, 40, 50]  \n",
       "3995  ...   5.477226    1  4.0  7.0   7.0  1.0  4.0   4.0  4.0   [10, 40, 40]  \n",
       "3996  ...   7.745967    4  7.0  7.0   7.0  1.0  4.0   4.0  3.0   [10, 40, 40]  \n",
       "\n",
       "[3997 rows x 24 columns]"
      ]
     },
     "execution_count": 53,
     "metadata": {},
     "output_type": "execute_result"
    }
   ],
   "source": [
    "from sklearn.feature_extraction.text import CountVectorizer\n",
    "tf['드라마'] = 0\n",
    "drama_col = ['드라마1', '드라마2', '드라마3']\n",
    "drama_genre= tf[drama_col]\n",
    "for i, j in drama_genre.iterrows() :\n",
    "    tf['드라마'][i] = [str(int(i)*10) for i in j.values]\n",
    "tf"
   ]
  },
  {
   "cell_type": "code",
   "execution_count": 54,
   "metadata": {},
   "outputs": [
    {
     "data": {
      "text/plain": [
       "3997"
      ]
     },
     "execution_count": 54,
     "metadata": {},
     "output_type": "execute_result"
    },
    {
     "data": {
      "text/plain": [
       "['60 90 100',\n",
       " '40 60 110',\n",
       " '10 40 120',\n",
       " '10 40 40',\n",
       " '40 50 100',\n",
       " '10 40 40',\n",
       " '10 40 40',\n",
       " '10 40 40',\n",
       " '10 40 40',\n",
       " '10 40 40']"
      ]
     },
     "execution_count": 54,
     "metadata": {},
     "output_type": "execute_result"
    }
   ],
   "source": [
    "corpus = []\n",
    "for i in tf['드라마']:\n",
    "    corpus.append(' '.join(i))\n",
    "len(corpus)\n",
    "corpus[0:10]"
   ]
  },
  {
   "cell_type": "code",
   "execution_count": 55,
   "metadata": {},
   "outputs": [],
   "source": [
    "vect = CountVectorizer()"
   ]
  },
  {
   "cell_type": "code",
   "execution_count": 56,
   "metadata": {},
   "outputs": [
    {
     "data": {
      "text/plain": [
       "<3997x16 sparse matrix of type '<class 'numpy.int64'>'\n",
       "\twith 9940 stored elements in Compressed Sparse Row format>"
      ]
     },
     "execution_count": 56,
     "metadata": {},
     "output_type": "execute_result"
    },
    {
     "data": {
      "text/plain": [
       "array([[0, 1, 0, ..., 0, 0, 1],\n",
       "       [0, 0, 1, ..., 0, 0, 0],\n",
       "       [1, 0, 0, ..., 0, 0, 0],\n",
       "       ...,\n",
       "       [1, 0, 0, ..., 0, 0, 0],\n",
       "       [1, 0, 0, ..., 0, 0, 0],\n",
       "       [1, 0, 0, ..., 0, 0, 0]], dtype=int64)"
      ]
     },
     "execution_count": 56,
     "metadata": {},
     "output_type": "execute_result"
    }
   ],
   "source": [
    "X = vect.fit_transform(corpus)\n",
    "X\n",
    "X.toarray()"
   ]
  },
  {
   "cell_type": "code",
   "execution_count": 57,
   "metadata": {},
   "outputs": [
    {
     "name": "stdout",
     "output_type": "stream",
     "text": [
      "key = 60, value=12\n",
      "key = 90, value=15\n",
      "key = 100, value=1\n",
      "key = 40, value=10\n",
      "key = 110, value=2\n",
      "key = 10, value=0\n",
      "key = 120, value=3\n",
      "key = 50, value=11\n",
      "key = 80, value=14\n",
      "key = 130, value=4\n",
      "key = 20, value=8\n",
      "key = 30, value=9\n",
      "key = 140, value=5\n",
      "key = 70, value=13\n",
      "key = 150, value=6\n",
      "key = 160, value=7\n"
     ]
    }
   ],
   "source": [
    "for key, val in vect.vocabulary_.items():\n",
    "    print(\"key = {key}, value={value}\".format(key=key,value=val))"
   ]
  },
  {
   "cell_type": "code",
   "execution_count": 58,
   "metadata": {},
   "outputs": [
    {
     "data": {
      "text/plain": [
       "'drama1,drama10,drama11,drama12,drama13,drama14,drama15,drama16,drama2,drama3,drama4,drama5,drama6,drama7,drama8,drama9'"
      ]
     },
     "execution_count": 58,
     "metadata": {},
     "output_type": "execute_result"
    },
    {
     "data": {
      "text/html": [
       "<div>\n",
       "<style scoped>\n",
       "    .dataframe tbody tr th:only-of-type {\n",
       "        vertical-align: middle;\n",
       "    }\n",
       "\n",
       "    .dataframe tbody tr th {\n",
       "        vertical-align: top;\n",
       "    }\n",
       "\n",
       "    .dataframe thead th {\n",
       "        text-align: right;\n",
       "    }\n",
       "</style>\n",
       "<table border=\"1\" class=\"dataframe\">\n",
       "  <thead>\n",
       "    <tr style=\"text-align: right;\">\n",
       "      <th></th>\n",
       "      <th>drama1</th>\n",
       "      <th>drama10</th>\n",
       "      <th>drama11</th>\n",
       "      <th>drama12</th>\n",
       "      <th>drama13</th>\n",
       "      <th>drama14</th>\n",
       "      <th>drama15</th>\n",
       "      <th>drama16</th>\n",
       "      <th>drama2</th>\n",
       "      <th>drama3</th>\n",
       "      <th>drama4</th>\n",
       "      <th>drama5</th>\n",
       "      <th>drama6</th>\n",
       "      <th>drama7</th>\n",
       "      <th>drama8</th>\n",
       "      <th>drama9</th>\n",
       "    </tr>\n",
       "  </thead>\n",
       "  <tbody>\n",
       "    <tr>\n",
       "      <th>0</th>\n",
       "      <td>0</td>\n",
       "      <td>1</td>\n",
       "      <td>0</td>\n",
       "      <td>0</td>\n",
       "      <td>0</td>\n",
       "      <td>0</td>\n",
       "      <td>0</td>\n",
       "      <td>0</td>\n",
       "      <td>0</td>\n",
       "      <td>0</td>\n",
       "      <td>0</td>\n",
       "      <td>0</td>\n",
       "      <td>1</td>\n",
       "      <td>0</td>\n",
       "      <td>0</td>\n",
       "      <td>1</td>\n",
       "    </tr>\n",
       "    <tr>\n",
       "      <th>1</th>\n",
       "      <td>0</td>\n",
       "      <td>0</td>\n",
       "      <td>1</td>\n",
       "      <td>0</td>\n",
       "      <td>0</td>\n",
       "      <td>0</td>\n",
       "      <td>0</td>\n",
       "      <td>0</td>\n",
       "      <td>0</td>\n",
       "      <td>0</td>\n",
       "      <td>1</td>\n",
       "      <td>0</td>\n",
       "      <td>1</td>\n",
       "      <td>0</td>\n",
       "      <td>0</td>\n",
       "      <td>0</td>\n",
       "    </tr>\n",
       "    <tr>\n",
       "      <th>2</th>\n",
       "      <td>1</td>\n",
       "      <td>0</td>\n",
       "      <td>0</td>\n",
       "      <td>1</td>\n",
       "      <td>0</td>\n",
       "      <td>0</td>\n",
       "      <td>0</td>\n",
       "      <td>0</td>\n",
       "      <td>0</td>\n",
       "      <td>0</td>\n",
       "      <td>1</td>\n",
       "      <td>0</td>\n",
       "      <td>0</td>\n",
       "      <td>0</td>\n",
       "      <td>0</td>\n",
       "      <td>0</td>\n",
       "    </tr>\n",
       "    <tr>\n",
       "      <th>3</th>\n",
       "      <td>1</td>\n",
       "      <td>0</td>\n",
       "      <td>0</td>\n",
       "      <td>0</td>\n",
       "      <td>0</td>\n",
       "      <td>0</td>\n",
       "      <td>0</td>\n",
       "      <td>0</td>\n",
       "      <td>0</td>\n",
       "      <td>0</td>\n",
       "      <td>2</td>\n",
       "      <td>0</td>\n",
       "      <td>0</td>\n",
       "      <td>0</td>\n",
       "      <td>0</td>\n",
       "      <td>0</td>\n",
       "    </tr>\n",
       "    <tr>\n",
       "      <th>4</th>\n",
       "      <td>0</td>\n",
       "      <td>1</td>\n",
       "      <td>0</td>\n",
       "      <td>0</td>\n",
       "      <td>0</td>\n",
       "      <td>0</td>\n",
       "      <td>0</td>\n",
       "      <td>0</td>\n",
       "      <td>0</td>\n",
       "      <td>0</td>\n",
       "      <td>1</td>\n",
       "      <td>1</td>\n",
       "      <td>0</td>\n",
       "      <td>0</td>\n",
       "      <td>0</td>\n",
       "      <td>0</td>\n",
       "    </tr>\n",
       "    <tr>\n",
       "      <th>...</th>\n",
       "      <td>...</td>\n",
       "      <td>...</td>\n",
       "      <td>...</td>\n",
       "      <td>...</td>\n",
       "      <td>...</td>\n",
       "      <td>...</td>\n",
       "      <td>...</td>\n",
       "      <td>...</td>\n",
       "      <td>...</td>\n",
       "      <td>...</td>\n",
       "      <td>...</td>\n",
       "      <td>...</td>\n",
       "      <td>...</td>\n",
       "      <td>...</td>\n",
       "      <td>...</td>\n",
       "      <td>...</td>\n",
       "    </tr>\n",
       "    <tr>\n",
       "      <th>3992</th>\n",
       "      <td>1</td>\n",
       "      <td>0</td>\n",
       "      <td>0</td>\n",
       "      <td>0</td>\n",
       "      <td>0</td>\n",
       "      <td>0</td>\n",
       "      <td>0</td>\n",
       "      <td>0</td>\n",
       "      <td>0</td>\n",
       "      <td>0</td>\n",
       "      <td>1</td>\n",
       "      <td>0</td>\n",
       "      <td>0</td>\n",
       "      <td>0</td>\n",
       "      <td>1</td>\n",
       "      <td>0</td>\n",
       "    </tr>\n",
       "    <tr>\n",
       "      <th>3993</th>\n",
       "      <td>1</td>\n",
       "      <td>0</td>\n",
       "      <td>0</td>\n",
       "      <td>0</td>\n",
       "      <td>0</td>\n",
       "      <td>0</td>\n",
       "      <td>0</td>\n",
       "      <td>0</td>\n",
       "      <td>0</td>\n",
       "      <td>0</td>\n",
       "      <td>2</td>\n",
       "      <td>0</td>\n",
       "      <td>0</td>\n",
       "      <td>0</td>\n",
       "      <td>0</td>\n",
       "      <td>0</td>\n",
       "    </tr>\n",
       "    <tr>\n",
       "      <th>3994</th>\n",
       "      <td>1</td>\n",
       "      <td>0</td>\n",
       "      <td>0</td>\n",
       "      <td>0</td>\n",
       "      <td>0</td>\n",
       "      <td>0</td>\n",
       "      <td>0</td>\n",
       "      <td>0</td>\n",
       "      <td>0</td>\n",
       "      <td>0</td>\n",
       "      <td>1</td>\n",
       "      <td>1</td>\n",
       "      <td>0</td>\n",
       "      <td>0</td>\n",
       "      <td>0</td>\n",
       "      <td>0</td>\n",
       "    </tr>\n",
       "    <tr>\n",
       "      <th>3995</th>\n",
       "      <td>1</td>\n",
       "      <td>0</td>\n",
       "      <td>0</td>\n",
       "      <td>0</td>\n",
       "      <td>0</td>\n",
       "      <td>0</td>\n",
       "      <td>0</td>\n",
       "      <td>0</td>\n",
       "      <td>0</td>\n",
       "      <td>0</td>\n",
       "      <td>2</td>\n",
       "      <td>0</td>\n",
       "      <td>0</td>\n",
       "      <td>0</td>\n",
       "      <td>0</td>\n",
       "      <td>0</td>\n",
       "    </tr>\n",
       "    <tr>\n",
       "      <th>3996</th>\n",
       "      <td>1</td>\n",
       "      <td>0</td>\n",
       "      <td>0</td>\n",
       "      <td>0</td>\n",
       "      <td>0</td>\n",
       "      <td>0</td>\n",
       "      <td>0</td>\n",
       "      <td>0</td>\n",
       "      <td>0</td>\n",
       "      <td>0</td>\n",
       "      <td>2</td>\n",
       "      <td>0</td>\n",
       "      <td>0</td>\n",
       "      <td>0</td>\n",
       "      <td>0</td>\n",
       "      <td>0</td>\n",
       "    </tr>\n",
       "  </tbody>\n",
       "</table>\n",
       "<p>3997 rows × 16 columns</p>\n",
       "</div>"
      ],
      "text/plain": [
       "      drama1  drama10  drama11  drama12  drama13  drama14  drama15  drama16  \\\n",
       "0          0        1        0        0        0        0        0        0   \n",
       "1          0        0        1        0        0        0        0        0   \n",
       "2          1        0        0        1        0        0        0        0   \n",
       "3          1        0        0        0        0        0        0        0   \n",
       "4          0        1        0        0        0        0        0        0   \n",
       "...      ...      ...      ...      ...      ...      ...      ...      ...   \n",
       "3992       1        0        0        0        0        0        0        0   \n",
       "3993       1        0        0        0        0        0        0        0   \n",
       "3994       1        0        0        0        0        0        0        0   \n",
       "3995       1        0        0        0        0        0        0        0   \n",
       "3996       1        0        0        0        0        0        0        0   \n",
       "\n",
       "      drama2  drama3  drama4  drama5  drama6  drama7  drama8  drama9  \n",
       "0          0       0       0       0       1       0       0       1  \n",
       "1          0       0       1       0       1       0       0       0  \n",
       "2          0       0       1       0       0       0       0       0  \n",
       "3          0       0       2       0       0       0       0       0  \n",
       "4          0       0       1       1       0       0       0       0  \n",
       "...      ...     ...     ...     ...     ...     ...     ...     ...  \n",
       "3992       0       0       1       0       0       0       1       0  \n",
       "3993       0       0       2       0       0       0       0       0  \n",
       "3994       0       0       1       1       0       0       0       0  \n",
       "3995       0       0       2       0       0       0       0       0  \n",
       "3996       0       0       2       0       0       0       0       0  \n",
       "\n",
       "[3997 rows x 16 columns]"
      ]
     },
     "execution_count": 58,
     "metadata": {},
     "output_type": "execute_result"
    }
   ],
   "source": [
    "cols = sorted(vect.vocabulary_.items(), key=(lambda x:x[1]), reverse=False)\n",
    "cols = ['drama' + str(int(int(i[0])/10)) for i in cols]\n",
    "','.join(cols)\n",
    "drama = pd.DataFrame(X.toarray(), columns =cols)\n",
    "drama"
   ]
  },
  {
   "cell_type": "code",
   "execution_count": 59,
   "metadata": {},
   "outputs": [
    {
     "data": {
      "text/html": [
       "<div>\n",
       "<style scoped>\n",
       "    .dataframe tbody tr th:only-of-type {\n",
       "        vertical-align: middle;\n",
       "    }\n",
       "\n",
       "    .dataframe tbody tr th {\n",
       "        vertical-align: top;\n",
       "    }\n",
       "\n",
       "    .dataframe thead th {\n",
       "        text-align: right;\n",
       "    }\n",
       "</style>\n",
       "<table border=\"1\" class=\"dataframe\">\n",
       "  <thead>\n",
       "    <tr style=\"text-align: right;\">\n",
       "      <th></th>\n",
       "      <th>성별</th>\n",
       "      <th>연령</th>\n",
       "      <th>지역</th>\n",
       "      <th>직업</th>\n",
       "      <th>가구소득</th>\n",
       "      <th>학력</th>\n",
       "      <th>주거형태</th>\n",
       "      <th>결혼</th>\n",
       "      <th>자녀수</th>\n",
       "      <th>인터넷평일</th>\n",
       "      <th>...</th>\n",
       "      <th>drama15</th>\n",
       "      <th>drama16</th>\n",
       "      <th>drama2</th>\n",
       "      <th>drama3</th>\n",
       "      <th>drama4</th>\n",
       "      <th>drama5</th>\n",
       "      <th>drama6</th>\n",
       "      <th>drama7</th>\n",
       "      <th>drama8</th>\n",
       "      <th>drama9</th>\n",
       "    </tr>\n",
       "  </thead>\n",
       "  <tbody>\n",
       "    <tr>\n",
       "      <th>0</th>\n",
       "      <td>1</td>\n",
       "      <td>14.0</td>\n",
       "      <td>서울</td>\n",
       "      <td>학생재수생</td>\n",
       "      <td>6.0</td>\n",
       "      <td>중학교재학</td>\n",
       "      <td>월세</td>\n",
       "      <td>미혼</td>\n",
       "      <td>0.0</td>\n",
       "      <td>0.000000</td>\n",
       "      <td>...</td>\n",
       "      <td>0</td>\n",
       "      <td>0</td>\n",
       "      <td>0</td>\n",
       "      <td>0</td>\n",
       "      <td>0</td>\n",
       "      <td>0</td>\n",
       "      <td>1</td>\n",
       "      <td>0</td>\n",
       "      <td>0</td>\n",
       "      <td>1</td>\n",
       "    </tr>\n",
       "    <tr>\n",
       "      <th>1</th>\n",
       "      <td>1</td>\n",
       "      <td>14.0</td>\n",
       "      <td>서울</td>\n",
       "      <td>학생재수생</td>\n",
       "      <td>6.0</td>\n",
       "      <td>중학교재학</td>\n",
       "      <td>자가</td>\n",
       "      <td>미혼</td>\n",
       "      <td>0.0</td>\n",
       "      <td>30.000000</td>\n",
       "      <td>...</td>\n",
       "      <td>0</td>\n",
       "      <td>0</td>\n",
       "      <td>0</td>\n",
       "      <td>0</td>\n",
       "      <td>1</td>\n",
       "      <td>0</td>\n",
       "      <td>1</td>\n",
       "      <td>0</td>\n",
       "      <td>0</td>\n",
       "      <td>0</td>\n",
       "    </tr>\n",
       "    <tr>\n",
       "      <th>2</th>\n",
       "      <td>1</td>\n",
       "      <td>14.0</td>\n",
       "      <td>서울</td>\n",
       "      <td>학생재수생</td>\n",
       "      <td>6.0</td>\n",
       "      <td>중학교재학</td>\n",
       "      <td>전세</td>\n",
       "      <td>미혼</td>\n",
       "      <td>0.0</td>\n",
       "      <td>90.000000</td>\n",
       "      <td>...</td>\n",
       "      <td>0</td>\n",
       "      <td>0</td>\n",
       "      <td>0</td>\n",
       "      <td>0</td>\n",
       "      <td>1</td>\n",
       "      <td>0</td>\n",
       "      <td>0</td>\n",
       "      <td>0</td>\n",
       "      <td>0</td>\n",
       "      <td>0</td>\n",
       "    </tr>\n",
       "    <tr>\n",
       "      <th>3</th>\n",
       "      <td>1</td>\n",
       "      <td>14.0</td>\n",
       "      <td>서울</td>\n",
       "      <td>학생재수생</td>\n",
       "      <td>8.0</td>\n",
       "      <td>중학교재학</td>\n",
       "      <td>자가</td>\n",
       "      <td>미혼</td>\n",
       "      <td>0.0</td>\n",
       "      <td>68.876933</td>\n",
       "      <td>...</td>\n",
       "      <td>0</td>\n",
       "      <td>0</td>\n",
       "      <td>0</td>\n",
       "      <td>0</td>\n",
       "      <td>2</td>\n",
       "      <td>0</td>\n",
       "      <td>0</td>\n",
       "      <td>0</td>\n",
       "      <td>0</td>\n",
       "      <td>0</td>\n",
       "    </tr>\n",
       "    <tr>\n",
       "      <th>4</th>\n",
       "      <td>1</td>\n",
       "      <td>14.0</td>\n",
       "      <td>서울</td>\n",
       "      <td>학생재수생</td>\n",
       "      <td>9.0</td>\n",
       "      <td>중학교재학</td>\n",
       "      <td>자가</td>\n",
       "      <td>미혼</td>\n",
       "      <td>0.0</td>\n",
       "      <td>0.000000</td>\n",
       "      <td>...</td>\n",
       "      <td>0</td>\n",
       "      <td>0</td>\n",
       "      <td>0</td>\n",
       "      <td>0</td>\n",
       "      <td>1</td>\n",
       "      <td>1</td>\n",
       "      <td>0</td>\n",
       "      <td>0</td>\n",
       "      <td>0</td>\n",
       "      <td>0</td>\n",
       "    </tr>\n",
       "    <tr>\n",
       "      <th>...</th>\n",
       "      <td>...</td>\n",
       "      <td>...</td>\n",
       "      <td>...</td>\n",
       "      <td>...</td>\n",
       "      <td>...</td>\n",
       "      <td>...</td>\n",
       "      <td>...</td>\n",
       "      <td>...</td>\n",
       "      <td>...</td>\n",
       "      <td>...</td>\n",
       "      <td>...</td>\n",
       "      <td>...</td>\n",
       "      <td>...</td>\n",
       "      <td>...</td>\n",
       "      <td>...</td>\n",
       "      <td>...</td>\n",
       "      <td>...</td>\n",
       "      <td>...</td>\n",
       "      <td>...</td>\n",
       "      <td>...</td>\n",
       "      <td>...</td>\n",
       "    </tr>\n",
       "    <tr>\n",
       "      <th>3992</th>\n",
       "      <td>2</td>\n",
       "      <td>58.0</td>\n",
       "      <td>광주전라제주</td>\n",
       "      <td>기능노무직</td>\n",
       "      <td>1.0</td>\n",
       "      <td>중학교졸업</td>\n",
       "      <td>자가</td>\n",
       "      <td>기타_이혼별거사별</td>\n",
       "      <td>2.0</td>\n",
       "      <td>60.689964</td>\n",
       "      <td>...</td>\n",
       "      <td>0</td>\n",
       "      <td>0</td>\n",
       "      <td>0</td>\n",
       "      <td>0</td>\n",
       "      <td>1</td>\n",
       "      <td>0</td>\n",
       "      <td>0</td>\n",
       "      <td>0</td>\n",
       "      <td>1</td>\n",
       "      <td>0</td>\n",
       "    </tr>\n",
       "    <tr>\n",
       "      <th>3993</th>\n",
       "      <td>2</td>\n",
       "      <td>63.0</td>\n",
       "      <td>광주전라제주</td>\n",
       "      <td>전업주부</td>\n",
       "      <td>7.0</td>\n",
       "      <td>고등학교졸업</td>\n",
       "      <td>자가</td>\n",
       "      <td>기혼</td>\n",
       "      <td>2.0</td>\n",
       "      <td>60.689964</td>\n",
       "      <td>...</td>\n",
       "      <td>0</td>\n",
       "      <td>0</td>\n",
       "      <td>0</td>\n",
       "      <td>0</td>\n",
       "      <td>2</td>\n",
       "      <td>0</td>\n",
       "      <td>0</td>\n",
       "      <td>0</td>\n",
       "      <td>0</td>\n",
       "      <td>0</td>\n",
       "    </tr>\n",
       "    <tr>\n",
       "      <th>3994</th>\n",
       "      <td>2</td>\n",
       "      <td>61.0</td>\n",
       "      <td>광주전라제주</td>\n",
       "      <td>기능노무직</td>\n",
       "      <td>4.0</td>\n",
       "      <td>중학교졸업</td>\n",
       "      <td>전세</td>\n",
       "      <td>기혼</td>\n",
       "      <td>1.0</td>\n",
       "      <td>60.689964</td>\n",
       "      <td>...</td>\n",
       "      <td>0</td>\n",
       "      <td>0</td>\n",
       "      <td>0</td>\n",
       "      <td>0</td>\n",
       "      <td>1</td>\n",
       "      <td>1</td>\n",
       "      <td>0</td>\n",
       "      <td>0</td>\n",
       "      <td>0</td>\n",
       "      <td>0</td>\n",
       "    </tr>\n",
       "    <tr>\n",
       "      <th>3995</th>\n",
       "      <td>2</td>\n",
       "      <td>67.0</td>\n",
       "      <td>광주전라제주</td>\n",
       "      <td>기능노무직</td>\n",
       "      <td>2.0</td>\n",
       "      <td>중학교졸업</td>\n",
       "      <td>자가</td>\n",
       "      <td>기타_이혼별거사별</td>\n",
       "      <td>2.0</td>\n",
       "      <td>60.689964</td>\n",
       "      <td>...</td>\n",
       "      <td>0</td>\n",
       "      <td>0</td>\n",
       "      <td>0</td>\n",
       "      <td>0</td>\n",
       "      <td>2</td>\n",
       "      <td>0</td>\n",
       "      <td>0</td>\n",
       "      <td>0</td>\n",
       "      <td>0</td>\n",
       "      <td>0</td>\n",
       "    </tr>\n",
       "    <tr>\n",
       "      <th>3996</th>\n",
       "      <td>2</td>\n",
       "      <td>65.0</td>\n",
       "      <td>광주전라제주</td>\n",
       "      <td>전업주부</td>\n",
       "      <td>4.0</td>\n",
       "      <td>고등학교졸업</td>\n",
       "      <td>자가</td>\n",
       "      <td>기혼</td>\n",
       "      <td>3.0</td>\n",
       "      <td>60.689964</td>\n",
       "      <td>...</td>\n",
       "      <td>0</td>\n",
       "      <td>0</td>\n",
       "      <td>0</td>\n",
       "      <td>0</td>\n",
       "      <td>2</td>\n",
       "      <td>0</td>\n",
       "      <td>0</td>\n",
       "      <td>0</td>\n",
       "      <td>0</td>\n",
       "      <td>0</td>\n",
       "    </tr>\n",
       "  </tbody>\n",
       "</table>\n",
       "<p>3997 rows × 36 columns</p>\n",
       "</div>"
      ],
      "text/plain": [
       "     성별    연령      지역     직업  가구소득      학력 주거형태         결혼  자녀수      인터넷평일  \\\n",
       "0     1  14.0      서울  학생재수생   6.0   중학교재학   월세         미혼  0.0   0.000000   \n",
       "1     1  14.0      서울  학생재수생   6.0   중학교재학   자가         미혼  0.0  30.000000   \n",
       "2     1  14.0      서울  학생재수생   6.0   중학교재학   전세         미혼  0.0  90.000000   \n",
       "3     1  14.0      서울  학생재수생   8.0   중학교재학   자가         미혼  0.0  68.876933   \n",
       "4     1  14.0      서울  학생재수생   9.0   중학교재학   자가         미혼  0.0   0.000000   \n",
       "...  ..   ...     ...    ...   ...     ...  ...        ...  ...        ...   \n",
       "3992  2  58.0  광주전라제주  기능노무직   1.0   중학교졸업   자가  기타_이혼별거사별  2.0  60.689964   \n",
       "3993  2  63.0  광주전라제주   전업주부   7.0  고등학교졸업   자가         기혼  2.0  60.689964   \n",
       "3994  2  61.0  광주전라제주  기능노무직   4.0   중학교졸업   전세         기혼  1.0  60.689964   \n",
       "3995  2  67.0  광주전라제주  기능노무직   2.0   중학교졸업   자가  기타_이혼별거사별  2.0  60.689964   \n",
       "3996  2  65.0  광주전라제주   전업주부   4.0  고등학교졸업   자가         기혼  3.0  60.689964   \n",
       "\n",
       "      ...  drama15  drama16  drama2  drama3  drama4 drama5 drama6 drama7  \\\n",
       "0     ...        0        0       0       0       0      0      1      0   \n",
       "1     ...        0        0       0       0       1      0      1      0   \n",
       "2     ...        0        0       0       0       1      0      0      0   \n",
       "3     ...        0        0       0       0       2      0      0      0   \n",
       "4     ...        0        0       0       0       1      1      0      0   \n",
       "...   ...      ...      ...     ...     ...     ...    ...    ...    ...   \n",
       "3992  ...        0        0       0       0       1      0      0      0   \n",
       "3993  ...        0        0       0       0       2      0      0      0   \n",
       "3994  ...        0        0       0       0       1      1      0      0   \n",
       "3995  ...        0        0       0       0       2      0      0      0   \n",
       "3996  ...        0        0       0       0       2      0      0      0   \n",
       "\n",
       "      drama8 drama9  \n",
       "0          0      1  \n",
       "1          0      0  \n",
       "2          0      0  \n",
       "3          0      0  \n",
       "4          0      0  \n",
       "...      ...    ...  \n",
       "3992       1      0  \n",
       "3993       0      0  \n",
       "3994       0      0  \n",
       "3995       0      0  \n",
       "3996       0      0  \n",
       "\n",
       "[3997 rows x 36 columns]"
      ]
     },
     "execution_count": 59,
     "metadata": {},
     "output_type": "execute_result"
    }
   ],
   "source": [
    "pd.merge(tf.drop(tv_col, axis=1), drama, left_index=True, right_index=True, how='left')"
   ]
  },
  {
   "cell_type": "code",
   "execution_count": 60,
   "metadata": {},
   "outputs": [
    {
     "data": {
      "text/plain": [
       "3.0    0.379284\n",
       "4.0    0.244183\n",
       "2.0    0.215161\n",
       "5.0    0.089817\n",
       "1.0    0.058544\n",
       "6.0    0.013010\n",
       "Name: 구매, dtype: float64"
      ]
     },
     "execution_count": 60,
     "metadata": {},
     "output_type": "execute_result"
    }
   ],
   "source": [
    "df = pd.read_pickle('../data/4장자료.pkl')\n",
    "df['구매'].value_counts(normalize=True)"
   ]
  },
  {
   "cell_type": "code",
   "execution_count": 61,
   "metadata": {},
   "outputs": [
    {
     "data": {
      "text/plain": [
       "<matplotlib.axes._subplots.AxesSubplot at 0x1e611a4d548>"
      ]
     },
     "execution_count": 61,
     "metadata": {},
     "output_type": "execute_result"
    },
    {
     "data": {
      "image/png": "[encoded data removed]",
      "text/plain": [
       "<Figure size 1440x360 with 1 Axes>"
      ]
     },
     "metadata": {
      "needs_background": "light"
     },
     "output_type": "display_data"
    }
   ],
   "source": [
    "map_dict={1:'1.전혀 그렇지 않다', 2:'2.그렇지 않다', 3:'3.그렇지 않은 편이다',\n",
    "          4:'4.그런 편이다', 5:'5.그렇다', 6:'6.매우 그렇다'}\n",
    "tf = df['구매'].value_counts(normalize=True).rename(index=map_dict)\n",
    "tf.sort_index(inplace=True)\n",
    "tf.plot(kind='bar', rot='360', figsize=(20,5))"
   ]
  },
  {
   "cell_type": "code",
   "execution_count": 62,
   "metadata": {},
   "outputs": [],
   "source": [
    "tf = df.copy()"
   ]
  },
  {
   "cell_type": "code",
   "execution_count": 63,
   "metadata": {},
   "outputs": [
    {
     "data": {
      "text/plain": [
       "Index(['성별', '연령', '지역', '직업', '가구소득', '학력', '주거형태', '결혼', '자녀수', '인터넷평일',\n",
       "       '인터넷주말', '인터넷휴일', '모바일평일', '모바일주말', '모바일휴일', '구매', '연령대', 'drama1',\n",
       "       'drama2', 'drama3', 'drama4', 'drama5', 'drama6', 'drama7', 'drama8',\n",
       "       'drama9', 'drama10', 'drama11', 'drama12', 'drama13', 'drama14',\n",
       "       'drama15', 'drama16', 'tv1', 'tv2', 'tv3', 'tv4', 'tv5', 'tv6', 'tv7',\n",
       "       'tv8', 'tv9', 'tv10', 'tv11', 'tv12', 'tv13', 'tv14', 'tv15', 'tv16',\n",
       "       'tv17'],\n",
       "      dtype='object')"
      ]
     },
     "execution_count": 63,
     "metadata": {},
     "output_type": "execute_result"
    }
   ],
   "source": [
    "tf.columns"
   ]
  },
  {
   "cell_type": "code",
   "execution_count": 64,
   "metadata": {},
   "outputs": [
    {
     "name": "stdout",
     "output_type": "stream",
     "text": [
      "구매비율 34.70%\n"
     ]
    }
   ],
   "source": [
    "tf['구매의향'] = 0\n",
    "buy = tf[((tf['구매'] == 4) | (tf['구매'] == 5) | (tf['구매'] == 6))].index\n",
    "tf.loc[buy, '구매의향'] = 1\n",
    "del tf['구매']\n",
    "tf = tf.rename(columns={'구매의향': '구매'})\n",
    "print('구매비율 {:0.2f}%'.format(tf['구매'].value_counts()[1]/len(tf)*100))\n",
    "tf.to_pickle('../data/4장자료_01.pkl')"
   ]
  },
  {
   "cell_type": "code",
   "execution_count": 65,
   "metadata": {},
   "outputs": [],
   "source": [
    "tf = df.copy()"
   ]
  },
  {
   "cell_type": "code",
   "execution_count": 66,
   "metadata": {},
   "outputs": [
    {
     "name": "stdout",
     "output_type": "stream",
     "text": [
      "구매비율 10.28%\n"
     ]
    }
   ],
   "source": [
    "tf['구매의향'] = 0\n",
    "buy = tf[((tf['구매'] == 5) | (tf['구매'] == 6))].index\n",
    "tf.loc[buy, '구매의향'] = 1\n",
    "del tf['구매']\n",
    "tf = tf.rename(columns={'구매의향': '구매'})\n",
    "print('구매비율 {:0.2f}%'.format(tf['구매'].value_counts()[1]/len(tf)*100))\n",
    "tf.to_pickle('../data/4장자료_02.pkl')"
   ]
  },
  {
   "cell_type": "code",
   "execution_count": null,
   "metadata": {},
   "outputs": [],
   "source": []
  }
 ],
 "metadata": {
  "kernelspec": {
   "display_name": "Python 3",
   "language": "python",
   "name": "python3"
  },
  "language_info": {
   "codemirror_mode": {
    "name": "ipython",
    "version": 3
   },
   "file_extension": ".py",
   "mimetype": "text/x-python",
   "name": "python",
   "nbconvert_exporter": "python",
   "pygments_lexer": "ipython3",
   "version": "3.8.3"
  }
 },
 "nbformat": 4,
 "nbformat_minor": 2
}
