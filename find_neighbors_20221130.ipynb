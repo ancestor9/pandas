{
 "cells": [
  {
   "cell_type": "markdown",
   "id": "c45499c4",
   "metadata": {},
   "source": [
    "# tf 데이터프레임의 각 인스턴스별로 df의 위치와의 거리(유클리디언)가 가장 가까운 인스턴스는?\n",
    "## 2022.11.29 요구사항\n",
    "\n",
    "<img src='https://images.unsplash.com/photo-1451471016731-e963a8588be8?ixlib=rb-4.0.3&ixid=MnwxMjA3fDB8MHxzZWFyY2h8MjB8fG5laWdoYm9yc3xlbnwwfHwwfHw%3D&auto=format&fit=crop&w=500&q=60'>"
   ]
  },
  {
   "cell_type": "code",
   "execution_count": 1,
   "id": "1d99d3ff",
   "metadata": {},
   "outputs": [],
   "source": [
    "from IPython.core.interactiveshell import InteractiveShell # 모든 명령어 출력\n",
    "InteractiveShell.ast_node_interactivity = 'all'\n",
    "import numpy as np\n",
    "import pandas as pd\n",
    "from matplotlib import pyplot as plt"
   ]
  },
  {
   "cell_type": "markdown",
   "id": "5b170653",
   "metadata": {},
   "source": [
    "# 1. df 생성"
   ]
  },
  {
   "cell_type": "code",
   "execution_count": 2,
   "id": "33bbb5fd",
   "metadata": {},
   "outputs": [
    {
     "data": {
      "text/plain": [
       "<matplotlib.collections.PathCollection at 0x1c171bb6a00>"
      ]
     },
     "execution_count": 2,
     "metadata": {},
     "output_type": "execute_result"
    },
    {
     "data": {
      "text/html": [
       "<div>\n",
       "<style scoped>\n",
       "    .dataframe tbody tr th:only-of-type {\n",
       "        vertical-align: middle;\n",
       "    }\n",
       "\n",
       "    .dataframe tbody tr th {\n",
       "        vertical-align: top;\n",
       "    }\n",
       "\n",
       "    .dataframe thead th {\n",
       "        text-align: right;\n",
       "    }\n",
       "</style>\n",
       "<table border=\"1\" class=\"dataframe\">\n",
       "  <thead>\n",
       "    <tr style=\"text-align: right;\">\n",
       "      <th></th>\n",
       "      <th>lat</th>\n",
       "      <th>long</th>\n",
       "    </tr>\n",
       "  </thead>\n",
       "  <tbody>\n",
       "    <tr>\n",
       "      <th>0</th>\n",
       "      <td>-1</td>\n",
       "      <td>-1</td>\n",
       "    </tr>\n",
       "    <tr>\n",
       "      <th>1</th>\n",
       "      <td>-2</td>\n",
       "      <td>-1</td>\n",
       "    </tr>\n",
       "    <tr>\n",
       "      <th>2</th>\n",
       "      <td>-3</td>\n",
       "      <td>-2</td>\n",
       "    </tr>\n",
       "    <tr>\n",
       "      <th>3</th>\n",
       "      <td>1</td>\n",
       "      <td>1</td>\n",
       "    </tr>\n",
       "    <tr>\n",
       "      <th>4</th>\n",
       "      <td>2</td>\n",
       "      <td>1</td>\n",
       "    </tr>\n",
       "    <tr>\n",
       "      <th>5</th>\n",
       "      <td>3</td>\n",
       "      <td>2</td>\n",
       "    </tr>\n",
       "  </tbody>\n",
       "</table>\n",
       "</div>"
      ],
      "text/plain": [
       "   lat  long\n",
       "0   -1    -1\n",
       "1   -2    -1\n",
       "2   -3    -2\n",
       "3    1     1\n",
       "4    2     1\n",
       "5    3     2"
      ]
     },
     "execution_count": 2,
     "metadata": {},
     "output_type": "execute_result"
    },
    {
     "data": {
      "image/png": "[encoded data removed]",
      "text/plain": [
       "<Figure size 432x288 with 1 Axes>"
      ]
     },
     "metadata": {
      "needs_background": "light"
     },
     "output_type": "display_data"
    }
   ],
   "source": [
    "X = np.array([[-1, -1], [-2, -1], [-3, -2], [1, 1], [2, 1], [3, 2]])\n",
    "plt.scatter(X[:, 0], X[:, 1])\n",
    "\n",
    "df = pd.DataFrame(X, columns=['lat', 'long'])\n",
    "df"
   ]
  },
  {
   "cell_type": "markdown",
   "id": "7ca00ec6",
   "metadata": {},
   "source": [
    "# 2. tf 생성"
   ]
  },
  {
   "cell_type": "code",
   "execution_count": 3,
   "id": "d6860878",
   "metadata": {
    "scrolled": true
   },
   "outputs": [
    {
     "data": {
      "text/html": [
       "<div>\n",
       "<style scoped>\n",
       "    .dataframe tbody tr th:only-of-type {\n",
       "        vertical-align: middle;\n",
       "    }\n",
       "\n",
       "    .dataframe tbody tr th {\n",
       "        vertical-align: top;\n",
       "    }\n",
       "\n",
       "    .dataframe thead th {\n",
       "        text-align: right;\n",
       "    }\n",
       "</style>\n",
       "<table border=\"1\" class=\"dataframe\">\n",
       "  <thead>\n",
       "    <tr style=\"text-align: right;\">\n",
       "      <th></th>\n",
       "      <th>lat</th>\n",
       "      <th>long</th>\n",
       "    </tr>\n",
       "  </thead>\n",
       "  <tbody>\n",
       "    <tr>\n",
       "      <th>0</th>\n",
       "      <td>1.2</td>\n",
       "      <td>1.2</td>\n",
       "    </tr>\n",
       "    <tr>\n",
       "      <th>1</th>\n",
       "      <td>2.4</td>\n",
       "      <td>1.2</td>\n",
       "    </tr>\n",
       "    <tr>\n",
       "      <th>2</th>\n",
       "      <td>3.6</td>\n",
       "      <td>2.4</td>\n",
       "    </tr>\n",
       "    <tr>\n",
       "      <th>3</th>\n",
       "      <td>1.2</td>\n",
       "      <td>1.2</td>\n",
       "    </tr>\n",
       "    <tr>\n",
       "      <th>4</th>\n",
       "      <td>2.4</td>\n",
       "      <td>1.2</td>\n",
       "    </tr>\n",
       "    <tr>\n",
       "      <th>5</th>\n",
       "      <td>3.6</td>\n",
       "      <td>2.4</td>\n",
       "    </tr>\n",
       "  </tbody>\n",
       "</table>\n",
       "</div>"
      ],
      "text/plain": [
       "   lat  long\n",
       "0  1.2   1.2\n",
       "1  2.4   1.2\n",
       "2  3.6   2.4\n",
       "3  1.2   1.2\n",
       "4  2.4   1.2\n",
       "5  3.6   2.4"
      ]
     },
     "execution_count": 3,
     "metadata": {},
     "output_type": "execute_result"
    }
   ],
   "source": [
    "tf = (df*1.2).abs()\n",
    "tf"
   ]
  },
  {
   "cell_type": "markdown",
   "id": "235b3738",
   "metadata": {},
   "source": [
    "### tf첫번째 데이터 [1.2, 1.2]와 가장가까운 이웃과 그 거리를 찾으면"
   ]
  },
  {
   "cell_type": "code",
   "execution_count": 4,
   "id": "38e7bce8",
   "metadata": {},
   "outputs": [
    {
     "data": {
      "text/html": [
       "<div>\n",
       "<style scoped>\n",
       "    .dataframe tbody tr th:only-of-type {\n",
       "        vertical-align: middle;\n",
       "    }\n",
       "\n",
       "    .dataframe tbody tr th {\n",
       "        vertical-align: top;\n",
       "    }\n",
       "\n",
       "    .dataframe thead th {\n",
       "        text-align: right;\n",
       "    }\n",
       "</style>\n",
       "<table border=\"1\" class=\"dataframe\">\n",
       "  <thead>\n",
       "    <tr style=\"text-align: right;\">\n",
       "      <th></th>\n",
       "      <th>lat</th>\n",
       "      <th>long</th>\n",
       "    </tr>\n",
       "  </thead>\n",
       "  <tbody>\n",
       "    <tr>\n",
       "      <th>0</th>\n",
       "      <td>4.84</td>\n",
       "      <td>4.84</td>\n",
       "    </tr>\n",
       "    <tr>\n",
       "      <th>1</th>\n",
       "      <td>10.24</td>\n",
       "      <td>4.84</td>\n",
       "    </tr>\n",
       "    <tr>\n",
       "      <th>2</th>\n",
       "      <td>17.64</td>\n",
       "      <td>10.24</td>\n",
       "    </tr>\n",
       "    <tr>\n",
       "      <th>3</th>\n",
       "      <td>0.04</td>\n",
       "      <td>0.04</td>\n",
       "    </tr>\n",
       "    <tr>\n",
       "      <th>4</th>\n",
       "      <td>0.64</td>\n",
       "      <td>0.04</td>\n",
       "    </tr>\n",
       "    <tr>\n",
       "      <th>5</th>\n",
       "      <td>3.24</td>\n",
       "      <td>0.64</td>\n",
       "    </tr>\n",
       "  </tbody>\n",
       "</table>\n",
       "</div>"
      ],
      "text/plain": [
       "     lat   long\n",
       "0   4.84   4.84\n",
       "1  10.24   4.84\n",
       "2  17.64  10.24\n",
       "3   0.04   0.04\n",
       "4   0.64   0.04\n",
       "5   3.24   0.64"
      ]
     },
     "execution_count": 4,
     "metadata": {},
     "output_type": "execute_result"
    }
   ],
   "source": [
    "(df[['lat', 'long']] - np.array(tf.loc[0])).pow(2)"
   ]
  },
  {
   "cell_type": "code",
   "execution_count": 5,
   "id": "bf65a886",
   "metadata": {},
   "outputs": [
    {
     "data": {
      "text/plain": [
       "0    3.111270\n",
       "1    3.883298\n",
       "2    5.280152\n",
       "3    0.282843\n",
       "4    0.824621\n",
       "5    1.969772\n",
       "dtype: float64"
      ]
     },
     "execution_count": 5,
     "metadata": {},
     "output_type": "execute_result"
    },
    {
     "data": {
      "text/plain": [
       "0.28284271247461895"
      ]
     },
     "execution_count": 5,
     "metadata": {},
     "output_type": "execute_result"
    },
    {
     "data": {
      "text/plain": [
       "3"
      ]
     },
     "execution_count": 5,
     "metadata": {},
     "output_type": "execute_result"
    }
   ],
   "source": [
    "(df[['lat', 'long']] - np.array(tf.loc[0])).pow(2).sum(1).pow(0.5) # 2**3 = pow(2,3) 2의 3승\n",
    "(df[['lat', 'long']] - np.array(tf.loc[0])).pow(2).sum(1).pow(0.5).min() # 유클리디언거리\n",
    "np.argmin((df[['lat', 'long']] - np.array(tf.loc[0])).pow(2).sum(1).pow(0.5).values) # 제일가까운 인덱스"
   ]
  },
  {
   "cell_type": "markdown",
   "id": "07ec75be",
   "metadata": {},
   "source": [
    "# 3. 사용자 정의함수를 만들어 tf의 각 인스턴스를 반복문으로 수행하여 best friend를 찾기"
   ]
  },
  {
   "cell_type": "code",
   "execution_count": 6,
   "id": "49e1e792",
   "metadata": {},
   "outputs": [],
   "source": [
    "def Euclidean_Dist(values, df):\n",
    "    \n",
    "    print(f'{values}와 거리')\n",
    "    print((df[['lat', 'long']] - values).pow(2).sum(1).pow(0.5))\n",
    "    print((df[['lat', 'long']] - values).pow(2).sum(1).pow(0.5).min()) # 유클리디언거리\n",
    "    \n",
    "    index = np.argmin((df[['lat', 'long']] - values).pow(2).sum(1).pow(0.5).values) # 제일가까운 인덱스\n",
    "    print(f'최근접 인덱스는 {index}')\n",
    "    \n",
    "    return index"
   ]
  },
  {
   "cell_type": "code",
   "execution_count": 7,
   "id": "62fabd87",
   "metadata": {},
   "outputs": [
    {
     "name": "stdout",
     "output_type": "stream",
     "text": [
      "[1.2 1.2]와 거리\n",
      "0    3.111270\n",
      "1    3.883298\n",
      "2    5.280152\n",
      "3    0.282843\n",
      "4    0.824621\n",
      "5    1.969772\n",
      "dtype: float64\n",
      "0.28284271247461895\n",
      "최근접 인덱스는 3\n",
      "****************************************************************************************************\n",
      "[2.4 1.2]와 거리\n",
      "0    4.049691\n",
      "1    4.919350\n",
      "2    6.276942\n",
      "3    1.414214\n",
      "4    0.447214\n",
      "5    1.000000\n",
      "dtype: float64\n",
      "0.4472135954999578\n",
      "최근접 인덱스는 4\n",
      "****************************************************************************************************\n",
      "[3.6 2.4]와 거리\n",
      "0    5.720140\n",
      "1    6.551336\n",
      "2    7.932213\n",
      "3    2.952965\n",
      "4    2.126029\n",
      "5    0.721110\n",
      "dtype: float64\n",
      "0.7211102550927976\n",
      "최근접 인덱스는 5\n",
      "****************************************************************************************************\n",
      "[1.2 1.2]와 거리\n",
      "0    3.111270\n",
      "1    3.883298\n",
      "2    5.280152\n",
      "3    0.282843\n",
      "4    0.824621\n",
      "5    1.969772\n",
      "dtype: float64\n",
      "0.28284271247461895\n",
      "최근접 인덱스는 3\n",
      "****************************************************************************************************\n",
      "[2.4 1.2]와 거리\n",
      "0    4.049691\n",
      "1    4.919350\n",
      "2    6.276942\n",
      "3    1.414214\n",
      "4    0.447214\n",
      "5    1.000000\n",
      "dtype: float64\n",
      "0.4472135954999578\n",
      "최근접 인덱스는 4\n",
      "****************************************************************************************************\n",
      "[3.6 2.4]와 거리\n",
      "0    5.720140\n",
      "1    6.551336\n",
      "2    7.932213\n",
      "3    2.952965\n",
      "4    2.126029\n",
      "5    0.721110\n",
      "dtype: float64\n",
      "0.7211102550927976\n",
      "최근접 인덱스는 5\n",
      "****************************************************************************************************\n"
     ]
    }
   ],
   "source": [
    "neighbors =[]\n",
    "\n",
    "for i in np.arange(len(tf)):\n",
    "    values = tf.loc[i].values\n",
    "    neighbor = Euclidean_Dist(values, df)\n",
    "    print('*'*100)\n",
    "    neighbors.append(neighbor)"
   ]
  },
  {
   "cell_type": "code",
   "execution_count": 8,
   "id": "e167424e",
   "metadata": {},
   "outputs": [
    {
     "data": {
      "text/plain": [
       "[3, 4, 5, 3, 4, 5]"
      ]
     },
     "execution_count": 8,
     "metadata": {},
     "output_type": "execute_result"
    }
   ],
   "source": [
    "neighbors"
   ]
  },
  {
   "cell_type": "markdown",
   "id": "f64dc29d",
   "metadata": {},
   "source": [
    "# 4. tf의 Best Friends"
   ]
  },
  {
   "cell_type": "code",
   "execution_count": 9,
   "id": "e44b12a4",
   "metadata": {},
   "outputs": [
    {
     "data": {
      "text/html": [
       "<div>\n",
       "<style scoped>\n",
       "    .dataframe tbody tr th:only-of-type {\n",
       "        vertical-align: middle;\n",
       "    }\n",
       "\n",
       "    .dataframe tbody tr th {\n",
       "        vertical-align: top;\n",
       "    }\n",
       "\n",
       "    .dataframe thead th {\n",
       "        text-align: right;\n",
       "    }\n",
       "</style>\n",
       "<table border=\"1\" class=\"dataframe\">\n",
       "  <thead>\n",
       "    <tr style=\"text-align: right;\">\n",
       "      <th></th>\n",
       "      <th>lat</th>\n",
       "      <th>long</th>\n",
       "      <th>neighbor_index</th>\n",
       "    </tr>\n",
       "  </thead>\n",
       "  <tbody>\n",
       "    <tr>\n",
       "      <th>0</th>\n",
       "      <td>1.2</td>\n",
       "      <td>1.2</td>\n",
       "      <td>3</td>\n",
       "    </tr>\n",
       "    <tr>\n",
       "      <th>1</th>\n",
       "      <td>2.4</td>\n",
       "      <td>1.2</td>\n",
       "      <td>4</td>\n",
       "    </tr>\n",
       "    <tr>\n",
       "      <th>2</th>\n",
       "      <td>3.6</td>\n",
       "      <td>2.4</td>\n",
       "      <td>5</td>\n",
       "    </tr>\n",
       "    <tr>\n",
       "      <th>3</th>\n",
       "      <td>1.2</td>\n",
       "      <td>1.2</td>\n",
       "      <td>3</td>\n",
       "    </tr>\n",
       "    <tr>\n",
       "      <th>4</th>\n",
       "      <td>2.4</td>\n",
       "      <td>1.2</td>\n",
       "      <td>4</td>\n",
       "    </tr>\n",
       "    <tr>\n",
       "      <th>5</th>\n",
       "      <td>3.6</td>\n",
       "      <td>2.4</td>\n",
       "      <td>5</td>\n",
       "    </tr>\n",
       "  </tbody>\n",
       "</table>\n",
       "</div>"
      ],
      "text/plain": [
       "   lat  long  neighbor_index\n",
       "0  1.2   1.2               3\n",
       "1  2.4   1.2               4\n",
       "2  3.6   2.4               5\n",
       "3  1.2   1.2               3\n",
       "4  2.4   1.2               4\n",
       "5  3.6   2.4               5"
      ]
     },
     "execution_count": 9,
     "metadata": {},
     "output_type": "execute_result"
    }
   ],
   "source": [
    "tf['neighbor_index'] = neighbors\n",
    "tf"
   ]
  },
  {
   "cell_type": "markdown",
   "id": "b6c1bdfb",
   "metadata": {},
   "source": [
    "# End"
   ]
  },
  {
   "cell_type": "code",
   "execution_count": null,
   "id": "1f0b3bbd",
   "metadata": {},
   "outputs": [],
   "source": []
  }
 ],
 "metadata": {
  "kernelspec": {
   "display_name": "Python 3",
   "language": "python",
   "name": "python3"
  },
  "language_info": {
   "codemirror_mode": {
    "name": "ipython",
    "version": 3
   },
   "file_extension": ".py",
   "mimetype": "text/x-python",
   "name": "python",
   "nbconvert_exporter": "python",
   "pygments_lexer": "ipython3",
   "version": "3.8.8"
  }
 },
 "nbformat": 4,
 "nbformat_minor": 5
}
